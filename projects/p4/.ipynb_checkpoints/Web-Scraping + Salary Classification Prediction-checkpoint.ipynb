{
 "cells": [
  {
   "cell_type": "markdown",
   "metadata": {},
   "source": [
    "## Imports"
   ]
  },
  {
   "cell_type": "code",
   "execution_count": 262,
   "metadata": {
    "collapsed": false,
    "focus": false,
    "id": "78446809-fa02-48df-b60f-cbeda175a498"
   },
   "outputs": [],
   "source": [
    "import requests\n",
    "import bs4\n",
    "from bs4 import BeautifulSoup\n",
    "import pandas as pd\n",
    "from sklearn import linear_model, model_selection, tree, ensemble, svm, \\\n",
    "metrics, feature_extraction, neighbors, naive_bayes, feature_selection\n",
    "import xgboost\n",
    "import matplotlib.pyplot as plt\n",
    "import seaborn as sns\n",
    "import math\n",
    "import numpy as np\n",
    "%matplotlib inline"
   ]
  },
  {
   "cell_type": "markdown",
   "metadata": {},
   "source": [
    "## Web Scraping"
   ]
  },
  {
   "cell_type": "code",
   "execution_count": 1,
   "metadata": {
    "collapsed": true
   },
   "outputs": [],
   "source": [
    "cities = ['Atlanta, GA', 'Washington, DC', 'New York, NY', 'New Orleans, LA', 'Boston, MA', \n",
    "         'Austin, TX', 'Seattle, WA', 'San Francisco, CA', 'Detroit, MI', 'Minneapolis, MN',]"
   ]
  },
  {
   "cell_type": "code",
   "execution_count": 4,
   "metadata": {
    "collapsed": false,
    "focus": false,
    "id": "b02e2931-4d5a-4e1e-9504-c6ccaaf84bed"
   },
   "outputs": [],
   "source": [
    "# Template URL\n",
    "url_template = \"http://www.indeed.com/jobs?q=data+scientist&l={}&start={}\""
   ]
  },
  {
   "cell_type": "code",
   "execution_count": 6,
   "metadata": {
    "collapsed": false
   },
   "outputs": [],
   "source": [
    "# for loop to pull data with bs4\n",
    "results = []\n",
    "starts = [] #I want to keep track of what page something appears on\n",
    "city_state = [] #I want to keep track of what city I searched in, since not all results are in the city.\n",
    "for city in cities:\n",
    "    city = city.replace(' ', '+')\n",
    "    for start in range(0,2000,10):\n",
    "        r = requests.get(url_template.format(city, start))\n",
    "        # Grab the results from the request (as above)\n",
    "        soup = BeautifulSoup(r.content, 'lxml')\n",
    "        # Append to the full set of results\n",
    "        results += soup.findAll('div', { \"class\" : \"result\" })\n",
    "        starts.extend([start]*len(soup.findAll('div', { \"class\" : \"result\" })))\n",
    "        city_state.extend([city]*len(soup.findAll('div', { \"class\" : \"result\" })))"
   ]
  },
  {
   "cell_type": "markdown",
   "metadata": {},
   "source": [
    "## Data Extraction"
   ]
  },
  {
   "cell_type": "code",
   "execution_count": 100,
   "metadata": {
    "collapsed": false
   },
   "outputs": [],
   "source": [
    "def extract_text(el):\n",
    "    if el:\n",
    "        return el.text.strip()\n",
    "    else:\n",
    "        return ''\n",
    "extract_text(results[1])\n",
    "\n",
    "# company\n",
    "def get_company_from_result(result):\n",
    "    return extract_text(result.find('span', {'class' : 'company'}))\n",
    "\n",
    "# location\n",
    "def get_location_from_result(result):\n",
    "    return extract_text(result.find('span', {'class':'location'}))\n",
    "\n",
    "# summary\n",
    "def get_summary_from_result(result):\n",
    "    return extract_text(result.find('span', {'class':'summary'}))\n",
    "\n",
    "# title\n",
    "def get_title_from_result(result):\n",
    "    return extract_text(result.find('a', {'data-tn-element' : 'jobTitle'}))\n",
    "\n",
    "# get salary if exists\n",
    "def get_salary_from_result(result):\n",
    "    salary_table = result.find('td', {'class' : 'snip'})\n",
    "    if salary_table:\n",
    "        snip = salary_table.find('nobr')\n",
    "        if snip:\n",
    "            return snip.text.strip()   \n",
    "    return None\n",
    "\n",
    "def get_date_posted(result):\n",
    "    return extract_text(result.find('span', {'class':'date'}))\n",
    "\n",
    "# whether sponsored may be associated with salary (sponsored jobs may indicate a company with more money, or more desperate?)\n",
    "def get_is_sponsored(result):\n",
    "    is_sponsored = extract_text(result.find('span', {'class':'sdn'}))\n",
    "    if is_sponsored:\n",
    "        return is_sponsored\n",
    "    return None\n",
    "\n",
    "# number of reviews may be associated with salary\n",
    "def get_number_reviews(result):\n",
    "    x = extract_text(result.find('span', {'class': 'slNoUnderline'}))\n",
    "    if x:\n",
    "        return x\n",
    "    return None\n",
    "\n",
    "# get star rating\n",
    "import re\n",
    "\n",
    "def get_star_rating(result):\n",
    "    find_rating = result.find('span',{'class':'rating'})\n",
    "    if find_rating:\n",
    "        search_in = str(find_rating)\n",
    "        return 5*float(re.findall('width: (.*)px', search_in)[0])/60\n",
    "    return None"
   ]
  },
  {
   "cell_type": "code",
   "execution_count": 103,
   "metadata": {
    "collapsed": false,
    "focus": false,
    "id": "d601ff2f-fbdf-4c4f-8bbe-10c4a3132cc8"
   },
   "outputs": [],
   "source": [
    "# combine data into dictionaries company location summary title salary\n",
    "rows = []\n",
    "for i, result in enumerate(results):\n",
    "    if result:\n",
    "        row = {'company': get_company_from_result(result),\n",
    "              'location': get_location_from_result(result),\n",
    "              'summary': get_summary_from_result(result),\n",
    "              'title': get_title_from_result(result),\n",
    "              'salary': get_salary_from_result(result),\n",
    "              'date_posted': get_date_posted(result),\n",
    "              'sponsored': get_is_sponsored(result),\n",
    "              'star_rating': get_star_rating(result),\n",
    "              'search_city':city_state[i],\n",
    "              'start': starts[i],\n",
    "              'number_reviews': get_number_reviews(result)}\n",
    "        rows.append(row)\n",
    "\n"
   ]
  },
  {
   "cell_type": "code",
   "execution_count": 138,
   "metadata": {
    "collapsed": false
   },
   "outputs": [],
   "source": [
    "# create dataframe\n",
    "ds_jobs = pd.DataFrame(rows)"
   ]
  },
  {
   "cell_type": "markdown",
   "metadata": {},
   "source": [
    "## Feature Extraction"
   ]
  },
  {
   "cell_type": "code",
   "execution_count": 174,
   "metadata": {
    "collapsed": false
   },
   "outputs": [],
   "source": [
    "# making a copy so I can refer to original if needed without having to re-run\n",
    "ds_jobs_clean = ds_jobs.copy()\n",
    "\n",
    "# drop duplicates (not considering 'start' column because I want to eliminate things that appeared more than once)\n",
    "ds_jobs_clean.drop_duplicates([x for x in ds_jobs.columns if x != 'start'], inplace=True)"
   ]
  },
  {
   "cell_type": "code",
   "execution_count": 175,
   "metadata": {
    "collapsed": false
   },
   "outputs": [],
   "source": [
    "# Extracting yearly salary from various data formats\n",
    "import re\n",
    "import numpy as np\n",
    "def get_standardized_salary(salary_string):\n",
    "    if salary_string:\n",
    "        if re.findall('(.*) a year', salary_string):\n",
    "            matches = re.findall('([0-9]+,[0-9]+)', salary_string)\n",
    "            return np.mean([float(salary.replace(',', '')) for salary in matches ])\n",
    "        elif re.findall('(.*) a month', salary_string):\n",
    "            matches = re.findall('([0-9]+,[0-9]+|[0-9]+)', salary_string)\n",
    "            return np.mean([float(salary.replace(',', '')) for salary in matches ])*12\n",
    "        elif re.findall('(.*) a week', salary_string):\n",
    "            matches = re.findall('([0-9]+,[0-9]+|[0-9]+)', salary_string)\n",
    "            return np.mean([float(salary.replace(',', '')) for salary in matches ])*52\n",
    "        elif re.findall('(.*) a day', salary_string):\n",
    "            matches = re.findall('([0-9]+,[0-9]+|[0-9]+)', salary_string)\n",
    "            return np.mean([float(salary.replace(',', '')) for salary in matches ])*5*52\n",
    "        elif re.findall('(.*) an hour', salary_string):\n",
    "            matches = re.findall('([0-9]+\\.[0-9]+|[0-9]+)', salary_string)\n",
    "            return np.mean([float(salary.replace(',', '')) for salary in matches ])*8*5*52\n",
    "    else:\n",
    "        return None\n",
    "\n",
    "# How paid (monthly, yearly, etc.) may affect outcome so I want to keep track of that \n",
    "def get_how_paid(salary_string):\n",
    "    if salary_string:\n",
    "        if re.findall('(.*) a year', salary_string):\n",
    "            return 'yearly'\n",
    "        elif re.findall('(.*) a month', salary_string):\n",
    "            return 'monthly'\n",
    "        elif re.findall('(.*) a week', salary_string):\n",
    "            return 'weekly'\n",
    "        elif re.findall('(.*) a day', salary_string):\n",
    "            return 'daily'\n",
    "        elif re.findall('(.*) an hour', salary_string):\n",
    "            return 'hourly'\n",
    "        else:\n",
    "            return None\n",
    "\n",
    "# Applying formulas\n",
    "ds_jobs_clean['how_paid'] = ds_jobs_clean.salary.apply(get_how_paid)\n",
    "ds_jobs_clean['annual_salary'] = ds_jobs_clean.salary.apply(get_standardized_salary)"
   ]
  },
  {
   "cell_type": "code",
   "execution_count": 176,
   "metadata": {
    "collapsed": false
   },
   "outputs": [],
   "source": [
    "# my cities have '+' in place of spaces because of how I had to input them into the URL, so I want to fix that\n",
    "ds_jobs_clean.search_city = ds_jobs_clean.search_city.str.replace('+' ,' ')\n",
    "\n",
    "# number of reviews has # and \"reviews\" so I want to clean that up and convert to numeric\n",
    "ds_jobs_clean.number_reviews = pd.to_numeric(ds_jobs_clean.number_reviews.str.replace(' reviews' ,'').str.replace(',' ,''))\n",
    "# To use number of reviews, I will have to fill NaN with 0 reviews, since ones with 0 reviews would just show up as Nans\n",
    "ds_jobs_clean.number_reviews.fillna(0, inplace=True)\n",
    "\n",
    "# sponsored has mutliple options, and I just want to have a dummy variable of whether something is sponsored or not\n",
    "ds_jobs_clean['is_sponsored'] = ds_jobs_clean.sponsored.apply(lambda x: 1 if x else 0)"
   ]
  },
  {
   "cell_type": "code",
   "execution_count": 177,
   "metadata": {
    "collapsed": false
   },
   "outputs": [],
   "source": [
    "#Converting time_since_posted to categorical\n",
    "def categorize_time_since_posted(time_since_posted_str):\n",
    "    categories = ['in the last day', '1-6 days ago', '7-12 days ago', '13-18 days ago', '19-24 days ago', '25-30 days ago', 'more than 30 days ago']\n",
    "    if re.findall('hour', time_since_posted_str) or re.findall('minutes', time_since_posted_str):\n",
    "        return categories[0]\n",
    "    elif re.findall('30\\+', time_since_posted_str):\n",
    "        return categories[-1]\n",
    "    elif re.findall('(.*) day', time_since_posted_str):\n",
    "        days_ago = int(re.findall('(.*) day', time_since_posted_str)[0])\n",
    "        if days_ago <= 6:\n",
    "            return categories[1]\n",
    "        elif days_ago <= 12:\n",
    "            return categories[2]\n",
    "        elif days_ago <= 18:\n",
    "            return categories[3]\n",
    "        elif days_ago <= 24:\n",
    "            return categories[4]\n",
    "        else:\n",
    "            return categories[5]\n",
    "#applying the function\n",
    "ds_jobs_clean['time_since_posted'] = ds_jobs_clean.date_posted.apply(categorize_time_since_posted)"
   ]
  },
  {
   "cell_type": "code",
   "execution_count": 178,
   "metadata": {
    "collapsed": false
   },
   "outputs": [],
   "source": [
    "# examine where location is not the same as the search city (since some have zip codes for example, must do a regex)\n",
    "# I want to use this information to determine whether a job is in the city or not (assuming jobs in the city would pay more)\n",
    "def in_city_proper(search_city, location):\n",
    "    if re.findall(search_city, location):\n",
    "        return 1\n",
    "    else:\n",
    "        return 0\n",
    "ds_jobs_clean['in_city'] = ds_jobs_clean.apply(lambda x: in_city_proper(x.search_city, x.location), axis=1)"
   ]
  },
  {
   "cell_type": "code",
   "execution_count": 179,
   "metadata": {
    "collapsed": false
   },
   "outputs": [],
   "source": [
    "# convert \"start\" column to something that actually shows me what page something is on.\n",
    "def convert_to_page(start_value):\n",
    "    start = range(0,2000,10)\n",
    "    page = range(1,201)\n",
    "    d = {start:page for start, page in zip(start, page)} \n",
    "    return d[start_value]\n",
    "\n",
    "# applying\n",
    "ds_jobs_clean.ix[:,'page'] = ds_jobs_clean.start.apply(convert_to_page)"
   ]
  },
  {
   "cell_type": "code",
   "execution_count": 180,
   "metadata": {
    "collapsed": false
   },
   "outputs": [],
   "source": [
    "# Categorical variable for expensive vs non-expensive cities\n",
    "expensive_cities = ['Washington, DC', 'San Francisco, CA', 'Boston, MA', 'New York, NY']\n",
    "ds_jobs_clean['expensive_city'] = ds_jobs_clean.search_city.apply(lambda x: 1 if x in expensive_cities else 0)"
   ]
  },
  {
   "cell_type": "code",
   "execution_count": 181,
   "metadata": {
    "collapsed": false
   },
   "outputs": [],
   "source": [
    "# creating a function that will recode into 'high', 'low', and 'no' ratings \n",
    "# choosing 4 as the cut-off for high vs low because about half the data is above, half below, and there's a big gap between the two groups\n",
    "def recode_star_rating(rating):\n",
    "    if np.isnan(rating) == False:\n",
    "        if rating >=4:\n",
    "            return 'high_rating'\n",
    "        else:\n",
    "            return 'low_rating'\n",
    "    else:\n",
    "        return 'no_rating'\n",
    "\n",
    "# applying the function\n",
    "ds_jobs_clean['rating_cat'] = ds_jobs_clean.star_rating.apply(recode_star_rating)"
   ]
  },
  {
   "cell_type": "code",
   "execution_count": 182,
   "metadata": {
    "collapsed": true
   },
   "outputs": [],
   "source": [
    "# I want to export the data for visualization in Tableau without the superfluous categories\n",
    "col = [x for x in ds_jobs_clean.columns if x not in ['location', 'salary', 'sponsored', 'start', 'date_posted']]\n",
    "\n",
    "ds_jobs_clean[col].to_csv('data_science_jobs2.csv', encoding='utf-8')"
   ]
  },
  {
   "cell_type": "code",
   "execution_count": 183,
   "metadata": {
    "collapsed": false,
    "focus": false,
    "id": "634ab7c1-c76f-4b04-a36e-5ff3cb1f9eb2"
   },
   "outputs": [],
   "source": [
    "# load in the the data of scraped salaries\n",
    "jobs = pd.read_csv('data_science_jobs2.csv').drop('Unnamed: 0', axis=1)"
   ]
  },
  {
   "cell_type": "code",
   "execution_count": 184,
   "metadata": {
    "collapsed": false
   },
   "outputs": [],
   "source": [
    "# Making a subset with only jobs with salary included so I can make a model.\n",
    "jobs_w_salary = jobs[jobs.annual_salary.notnull()].copy()"
   ]
  },
  {
   "cell_type": "code",
   "execution_count": 185,
   "metadata": {
    "collapsed": false
   },
   "outputs": [
    {
     "name": "stdout",
     "output_type": "stream",
     "text": [
      "median salary: 100000.0\n"
     ]
    }
   ],
   "source": [
    "# calculate median and create feature with 1 as high salary\n",
    "jobs_w_salary['high_paid'] = jobs_w_salary.annual_salary.apply(lambda x: 1 if x> jobs_w_salary.annual_salary.median() else 0)\n",
    "print 'median salary:', jobs_w_salary.annual_salary.median()"
   ]
  },
  {
   "cell_type": "markdown",
   "metadata": {},
   "source": [
    "## Data Visualization"
   ]
  },
  {
   "cell_type": "code",
   "execution_count": 65,
   "metadata": {
    "collapsed": false,
    "scrolled": true
   },
   "outputs": [
    {
     "data": {
      "text/html": [
       "<div class='tableauPlaceholder' id='viz1479819998036' style='position: relative'>\n",
       "<noscript>\n",
       "<a href='#'>\n",
       "<img alt='Data Science Job Salaries ' src='https:&#47;&#47;public.tableau.com&#47;static&#47;images&#47;TB&#47;TB2QTWF6S&#47;1_rss.png' style='border: none' />\n",
       "</a></noscript>\n",
       "<object class='tableauViz'  style='display:none;'>\n",
       "<param name='host_url' value='https%3A%2F%2Fpublic.tableau.com%2F' /> \n",
       "<param name='path' value='shared&#47;TB2QTWF6S' />\n",
       "<param name='toolbar' value='yes' />\n",
       "<param name='static_image' value='https:&#47;&#47;public.tableau.com&#47;static&#47;images&#47;TB&#47;TB2QTWF6S&#47;1.png' />\n",
       "<param name='animate_transition' value='yes' />\n",
       "<param name='display_static_image' value='yes' />\n",
       "<param name='display_spinner' value='yes' />\n",
       "<param name='display_overlay' value='yes' />\n",
       "<param name='display_count' value='yes' />\n",
       "</object>\n",
       "</div>                \n",
       "<script type='text/javascript'>                    \n",
       "var divElement = document.getElementById('viz1479819998036');                    \n",
       "var vizElement = divElement.getElementsByTagName('object')[0];                    \n",
       "vizElement.style.width='1020px';vizElement.style.height='633px';                    \n",
       "var scriptElement = document.createElement('script');                    \n",
       "scriptElement.src = 'https://public.tableau.com/javascripts/api/viz_v1.js';                    \n",
       "vizElement.parentNode.insertBefore(scriptElement, vizElement);                \n",
       "</script>"
      ],
      "text/plain": [
       "<IPython.core.display.HTML object>"
      ]
     },
     "metadata": {},
     "output_type": "display_data"
    },
    {
     "name": "stdout",
     "output_type": "stream",
     "text": [
      "\n"
     ]
    }
   ],
   "source": [
    "%%html\n",
    "<div class='tableauPlaceholder' id='viz1479819998036' style='position: relative'>\n",
    "<noscript>\n",
    "<a href='#'>\n",
    "<img alt='Data Science Job Salaries ' src='https:&#47;&#47;public.tableau.com&#47;static&#47;images&#47;TB&#47;TB2QTWF6S&#47;1_rss.png' style='border: none' />\n",
    "</a></noscript>\n",
    "<object class='tableauViz'  style='display:none;'>\n",
    "<param name='host_url' value='https%3A%2F%2Fpublic.tableau.com%2F' /> \n",
    "<param name='path' value='shared&#47;TB2QTWF6S' />\n",
    "<param name='toolbar' value='yes' />\n",
    "<param name='static_image' value='https:&#47;&#47;public.tableau.com&#47;static&#47;images&#47;TB&#47;TB2QTWF6S&#47;1.png' />\n",
    "<param name='animate_transition' value='yes' />\n",
    "<param name='display_static_image' value='yes' />\n",
    "<param name='display_spinner' value='yes' />\n",
    "<param name='display_overlay' value='yes' />\n",
    "<param name='display_count' value='yes' />\n",
    "</object>\n",
    "</div>                \n",
    "<script type='text/javascript'>                    \n",
    "var divElement = document.getElementById('viz1479819998036');                    \n",
    "var vizElement = divElement.getElementsByTagName('object')[0];                    \n",
    "vizElement.style.width='1020px';vizElement.style.height='633px';                    \n",
    "var scriptElement = document.createElement('script');                    \n",
    "scriptElement.src = 'https://public.tableau.com/javascripts/api/viz_v1.js';                    \n",
    "vizElement.parentNode.insertBefore(scriptElement, vizElement);                \n",
    "</script>"
   ]
  },
  {
   "cell_type": "markdown",
   "metadata": {},
   "source": [
    "## Word Feature Extraction"
   ]
  },
  {
   "cell_type": "code",
   "execution_count": 186,
   "metadata": {
    "collapsed": false
   },
   "outputs": [],
   "source": [
    "# creating a function that I can use to filter out many different types of jobs\n",
    "def word_filter(wordlist, title):\n",
    "    for word in wordlist:\n",
    "        if re.findall(word.lower(), title.lower()):\n",
    "            return 1\n",
    "    else:\n",
    "        return 0"
   ]
  },
  {
   "cell_type": "code",
   "execution_count": 187,
   "metadata": {
    "collapsed": false
   },
   "outputs": [],
   "source": [
    "# categorizing job titles that suggest a higher-level job\n",
    "high_level_words = ['senior', 'lead', 'manager', 'director', 'president', 'sr', 'vp', 'vice', 'chief', 'executive']\n",
    "jobs_w_salary['is_high_level'] = jobs_w_salary.title.apply(lambda x: word_filter(high_level_words, x))\n",
    "\n",
    "# data with the word science may be important\n",
    "jobs_w_salary['ds_in_name'] = jobs_w_salary.title.apply(lambda x: word_filter(['data scien'], x))\n",
    "\n",
    "# Since machine learning is a pretty advanced part of data science, I thought it might influence salary.\n",
    "jobs_w_salary['ml_in_name'] = jobs_w_salary.title.apply(lambda x: word_filter(['machine learning'], x))"
   ]
  },
  {
   "cell_type": "code",
   "execution_count": 188,
   "metadata": {
    "collapsed": false
   },
   "outputs": [],
   "source": [
    "# Extract counts of top 20 features from Job Summaries\n",
    "summaryVectorizer = feature_extraction.text.CountVectorizer(max_features=20,stop_words=\"english\")\n",
    "summaryVectorizer.fit(jobs_w_salary.summary)\n",
    "\n",
    "summaryCol = [x + '_in_summary' for x in summaryVectorizer.get_feature_names()]\n",
    "\n",
    "summaryVectorDF  = pd.DataFrame(summaryVectorizer.transform(jobs_w_salary.summary).todense(),\n",
    "              columns=summaryCol)\n",
    "\n",
    "# Extract counts of top 20 features from Job Titles\n",
    "titleVectorizer = feature_extraction.text.CountVectorizer(max_features=20,stop_words=\"english\")\n",
    "titleVectorizer.fit(jobs_w_salary.title)\n",
    "\n",
    "titleCol = [x + '_in_title' for x in titleVectorizer.get_feature_names()]\n",
    "\n",
    "titleVectorDF  = pd.DataFrame(titleVectorizer.transform(jobs_w_salary.title).todense(),\n",
    "              columns=titleCol)\n",
    "\n",
    "# Consolidate\n",
    "df_with_wordcounts = jobs_w_salary.copy()\n",
    "df_with_wordcounts = pd.concat([df_with_wordcounts.reset_index(drop=True), summaryVectorDF, titleVectorDF], axis=1)"
   ]
  },
  {
   "cell_type": "markdown",
   "metadata": {
    "focus": false,
    "id": "6e8a5a1c-1580-4845-a9b6-482bc00c73cd"
   },
   "source": [
    "## Predicting Salaries"
   ]
  },
  {
   "cell_type": "code",
   "execution_count": 332,
   "metadata": {
    "collapsed": true
   },
   "outputs": [],
   "source": [
    "def model_summary(model, X, y):\n",
    "    cv = model_selection.StratifiedKFold(shuffle=True, n_splits=5)\n",
    "    scores = model_selection.cross_val_score(model, X, y, cv=cv)\n",
    "    print 'mean cross-val accuracy score: ', scores.mean(), \"+/-\", scores.std()\n",
    "    \n",
    "    y_pred = model_selection.cross_val_predict(model, X, y, cv=cv)\n",
    "   \n",
    "    print metrics.classification_report(y, y_pred)\n",
    "    \n",
    "    y_score = model_selection.cross_val_predict(model, X, y, method='predict_proba')[:,1]\n",
    "    fpr, tpr, thresholds = metrics.roc_curve(y, y_score)\n",
    "    print 'AUC:', metrics.auc(fpr, tpr)"
   ]
  },
  {
   "cell_type": "code",
   "execution_count": 248,
   "metadata": {
    "collapsed": true
   },
   "outputs": [],
   "source": [
    "X = pd.get_dummies(df_with_wordcounts.drop(['company', 'summary', 'title', 'time_since_posted', 'star_rating', 'high_paid', 'how_paid', 'annual_salary'], axis=1))\n",
    "y = df_with_wordcounts.high_paid"
   ]
  },
  {
   "cell_type": "markdown",
   "metadata": {},
   "source": [
    "##### Feature Selection"
   ]
  },
  {
   "cell_type": "code",
   "execution_count": 308,
   "metadata": {
    "collapsed": false
   },
   "outputs": [
    {
     "data": {
      "image/png": "[encoded data removed]",
      "text/plain": [
       "<matplotlib.figure.Figure at 0x27094fa90>"
      ]
     },
     "metadata": {},
     "output_type": "display_data"
    }
   ],
   "source": [
    "cv = model_selection.KFold(shuffle=True, n_splits=10)\n",
    "rfecv = feature_selection.RFECV(linear_model.LogisticRegression(), cv=cv)\n",
    "rfecv.fit(X, y)\n",
    "cols = rfecv.get_support()\n",
    "X2 = X[X.columns[cols]]\n",
    "\n",
    "plt.figure()\n",
    "plt.xlabel(\"Number of features selected\")\n",
    "plt.ylabel(\"Cross validation score (nb of correct classifications)\")\n",
    "plt.plot(range(1, len(rfecv.grid_scores_) + 1), rfecv.grid_scores_)\n",
    "plt.show()"
   ]
  },
  {
   "cell_type": "markdown",
   "metadata": {},
   "source": [
    "##### Application"
   ]
  },
  {
   "cell_type": "code",
   "execution_count": 333,
   "metadata": {
    "collapsed": false
   },
   "outputs": [
    {
     "name": "stdout",
     "output_type": "stream",
     "text": [
      "mean cross-val accuracy score:  0.825248392753 +/- 0.0425540776049\n",
      "             precision    recall  f1-score   support\n",
      "\n",
      "          0       0.84      0.82      0.83       150\n",
      "          1       0.81      0.83      0.82       142\n",
      "\n",
      "avg / total       0.83      0.83      0.83       292\n",
      "\n",
      "AUC: 0.894014084507\n"
     ]
    }
   ],
   "source": [
    "model_summary(linear_model.LogisticRegressionCV(), X2, y)"
   ]
  },
  {
   "cell_type": "code",
   "execution_count": 334,
   "metadata": {
    "collapsed": false
   },
   "outputs": [
    {
     "name": "stdout",
     "output_type": "stream",
     "text": [
      "mean cross-val accuracy score:  0.821858562244 +/- 0.0444525231664\n",
      "             precision    recall  f1-score   support\n",
      "\n",
      "          0       0.83      0.85      0.84       150\n",
      "          1       0.83      0.82      0.83       142\n",
      "\n",
      "avg / total       0.83      0.83      0.83       292\n",
      "\n",
      "AUC: 0.883685446009\n"
     ]
    }
   ],
   "source": [
    "model_summary(linear_model.LogisticRegressionCV(penalty='l1', solver='liblinear'), X2, y)"
   ]
  },
  {
   "cell_type": "code",
   "execution_count": 335,
   "metadata": {
    "collapsed": false
   },
   "outputs": [
    {
     "name": "stdout",
     "output_type": "stream",
     "text": [
      "mean cross-val accuracy score:  0.821858562244 +/- 0.0387350301281\n",
      "             precision    recall  f1-score   support\n",
      "\n",
      "          0       0.81      0.85      0.83       150\n",
      "          1       0.83      0.79      0.81       142\n",
      "\n",
      "avg / total       0.82      0.82      0.82       292\n",
      "\n",
      "AUC: 0.863028169014\n"
     ]
    }
   ],
   "source": [
    "model_summary(ensemble.RandomForestClassifier(), X2, y)"
   ]
  },
  {
   "cell_type": "code",
   "execution_count": 336,
   "metadata": {
    "collapsed": false
   },
   "outputs": [
    {
     "name": "stdout",
     "output_type": "stream",
     "text": [
      "mean cross-val accuracy score:  0.82162478083 +/- 0.0567945110531\n",
      "             precision    recall  f1-score   support\n",
      "\n",
      "          0       0.82      0.85      0.83       150\n",
      "          1       0.84      0.80      0.82       142\n",
      "\n",
      "avg / total       0.83      0.83      0.83       292\n",
      "\n",
      "AUC: 0.887840375587\n"
     ]
    }
   ],
   "source": [
    "model_summary(xgboost.XGBClassifier(), X2, y)"
   ]
  },
  {
   "cell_type": "code",
   "execution_count": 313,
   "metadata": {
    "collapsed": false
   },
   "outputs": [
    {
     "name": "stdout",
     "output_type": "stream",
     "text": [
      "mean cross-val accuracy score:  0.818850574713 +/- 0.0601912660255\n",
      "             precision    recall  f1-score   support\n",
      "\n",
      "          0       0.80      0.84      0.82       150\n",
      "          1       0.82      0.78      0.80       142\n",
      "\n",
      "avg / total       0.81      0.81      0.81       292\n",
      "\n",
      "AUC: 0.879741784038\n"
     ]
    }
   ],
   "source": [
    "model_summary(naive_bayes.BernoulliNB(), X2, y)"
   ]
  },
  {
   "cell_type": "markdown",
   "metadata": {},
   "source": [
    "Logistic Regression is the best model, plus it allows for better interpretation, so I will use that model"
   ]
  },
  {
   "cell_type": "code",
   "execution_count": 384,
   "metadata": {
    "collapsed": false
   },
   "outputs": [
    {
     "name": "stdout",
     "output_type": "stream",
     "text": [
      "accuracy: 0.835616438356\n"
     ]
    },
    {
     "data": {
      "text/html": [
       "<div>\n",
       "<table border=\"1\" class=\"dataframe\">\n",
       "  <thead>\n",
       "    <tr style=\"text-align: right;\">\n",
       "      <th>actual</th>\n",
       "      <th>0</th>\n",
       "      <th>1</th>\n",
       "    </tr>\n",
       "    <tr>\n",
       "      <th>cross_val_pred</th>\n",
       "      <th></th>\n",
       "      <th></th>\n",
       "    </tr>\n",
       "  </thead>\n",
       "  <tbody>\n",
       "    <tr>\n",
       "      <th>0</th>\n",
       "      <td>128</td>\n",
       "      <td>26</td>\n",
       "    </tr>\n",
       "    <tr>\n",
       "      <th>1</th>\n",
       "      <td>22</td>\n",
       "      <td>116</td>\n",
       "    </tr>\n",
       "  </tbody>\n",
       "</table>\n",
       "</div>"
      ],
      "text/plain": [
       "actual            0    1\n",
       "cross_val_pred          \n",
       "0               128   26\n",
       "1                22  116"
      ]
     },
     "execution_count": 384,
     "metadata": {},
     "output_type": "execute_result"
    }
   ],
   "source": [
    "# confusion matrix\n",
    "predictions = model_selection.cross_val_predict(linear_model.LogisticRegressionCV(), X2, y)\n",
    "actual_vs_cross_val_pred = pd.DataFrame([predictions, list(y.values)]).transpose()\n",
    "actual_vs_cross_val_pred.columns = ['cross_val_pred', 'actual']\n",
    "print 'accuracy:', metrics.accuracy_score(predictions, y)\n",
    "pd.crosstab(actual_vs_cross_val_pred.cross_val_pred, actual_vs_cross_val_pred.actual)"
   ]
  },
  {
   "cell_type": "markdown",
   "metadata": {},
   "source": [
    "## Interpretation"
   ]
  },
  {
   "cell_type": "code",
   "execution_count": 358,
   "metadata": {
    "collapsed": false
   },
   "outputs": [],
   "source": [
    "features = list(X2.columns.values)\n",
    "features.append('intercept')\n",
    "\n",
    "coefficients = list(log_regCV.coef_[0,:].round(3))\n",
    "coefficients.append(log_regCV.intercept_[0])"
   ]
  },
  {
   "cell_type": "code",
   "execution_count": 380,
   "metadata": {
    "collapsed": false,
    "scrolled": false
   },
   "outputs": [
    {
     "name": "stderr",
     "output_type": "stream",
     "text": [
      "/anaconda/envs/py27/lib/python2.7/site-packages/ipykernel/__main__.py:20: SettingWithCopyWarning: \n",
      "A value is trying to be set on a copy of a slice from a DataFrame\n",
      "\n",
      "See the caveats in the documentation: http://pandas.pydata.org/pandas-docs/stable/indexing.html#indexing-view-versus-copy\n"
     ]
    },
    {
     "data": {
      "text/html": [
       "<div>\n",
       "<table border=\"1\" class=\"dataframe\">\n",
       "  <thead>\n",
       "    <tr style=\"text-align: right;\">\n",
       "      <th></th>\n",
       "      <th>*features</th>\n",
       "      <th>coefficients</th>\n",
       "      <th>odds_ratio</th>\n",
       "      <th>interpretation</th>\n",
       "    </tr>\n",
       "  </thead>\n",
       "  <tbody>\n",
       "    <tr>\n",
       "      <th>7</th>\n",
       "      <td>associate_in_title</td>\n",
       "      <td>-2.519000</td>\n",
       "      <td>0.081</td>\n",
       "      <td>1134.57% lower odds</td>\n",
       "    </tr>\n",
       "    <tr>\n",
       "      <th>17</th>\n",
       "      <td>intercept</td>\n",
       "      <td>-2.476641</td>\n",
       "      <td>0.084</td>\n",
       "      <td>Base Odds: 1 to 11.9</td>\n",
       "    </tr>\n",
       "    <tr>\n",
       "      <th>13</th>\n",
       "      <td>risk_in_title</td>\n",
       "      <td>-1.695000</td>\n",
       "      <td>0.184</td>\n",
       "      <td>443.48% lower odds</td>\n",
       "    </tr>\n",
       "    <tr>\n",
       "      <th>6</th>\n",
       "      <td>assistant_in_title</td>\n",
       "      <td>-1.500000</td>\n",
       "      <td>0.223</td>\n",
       "      <td>348.43% lower odds</td>\n",
       "    </tr>\n",
       "    <tr>\n",
       "      <th>5</th>\n",
       "      <td>analyst_in_title</td>\n",
       "      <td>-1.298000</td>\n",
       "      <td>0.273</td>\n",
       "      <td>266.3% lower odds</td>\n",
       "    </tr>\n",
       "    <tr>\n",
       "      <th>12</th>\n",
       "      <td>research_in_title</td>\n",
       "      <td>-1.017000</td>\n",
       "      <td>0.362</td>\n",
       "      <td>176.24% lower odds</td>\n",
       "    </tr>\n",
       "    <tr>\n",
       "      <th>16</th>\n",
       "      <td>search_city_Seattle, WA</td>\n",
       "      <td>-0.716000</td>\n",
       "      <td>0.489</td>\n",
       "      <td>104.5% lower odds</td>\n",
       "    </tr>\n",
       "    <tr>\n",
       "      <th>4</th>\n",
       "      <td>scientist_in_summary</td>\n",
       "      <td>0.981000</td>\n",
       "      <td>2.667</td>\n",
       "      <td>166.7% greater odds</td>\n",
       "    </tr>\n",
       "    <tr>\n",
       "      <th>3</th>\n",
       "      <td>looking_in_summary</td>\n",
       "      <td>1.292000</td>\n",
       "      <td>3.640</td>\n",
       "      <td>264.0% greater odds</td>\n",
       "    </tr>\n",
       "    <tr>\n",
       "      <th>14</th>\n",
       "      <td>science_in_title</td>\n",
       "      <td>1.302000</td>\n",
       "      <td>3.677</td>\n",
       "      <td>267.7% greater odds</td>\n",
       "    </tr>\n",
       "    <tr>\n",
       "      <th>2</th>\n",
       "      <td>ds_in_name</td>\n",
       "      <td>1.368000</td>\n",
       "      <td>3.927</td>\n",
       "      <td>292.7% greater odds</td>\n",
       "    </tr>\n",
       "    <tr>\n",
       "      <th>10</th>\n",
       "      <td>machine_in_title</td>\n",
       "      <td>1.471000</td>\n",
       "      <td>4.354</td>\n",
       "      <td>335.4% greater odds</td>\n",
       "    </tr>\n",
       "    <tr>\n",
       "      <th>1</th>\n",
       "      <td>expensive_city</td>\n",
       "      <td>1.476000</td>\n",
       "      <td>4.375</td>\n",
       "      <td>337.5% greater odds</td>\n",
       "    </tr>\n",
       "    <tr>\n",
       "      <th>9</th>\n",
       "      <td>learning_in_title</td>\n",
       "      <td>1.479000</td>\n",
       "      <td>4.389</td>\n",
       "      <td>338.9% greater odds</td>\n",
       "    </tr>\n",
       "    <tr>\n",
       "      <th>8</th>\n",
       "      <td>engineer_in_title</td>\n",
       "      <td>1.588000</td>\n",
       "      <td>4.894</td>\n",
       "      <td>389.4% greater odds</td>\n",
       "    </tr>\n",
       "    <tr>\n",
       "      <th>0</th>\n",
       "      <td>in_city</td>\n",
       "      <td>1.612000</td>\n",
       "      <td>5.013</td>\n",
       "      <td>401.3% greater odds</td>\n",
       "    </tr>\n",
       "    <tr>\n",
       "      <th>15</th>\n",
       "      <td>software_in_title</td>\n",
       "      <td>1.717000</td>\n",
       "      <td>5.568</td>\n",
       "      <td>456.8% greater odds</td>\n",
       "    </tr>\n",
       "    <tr>\n",
       "      <th>11</th>\n",
       "      <td>quantitative_in_title</td>\n",
       "      <td>2.453000</td>\n",
       "      <td>11.623</td>\n",
       "      <td>1062.3% greater odds</td>\n",
       "    </tr>\n",
       "  </tbody>\n",
       "</table>\n",
       "</div>"
      ],
      "text/plain": [
       "                  *features  coefficients  odds_ratio        interpretation\n",
       "7        associate_in_title     -2.519000       0.081   1134.57% lower odds\n",
       "17                intercept     -2.476641       0.084  Base Odds: 1 to 11.9\n",
       "13            risk_in_title     -1.695000       0.184    443.48% lower odds\n",
       "6        assistant_in_title     -1.500000       0.223    348.43% lower odds\n",
       "5          analyst_in_title     -1.298000       0.273     266.3% lower odds\n",
       "12        research_in_title     -1.017000       0.362    176.24% lower odds\n",
       "16  search_city_Seattle, WA     -0.716000       0.489     104.5% lower odds\n",
       "4      scientist_in_summary      0.981000       2.667   166.7% greater odds\n",
       "3        looking_in_summary      1.292000       3.640   264.0% greater odds\n",
       "14         science_in_title      1.302000       3.677   267.7% greater odds\n",
       "2                ds_in_name      1.368000       3.927   292.7% greater odds\n",
       "10         machine_in_title      1.471000       4.354   335.4% greater odds\n",
       "1            expensive_city      1.476000       4.375   337.5% greater odds\n",
       "9         learning_in_title      1.479000       4.389   338.9% greater odds\n",
       "8         engineer_in_title      1.588000       4.894   389.4% greater odds\n",
       "0                   in_city      1.612000       5.013   401.3% greater odds\n",
       "15        software_in_title      1.717000       5.568   456.8% greater odds\n",
       "11    quantitative_in_title      2.453000      11.623  1062.3% greater odds"
      ]
     },
     "execution_count": 380,
     "metadata": {},
     "output_type": "execute_result"
    }
   ],
   "source": [
    "log_regCV = linear_model.LogisticRegressionCV()\n",
    "log_regCV.fit(X2, y)\n",
    "\n",
    "df = pd.DataFrame({'*features' : features, \n",
    "                   'coefficients': coefficients})\n",
    "df['odds_ratio'] = (math.e**df.coefficients).round(3)\n",
    "def interpretation(odds_ratio):\n",
    "    if odds_ratio == 1.0:\n",
    "        return \"no change\"\n",
    "    elif odds_ratio < 1:\n",
    "        inv = odds_ratio**-1\n",
    "        pct = round((100*(inv-1)), 2)\n",
    "        return str(pct)+'% lower odds'\n",
    "    else:\n",
    "        pct = round((100*(odds_ratio-1)), 2)\n",
    "        return str(pct)+'% greater odds'\n",
    "df['interpretation'] = df.odds_ratio.apply(interpretation)\n",
    "\n",
    "odds = np.e**log_regCV.intercept_[0]\n",
    "df.interpretation[df['*features'] == 'intercept'] = 'Base Odds: 1 to ' + str((odds**-1).round(2))\n",
    "\n",
    "df.sort_values('coefficients')"
   ]
  }
 ],
 "metadata": {
  "anaconda-cloud": {},
  "kernelspec": {
   "display_name": "Python [conda env:py27]",
   "language": "python",
   "name": "conda-env-py27-py"
  },
  "language_info": {
   "codemirror_mode": {
    "name": "ipython",
    "version": 2
   },
   "file_extension": ".py",
   "mimetype": "text/x-python",
   "name": "python",
   "nbconvert_exporter": "python",
   "pygments_lexer": "ipython2",
   "version": "2.7.12"
  }
 },
 "nbformat": 4,
 "nbformat_minor": 0
}
