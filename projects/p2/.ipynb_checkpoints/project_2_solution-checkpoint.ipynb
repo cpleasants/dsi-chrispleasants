{
 "cells": [
  {
   "cell_type": "markdown",
   "metadata": {
    "focus": true,
    "id": "263eb813-da45-48cf-9a8f-9da76c18e470"
   },
   "source": [
    "# Project 2\n",
    "## Step 1: Exploring your data.\n",
    "\n",
    "##### Load your data in using Pandas and start to explore. Save all of your early exploration code here and include in your final submission."
   ]
  },
  {
   "cell_type": "code",
   "execution_count": 3,
   "metadata": {
    "collapsed": false,
    "focus": false,
    "id": "b733d2fe-6d33-41dd-a3fc-5dfe9d71d91f"
   },
   "outputs": [],
   "source": [
    "import pandas as pd\n",
    "import numpy as np\n",
    "import matplotlib.pyplot as plt\n",
    "import seaborn as sns\n",
    "%matplotlib inline\n",
    "billboard = pd.read_csv('assets/billboard.csv')"
   ]
  },
  {
   "cell_type": "markdown",
   "metadata": {
    "focus": false,
    "id": "94514384-cf79-4e7a-a09b-02cddc91e77c"
   },
   "source": [
    "##### Write a brief description of your data, and any interesting observations you've made thus far. "
   ]
  },
  {
   "cell_type": "code",
   "execution_count": 6,
   "metadata": {
    "collapsed": false,
    "focus": false,
    "id": "33a9e3f0-a29d-4b02-90bd-528bdb44fb78"
   },
   "outputs": [
    {
     "data": {
      "text/plain": [
       "(317, 83)"
      ]
     },
     "execution_count": 6,
     "metadata": {},
     "output_type": "execute_result"
    }
   ],
   "source": [
    "#investigating overall layout of the file\n",
    "billboard.shape"
   ]
  },
  {
   "cell_type": "code",
   "execution_count": 51,
   "metadata": {
    "collapsed": false
   },
   "outputs": [
    {
     "data": {
      "text/plain": [
       "year                 int64\n",
       "artist.inverted     object\n",
       "track               object\n",
       "time                object\n",
       "genre               object\n",
       "date.entered        object\n",
       "date.peaked         object\n",
       "x1st.week            int64\n",
       "x2nd.week          float64\n",
       "x3rd.week          float64\n",
       "x4th.week          float64\n",
       "x5th.week          float64\n",
       "x6th.week          float64\n",
       "x7th.week          float64\n",
       "x8th.week          float64\n",
       "x9th.week          float64\n",
       "x10th.week         float64\n",
       "x11th.week         float64\n",
       "x12th.week         float64\n",
       "x13th.week         float64\n",
       "x14th.week         float64\n",
       "x15th.week         float64\n",
       "x16th.week         float64\n",
       "x17th.week         float64\n",
       "x18th.week         float64\n",
       "x19th.week         float64\n",
       "x20th.week         float64\n",
       "x21st.week         float64\n",
       "x22nd.week         float64\n",
       "x23rd.week         float64\n",
       "                    ...   \n",
       "x48th.week         float64\n",
       "x49th.week         float64\n",
       "x50th.week         float64\n",
       "x51st.week         float64\n",
       "x52nd.week         float64\n",
       "x53rd.week         float64\n",
       "x54th.week         float64\n",
       "x55th.week         float64\n",
       "x56th.week         float64\n",
       "x57th.week         float64\n",
       "x58th.week         float64\n",
       "x59th.week         float64\n",
       "x60th.week         float64\n",
       "x61st.week         float64\n",
       "x62nd.week         float64\n",
       "x63rd.week         float64\n",
       "x64th.week         float64\n",
       "x65th.week         float64\n",
       "x66th.week         float64\n",
       "x67th.week         float64\n",
       "x68th.week         float64\n",
       "x69th.week         float64\n",
       "x70th.week         float64\n",
       "x71st.week         float64\n",
       "x72nd.week         float64\n",
       "x73rd.week         float64\n",
       "x74th.week         float64\n",
       "x75th.week         float64\n",
       "x76th.week         float64\n",
       "time_float         float64\n",
       "dtype: object"
      ]
     },
     "execution_count": 51,
     "metadata": {},
     "output_type": "execute_result"
    }
   ],
   "source": [
    "#see column names and types\n",
    "billboard.dtypes"
   ]
  },
  {
   "cell_type": "code",
   "execution_count": 54,
   "metadata": {
    "collapsed": false,
    "scrolled": true
   },
   "outputs": [
    {
     "name": "stdout",
     "output_type": "stream",
     "text": [
      "('year', 0)\n",
      "('artist.inverted', 0)\n",
      "('track', 0)\n",
      "('time', 0)\n",
      "('genre', 0)\n",
      "('date.entered', 0)\n",
      "('date.peaked', 0)\n",
      "('x1st.week', 0)\n",
      "('x2nd.week', 5)\n",
      "('x3rd.week', 10)\n",
      "('x4th.week', 17)\n",
      "('x5th.week', 25)\n",
      "('x6th.week', 37)\n",
      "('x7th.week', 48)\n",
      "('x8th.week', 57)\n",
      "('x9th.week', 64)\n",
      "('x10th.week', 73)\n",
      "('x11th.week', 81)\n",
      "('x12th.week', 95)\n",
      "('x13th.week', 107)\n",
      "('x14th.week', 113)\n",
      "('x15th.week', 120)\n",
      "('x16th.week', 135)\n",
      "('x17th.week', 140)\n",
      "('x18th.week', 151)\n",
      "('x19th.week', 161)\n",
      "('x20th.week', 171)\n",
      "('x21st.week', 252)\n",
      "('x22nd.week', 262)\n",
      "('x23rd.week', 269)\n",
      "('x24th.week', 271)\n",
      "('x25th.week', 279)\n",
      "('x26th.week', 281)\n",
      "('x27th.week', 288)\n",
      "('x28th.week', 293)\n",
      "('x29th.week', 297)\n",
      "('x30th.week', 297)\n",
      "('x31st.week', 298)\n",
      "('x32nd.week', 299)\n",
      "('x33rd.week', 305)\n",
      "('x34th.week', 307)\n",
      "('x35th.week', 308)\n",
      "('x36th.week', 308)\n",
      "('x37th.week', 308)\n",
      "('x38th.week', 309)\n",
      "('x39th.week', 309)\n",
      "('x40th.week', 310)\n",
      "('x41st.week', 310)\n",
      "('x42nd.week', 311)\n",
      "('x43rd.week', 311)\n",
      "('x44th.week', 311)\n",
      "('x45th.week', 312)\n",
      "('x46th.week', 312)\n",
      "('x47th.week', 312)\n",
      "('x48th.week', 313)\n",
      "('x49th.week', 313)\n",
      "('x50th.week', 313)\n",
      "('x51st.week', 313)\n",
      "('x52nd.week', 313)\n",
      "('x53rd.week', 313)\n",
      "('x54th.week', 315)\n",
      "('x55th.week', 315)\n",
      "('x56th.week', 315)\n",
      "('x57th.week', 315)\n",
      "('x58th.week', 315)\n",
      "('x59th.week', 315)\n",
      "('x60th.week', 315)\n",
      "('x61st.week', 315)\n",
      "('x62nd.week', 315)\n",
      "('x63rd.week', 315)\n",
      "('x64th.week', 315)\n",
      "('x65th.week', 316)\n",
      "('x66th.week', 317)\n",
      "('x67th.week', 317)\n",
      "('x68th.week', 317)\n",
      "('x69th.week', 317)\n",
      "('x70th.week', 317)\n",
      "('x71st.week', 317)\n",
      "('x72nd.week', 317)\n",
      "('x73rd.week', 317)\n",
      "('x74th.week', 317)\n",
      "('x75th.week', 317)\n",
      "('x76th.week', 317)\n",
      "('time_float', 0)\n"
     ]
    }
   ],
   "source": [
    "#Count null values for each column\n",
    "for column in billboard.columns:\n",
    "    print(column, billboard[billboard[column].isnull()].shape[0])"
   ]
  },
  {
   "cell_type": "code",
   "execution_count": 58,
   "metadata": {
    "collapsed": false
   },
   "outputs": [
    {
     "data": {
      "text/html": [
       "<div>\n",
       "<table border=\"1\" class=\"dataframe\">\n",
       "  <thead>\n",
       "    <tr style=\"text-align: right;\">\n",
       "      <th></th>\n",
       "      <th>year</th>\n",
       "      <th>x1st.week</th>\n",
       "      <th>time_float</th>\n",
       "    </tr>\n",
       "  </thead>\n",
       "  <tbody>\n",
       "    <tr>\n",
       "      <th>count</th>\n",
       "      <td>317.0</td>\n",
       "      <td>317.000000</td>\n",
       "      <td>317.000000</td>\n",
       "    </tr>\n",
       "    <tr>\n",
       "      <th>mean</th>\n",
       "      <td>2000.0</td>\n",
       "      <td>79.958991</td>\n",
       "      <td>4.040431</td>\n",
       "    </tr>\n",
       "    <tr>\n",
       "      <th>std</th>\n",
       "      <td>0.0</td>\n",
       "      <td>14.686865</td>\n",
       "      <td>0.706694</td>\n",
       "    </tr>\n",
       "    <tr>\n",
       "      <th>min</th>\n",
       "      <td>2000.0</td>\n",
       "      <td>15.000000</td>\n",
       "      <td>2.600000</td>\n",
       "    </tr>\n",
       "    <tr>\n",
       "      <th>25%</th>\n",
       "      <td>2000.0</td>\n",
       "      <td>74.000000</td>\n",
       "      <td>3.650000</td>\n",
       "    </tr>\n",
       "    <tr>\n",
       "      <th>50%</th>\n",
       "      <td>2000.0</td>\n",
       "      <td>81.000000</td>\n",
       "      <td>3.933333</td>\n",
       "    </tr>\n",
       "    <tr>\n",
       "      <th>75%</th>\n",
       "      <td>2000.0</td>\n",
       "      <td>91.000000</td>\n",
       "      <td>4.283333</td>\n",
       "    </tr>\n",
       "    <tr>\n",
       "      <th>max</th>\n",
       "      <td>2000.0</td>\n",
       "      <td>100.000000</td>\n",
       "      <td>7.833333</td>\n",
       "    </tr>\n",
       "  </tbody>\n",
       "</table>\n",
       "</div>"
      ],
      "text/plain": [
       "         year   x1st.week  time_float\n",
       "count   317.0  317.000000  317.000000\n",
       "mean   2000.0   79.958991    4.040431\n",
       "std       0.0   14.686865    0.706694\n",
       "min    2000.0   15.000000    2.600000\n",
       "25%    2000.0   74.000000    3.650000\n",
       "50%    2000.0   81.000000    3.933333\n",
       "75%    2000.0   91.000000    4.283333\n",
       "max    2000.0  100.000000    7.833333"
      ]
     },
     "execution_count": 58,
     "metadata": {},
     "output_type": "execute_result"
    }
   ],
   "source": [
    "#describe columns without missing values (skips object dtypes)\n",
    "#created a list of columns without missing values to apply to billboards\n",
    "no_nans = [column for column in billboard.columns if billboard[billboard[column].isnull()].shape[0] == 0]\n",
    "billboard[no_nans].describe()"
   ]
  },
  {
   "cell_type": "code",
   "execution_count": 60,
   "metadata": {
    "collapsed": false,
    "scrolled": true
   },
   "outputs": [
    {
     "data": {
      "text/plain": [
       "Jay-Z                           5\n",
       "Houston, Whitney                4\n",
       "Dixie Chicks, The               4\n",
       "DMX                             3\n",
       "Aguilera, Christina             3\n",
       "McGraw, Tim                     3\n",
       "Backstreet Boys, The            3\n",
       "Thomas, Carl                    3\n",
       "N'Sync                          3\n",
       "Destiny's Child                 3\n",
       "SheDaisy                        3\n",
       "Sisqo                           3\n",
       "Braxton, Toni                   3\n",
       "Limp Bizkit                     3\n",
       "Price, Kelly                    3\n",
       "Spears, Britney                 3\n",
       "Rimes, LeAnn                    3\n",
       "Eminem                          3\n",
       "Lonestar                        3\n",
       "Martin, Ricky                   3\n",
       "Jackson, Alan                   3\n",
       "Jagged Edge                     2\n",
       "McEntire, Reba                  2\n",
       "3 Doors Down                    2\n",
       "D'Angelo                        2\n",
       "Eve                             2\n",
       "Nine Days                       2\n",
       "Anthony, Marc                   2\n",
       "Paisley, Brad                   2\n",
       "Hill, Faith                     2\n",
       "                               ..\n",
       "Bega, Lou                       1\n",
       "Griggs, Andy                    1\n",
       "2Ge+her                         1\n",
       "Kenny G                         1\n",
       "Gill, Vince                     1\n",
       "Stone, Angie                    1\n",
       "Moore, Mandy                    1\n",
       "Nas                             1\n",
       "R.E.M.                          1\n",
       "Next                            1\n",
       "Sammie                          1\n",
       "Cagle, Chris                    1\n",
       "Ja Rule                         1\n",
       "Lil Bow Wow                     1\n",
       "Black Rob                       1\n",
       "Moore, Chante                   1\n",
       "Tippin, Aaron                   1\n",
       "Drama                           1\n",
       "LL Cool J                       1\n",
       "Carter, Torrey                  1\n",
       "Trina                           1\n",
       "Papa Roach                      1\n",
       "Musiq                           1\n",
       "Anastacia                       1\n",
       "Master P                        1\n",
       "Elliott, Missy \"Misdemeanor\"    1\n",
       "Lil' Mo                         1\n",
       "Bon Jovi                        1\n",
       "Goo Goo Dolls                   1\n",
       "Clark Family Experience         1\n",
       "Name: artist.inverted, dtype: int64"
      ]
     },
     "execution_count": 60,
     "metadata": {},
     "output_type": "execute_result"
    }
   ],
   "source": [
    "#examine artist.inverted\n",
    "billboard['artist.inverted'].value_counts()"
   ]
  },
  {
   "cell_type": "code",
   "execution_count": 36,
   "metadata": {
    "collapsed": false,
    "scrolled": true
   },
   "outputs": [
    {
     "name": "stdout",
     "output_type": "stream",
     "text": [
      "0\n"
     ]
    },
    {
     "data": {
      "text/plain": [
       "Where I Wanna Be                       2\n",
       "If You Don't Wanna Love Me             1\n",
       "Just Be A Man About It                 1\n",
       "With Arms Wide Open                    1\n",
       "Girls Dem Sugar                        1\n",
       "More                                   1\n",
       "Rhythm Divine                          1\n",
       "Case Of The Ex (Whatcha Gonna Do)      1\n",
       "Pull Over                              1\n",
       "Without You                            1\n",
       "We Danced                              1\n",
       "911                                    1\n",
       "Left, Right, Left                      1\n",
       "N 2 Gether Now                         1\n",
       "I Lost It                              1\n",
       "Otherside                              1\n",
       "A Country Boy Can Survive              1\n",
       "Rollin'                                1\n",
       "Shackles (Praise You)                  1\n",
       "American Pie                           1\n",
       "I Think I'm In Love With You           1\n",
       "Feelin' Good                           1\n",
       "What You Want                          1\n",
       "Been There                             1\n",
       "Back At One                            1\n",
       "It's My Life                           1\n",
       "Baby Don't Cry (Keep Ya Head Up II)    1\n",
       "The Next Episode                       1\n",
       "Goodbye Earl                           1\n",
       "Me Neither                             1\n",
       "                                      ..\n",
       "My Best Friend                         1\n",
       "Last Resort                            1\n",
       "Pop Ya Collar                          1\n",
       "Your Everything                        1\n",
       "Sexual (Li Da Di)                      1\n",
       "Could I Have This Kiss Forever         1\n",
       "One Voice                              1\n",
       "Maria, Maria                           1\n",
       "Prayin' For Daylight                   1\n",
       "Don't Think I'm Not                    1\n",
       "Bounce With Me                         1\n",
       "That's The Way                         1\n",
       "Another Dumb Blonde                    1\n",
       "Emotional                              1\n",
       "Where You Are                          1\n",
       "Try Again                              1\n",
       "Go On                                  1\n",
       "Got To Get It                          1\n",
       "Dear Lie                               1\n",
       "Carlene                                1\n",
       "This I Promise You                     1\n",
       "Open My Heart                          1\n",
       "Only God Knows Why                     1\n",
       "Oops!.. I Did It Again                 1\n",
       "Ryde or Die, Chick                     1\n",
       "I Like It                              1\n",
       "Feels Like Love                        1\n",
       "A Little Gasoline                      1\n",
       "Faded                                  1\n",
       "You Can Do It                          1\n",
       "Name: track, dtype: int64"
      ]
     },
     "execution_count": 36,
     "metadata": {},
     "output_type": "execute_result"
    }
   ],
   "source": [
    "#examine 'track'\n",
    "billboard['track'].value_counts()"
   ]
  },
  {
   "cell_type": "code",
   "execution_count": 61,
   "metadata": {
    "collapsed": false
   },
   "outputs": [
    {
     "data": {
      "text/plain": [
       "118    Jones, Donell\n",
       "305    Sheist, Shade\n",
       "Name: artist.inverted, dtype: object"
      ]
     },
     "execution_count": 61,
     "metadata": {},
     "output_type": "execute_result"
    }
   ],
   "source": [
    "#noticed there was more than one track with the same name - investigated to see if it was an duplicate\n",
    "billboard['artist.inverted'][billboard['track'] == 'Where I Wanna Be']"
   ]
  },
  {
   "cell_type": "code",
   "execution_count": 34,
   "metadata": {
    "collapsed": false,
    "scrolled": true
   },
   "outputs": [
    {
     "name": "stdout",
     "output_type": "stream",
     "text": [
      "0\n"
     ]
    },
    {
     "data": {
      "text/plain": [
       "3:50    9\n",
       "3:55    7\n",
       "3:54    7\n",
       "3:52    6\n",
       "4:06    6\n",
       "3:46    6\n",
       "3:51    6\n",
       "4:02    6\n",
       "4:00    6\n",
       "3:30    6\n",
       "4:12    6\n",
       "4:17    6\n",
       "3:45    6\n",
       "3:56    5\n",
       "4:10    5\n",
       "4:07    5\n",
       "4:18    5\n",
       "3:19    5\n",
       "3:48    5\n",
       "4:16    5\n",
       "3:23    5\n",
       "4:23    5\n",
       "3:40    4\n",
       "3:43    4\n",
       "3:44    4\n",
       "4:04    4\n",
       "4:30    4\n",
       "4:05    4\n",
       "4:13    4\n",
       "3:37    3\n",
       "       ..\n",
       "6:20    1\n",
       "4:40    1\n",
       "3:20    1\n",
       "5:02    1\n",
       "5:30    1\n",
       "4:25    1\n",
       "4:26    1\n",
       "4:27    1\n",
       "4:21    1\n",
       "7:35    1\n",
       "3:07    1\n",
       "3:39    1\n",
       "3:49    1\n",
       "5:10    1\n",
       "5:28    1\n",
       "7:10    1\n",
       "3:09    1\n",
       "3:08    1\n",
       "4:33    1\n",
       "3:03    1\n",
       "3:02    1\n",
       "5:33    1\n",
       "6:50    1\n",
       "4:51    1\n",
       "5:19    1\n",
       "5:16    1\n",
       "2:52    1\n",
       "5:12    1\n",
       "5:13    1\n",
       "7:50    1\n",
       "Name: time, dtype: int64"
      ]
     },
     "execution_count": 34,
     "metadata": {},
     "output_type": "execute_result"
    }
   ],
   "source": [
    "# investigate 'time'\n",
    "billboard['time'].value_counts()"
   ]
  },
  {
   "cell_type": "code",
   "execution_count": 62,
   "metadata": {
    "collapsed": false
   },
   "outputs": [
    {
     "data": {
      "text/plain": [
       "13.833333333333334"
      ]
     },
     "execution_count": 62,
     "metadata": {},
     "output_type": "execute_result"
    }
   ],
   "source": [
    "#'time' column is listed as a object-dtype but would be more useful as a float.\n",
    "# made a function to convert a string in format 'min:sec' to a float in minutes\n",
    "def minsec_to_float(string):\n",
    "    min_sec = string.split(':')\n",
    "    min_float = float(min_sec[0]) + float(min_sec[1])/60\n",
    "    return min_float\n",
    "#Test the function\n",
    "minsec_to_float('3:50')"
   ]
  },
  {
   "cell_type": "code",
   "execution_count": 46,
   "metadata": {
    "collapsed": false,
    "scrolled": true
   },
   "outputs": [
    {
     "data": {
      "text/html": [
       "<div>\n",
       "<table border=\"1\" class=\"dataframe\">\n",
       "  <thead>\n",
       "    <tr style=\"text-align: right;\">\n",
       "      <th></th>\n",
       "      <th>time_float</th>\n",
       "      <th>time</th>\n",
       "    </tr>\n",
       "  </thead>\n",
       "  <tbody>\n",
       "    <tr>\n",
       "      <th>0</th>\n",
       "      <td>3.633333</td>\n",
       "      <td>3:38</td>\n",
       "    </tr>\n",
       "    <tr>\n",
       "      <th>1</th>\n",
       "      <td>4.300000</td>\n",
       "      <td>4:18</td>\n",
       "    </tr>\n",
       "    <tr>\n",
       "      <th>2</th>\n",
       "      <td>4.116667</td>\n",
       "      <td>4:07</td>\n",
       "    </tr>\n",
       "    <tr>\n",
       "      <th>3</th>\n",
       "      <td>3.750000</td>\n",
       "      <td>3:45</td>\n",
       "    </tr>\n",
       "    <tr>\n",
       "      <th>4</th>\n",
       "      <td>3.633333</td>\n",
       "      <td>3:38</td>\n",
       "    </tr>\n",
       "    <tr>\n",
       "      <th>5</th>\n",
       "      <td>4.283333</td>\n",
       "      <td>4:17</td>\n",
       "    </tr>\n",
       "    <tr>\n",
       "      <th>6</th>\n",
       "      <td>4.516667</td>\n",
       "      <td>4:31</td>\n",
       "    </tr>\n",
       "    <tr>\n",
       "      <th>7</th>\n",
       "      <td>3.600000</td>\n",
       "      <td>3:36</td>\n",
       "    </tr>\n",
       "    <tr>\n",
       "      <th>8</th>\n",
       "      <td>3.866667</td>\n",
       "      <td>3:52</td>\n",
       "    </tr>\n",
       "    <tr>\n",
       "      <th>9</th>\n",
       "      <td>4.416667</td>\n",
       "      <td>4:25</td>\n",
       "    </tr>\n",
       "    <tr>\n",
       "      <th>10</th>\n",
       "      <td>3.166667</td>\n",
       "      <td>3:10</td>\n",
       "    </tr>\n",
       "    <tr>\n",
       "      <th>11</th>\n",
       "      <td>3.300000</td>\n",
       "      <td>3:18</td>\n",
       "    </tr>\n",
       "    <tr>\n",
       "      <th>12</th>\n",
       "      <td>4.016667</td>\n",
       "      <td>4:01</td>\n",
       "    </tr>\n",
       "    <tr>\n",
       "      <th>13</th>\n",
       "      <td>3.866667</td>\n",
       "      <td>3:52</td>\n",
       "    </tr>\n",
       "    <tr>\n",
       "      <th>14</th>\n",
       "      <td>4.050000</td>\n",
       "      <td>4:03</td>\n",
       "    </tr>\n",
       "    <tr>\n",
       "      <th>15</th>\n",
       "      <td>4.200000</td>\n",
       "      <td>4:12</td>\n",
       "    </tr>\n",
       "    <tr>\n",
       "      <th>16</th>\n",
       "      <td>4.233333</td>\n",
       "      <td>4:14</td>\n",
       "    </tr>\n",
       "    <tr>\n",
       "      <th>17</th>\n",
       "      <td>4.066667</td>\n",
       "      <td>4:04</td>\n",
       "    </tr>\n",
       "    <tr>\n",
       "      <th>18</th>\n",
       "      <td>3.833333</td>\n",
       "      <td>3:50</td>\n",
       "    </tr>\n",
       "    <tr>\n",
       "      <th>19</th>\n",
       "      <td>3.716667</td>\n",
       "      <td>3:43</td>\n",
       "    </tr>\n",
       "    <tr>\n",
       "      <th>20</th>\n",
       "      <td>4.350000</td>\n",
       "      <td>4:21</td>\n",
       "    </tr>\n",
       "    <tr>\n",
       "      <th>21</th>\n",
       "      <td>3.833333</td>\n",
       "      <td>3:50</td>\n",
       "    </tr>\n",
       "    <tr>\n",
       "      <th>22</th>\n",
       "      <td>3.400000</td>\n",
       "      <td>3:24</td>\n",
       "    </tr>\n",
       "    <tr>\n",
       "      <th>23</th>\n",
       "      <td>3.800000</td>\n",
       "      <td>3:48</td>\n",
       "    </tr>\n",
       "    <tr>\n",
       "      <th>24</th>\n",
       "      <td>3.883333</td>\n",
       "      <td>3:53</td>\n",
       "    </tr>\n",
       "    <tr>\n",
       "      <th>25</th>\n",
       "      <td>4.083333</td>\n",
       "      <td>4:05</td>\n",
       "    </tr>\n",
       "    <tr>\n",
       "      <th>26</th>\n",
       "      <td>4.000000</td>\n",
       "      <td>4:00</td>\n",
       "    </tr>\n",
       "    <tr>\n",
       "      <th>27</th>\n",
       "      <td>4.266667</td>\n",
       "      <td>4:16</td>\n",
       "    </tr>\n",
       "    <tr>\n",
       "      <th>28</th>\n",
       "      <td>4.950000</td>\n",
       "      <td>4:57</td>\n",
       "    </tr>\n",
       "    <tr>\n",
       "      <th>29</th>\n",
       "      <td>4.566667</td>\n",
       "      <td>4:34</td>\n",
       "    </tr>\n",
       "    <tr>\n",
       "      <th>...</th>\n",
       "      <td>...</td>\n",
       "      <td>...</td>\n",
       "    </tr>\n",
       "    <tr>\n",
       "      <th>287</th>\n",
       "      <td>3.250000</td>\n",
       "      <td>3:15</td>\n",
       "    </tr>\n",
       "    <tr>\n",
       "      <th>288</th>\n",
       "      <td>3.733333</td>\n",
       "      <td>3:44</td>\n",
       "    </tr>\n",
       "    <tr>\n",
       "      <th>289</th>\n",
       "      <td>3.800000</td>\n",
       "      <td>3:48</td>\n",
       "    </tr>\n",
       "    <tr>\n",
       "      <th>290</th>\n",
       "      <td>4.133333</td>\n",
       "      <td>4:08</td>\n",
       "    </tr>\n",
       "    <tr>\n",
       "      <th>291</th>\n",
       "      <td>4.183333</td>\n",
       "      <td>4:11</td>\n",
       "    </tr>\n",
       "    <tr>\n",
       "      <th>292</th>\n",
       "      <td>3.900000</td>\n",
       "      <td>3:54</td>\n",
       "    </tr>\n",
       "    <tr>\n",
       "      <th>293</th>\n",
       "      <td>4.033333</td>\n",
       "      <td>4:02</td>\n",
       "    </tr>\n",
       "    <tr>\n",
       "      <th>294</th>\n",
       "      <td>4.166667</td>\n",
       "      <td>4:10</td>\n",
       "    </tr>\n",
       "    <tr>\n",
       "      <th>295</th>\n",
       "      <td>3.783333</td>\n",
       "      <td>3:47</td>\n",
       "    </tr>\n",
       "    <tr>\n",
       "      <th>296</th>\n",
       "      <td>3.383333</td>\n",
       "      <td>3:23</td>\n",
       "    </tr>\n",
       "    <tr>\n",
       "      <th>297</th>\n",
       "      <td>4.233333</td>\n",
       "      <td>4:14</td>\n",
       "    </tr>\n",
       "    <tr>\n",
       "      <th>298</th>\n",
       "      <td>3.766667</td>\n",
       "      <td>3:46</td>\n",
       "    </tr>\n",
       "    <tr>\n",
       "      <th>299</th>\n",
       "      <td>5.166667</td>\n",
       "      <td>5:10</td>\n",
       "    </tr>\n",
       "    <tr>\n",
       "      <th>300</th>\n",
       "      <td>4.716667</td>\n",
       "      <td>4:43</td>\n",
       "    </tr>\n",
       "    <tr>\n",
       "      <th>301</th>\n",
       "      <td>4.016667</td>\n",
       "      <td>4:01</td>\n",
       "    </tr>\n",
       "    <tr>\n",
       "      <th>302</th>\n",
       "      <td>2.966667</td>\n",
       "      <td>2:58</td>\n",
       "    </tr>\n",
       "    <tr>\n",
       "      <th>303</th>\n",
       "      <td>4.283333</td>\n",
       "      <td>4:17</td>\n",
       "    </tr>\n",
       "    <tr>\n",
       "      <th>304</th>\n",
       "      <td>3.733333</td>\n",
       "      <td>3:44</td>\n",
       "    </tr>\n",
       "    <tr>\n",
       "      <th>305</th>\n",
       "      <td>4.266667</td>\n",
       "      <td>4:16</td>\n",
       "    </tr>\n",
       "    <tr>\n",
       "      <th>306</th>\n",
       "      <td>5.033333</td>\n",
       "      <td>5:02</td>\n",
       "    </tr>\n",
       "    <tr>\n",
       "      <th>307</th>\n",
       "      <td>4.033333</td>\n",
       "      <td>4:02</td>\n",
       "    </tr>\n",
       "    <tr>\n",
       "      <th>308</th>\n",
       "      <td>4.400000</td>\n",
       "      <td>4:24</td>\n",
       "    </tr>\n",
       "    <tr>\n",
       "      <th>309</th>\n",
       "      <td>4.100000</td>\n",
       "      <td>4:06</td>\n",
       "    </tr>\n",
       "    <tr>\n",
       "      <th>310</th>\n",
       "      <td>4.000000</td>\n",
       "      <td>4:00</td>\n",
       "    </tr>\n",
       "    <tr>\n",
       "      <th>311</th>\n",
       "      <td>3.550000</td>\n",
       "      <td>3:33</td>\n",
       "    </tr>\n",
       "    <tr>\n",
       "      <th>312</th>\n",
       "      <td>3.066667</td>\n",
       "      <td>3:04</td>\n",
       "    </tr>\n",
       "    <tr>\n",
       "      <th>313</th>\n",
       "      <td>3.966667</td>\n",
       "      <td>3:58</td>\n",
       "    </tr>\n",
       "    <tr>\n",
       "      <th>314</th>\n",
       "      <td>3.500000</td>\n",
       "      <td>3:30</td>\n",
       "    </tr>\n",
       "    <tr>\n",
       "      <th>315</th>\n",
       "      <td>3.966667</td>\n",
       "      <td>3:58</td>\n",
       "    </tr>\n",
       "    <tr>\n",
       "      <th>316</th>\n",
       "      <td>3.366667</td>\n",
       "      <td>3:22</td>\n",
       "    </tr>\n",
       "  </tbody>\n",
       "</table>\n",
       "<p>317 rows × 2 columns</p>\n",
       "</div>"
      ],
      "text/plain": [
       "     time_float  time\n",
       "0      3.633333  3:38\n",
       "1      4.300000  4:18\n",
       "2      4.116667  4:07\n",
       "3      3.750000  3:45\n",
       "4      3.633333  3:38\n",
       "5      4.283333  4:17\n",
       "6      4.516667  4:31\n",
       "7      3.600000  3:36\n",
       "8      3.866667  3:52\n",
       "9      4.416667  4:25\n",
       "10     3.166667  3:10\n",
       "11     3.300000  3:18\n",
       "12     4.016667  4:01\n",
       "13     3.866667  3:52\n",
       "14     4.050000  4:03\n",
       "15     4.200000  4:12\n",
       "16     4.233333  4:14\n",
       "17     4.066667  4:04\n",
       "18     3.833333  3:50\n",
       "19     3.716667  3:43\n",
       "20     4.350000  4:21\n",
       "21     3.833333  3:50\n",
       "22     3.400000  3:24\n",
       "23     3.800000  3:48\n",
       "24     3.883333  3:53\n",
       "25     4.083333  4:05\n",
       "26     4.000000  4:00\n",
       "27     4.266667  4:16\n",
       "28     4.950000  4:57\n",
       "29     4.566667  4:34\n",
       "..          ...   ...\n",
       "287    3.250000  3:15\n",
       "288    3.733333  3:44\n",
       "289    3.800000  3:48\n",
       "290    4.133333  4:08\n",
       "291    4.183333  4:11\n",
       "292    3.900000  3:54\n",
       "293    4.033333  4:02\n",
       "294    4.166667  4:10\n",
       "295    3.783333  3:47\n",
       "296    3.383333  3:23\n",
       "297    4.233333  4:14\n",
       "298    3.766667  3:46\n",
       "299    5.166667  5:10\n",
       "300    4.716667  4:43\n",
       "301    4.016667  4:01\n",
       "302    2.966667  2:58\n",
       "303    4.283333  4:17\n",
       "304    3.733333  3:44\n",
       "305    4.266667  4:16\n",
       "306    5.033333  5:02\n",
       "307    4.033333  4:02\n",
       "308    4.400000  4:24\n",
       "309    4.100000  4:06\n",
       "310    4.000000  4:00\n",
       "311    3.550000  3:33\n",
       "312    3.066667  3:04\n",
       "313    3.966667  3:58\n",
       "314    3.500000  3:30\n",
       "315    3.966667  3:58\n",
       "316    3.366667  3:22\n",
       "\n",
       "[317 rows x 2 columns]"
      ]
     },
     "execution_count": 46,
     "metadata": {},
     "output_type": "execute_result"
    }
   ],
   "source": [
    "#apply the function to 'time', return to new column in case of errors/bugs/fails\n",
    "billboard['time_float'] = billboard['time'].apply(minsec_to_float)\n",
    "\n",
    "#print the new and old columns side-by-side to see if it seems to have worked\n",
    "billboard[['time_float', 'time']]"
   ]
  },
  {
   "cell_type": "code",
   "execution_count": 48,
   "metadata": {
    "collapsed": false
   },
   "outputs": [
    {
     "name": "stdout",
     "output_type": "stream",
     "text": [
      "count    317.000000\n",
      "mean       4.040431\n",
      "std        0.706694\n",
      "min        2.600000\n",
      "25%        3.650000\n",
      "50%        3.933333\n",
      "75%        4.283333\n",
      "max        7.833333\n",
      "Name: time_float, dtype: float64\n"
     ]
    },
    {
     "data": {
      "text/plain": [
       "<matplotlib.axes._subplots.AxesSubplot at 0x10de5ec10>"
      ]
     },
     "execution_count": 48,
     "metadata": {},
     "output_type": "execute_result"
    },
    {
     "data": {
      "image/png": "[encoded data removed]",
      "text/plain": [
       "<matplotlib.figure.Figure at 0x10dde37d0>"
      ]
     },
     "metadata": {},
     "output_type": "display_data"
    }
   ],
   "source": [
    "# investigate 'time_float'\n",
    "print(billboard['time_float'].describe())\n",
    "sns.distplot(billboard['time_float'])"
   ]
  },
  {
   "cell_type": "code",
   "execution_count": null,
   "metadata": {
    "collapsed": true
   },
   "outputs": [],
   "source": []
  },
  {
   "cell_type": "markdown",
   "metadata": {
    "focus": false,
    "id": "888b6223-3bb4-4d91-b753-4867a3a1b281"
   },
   "source": [
    "## Step 2: Clean your data."
   ]
  },
  {
   "cell_type": "markdown",
   "metadata": {
    "focus": false,
    "id": "8a273328-6d9f-4dfc-88f8-a0c18e4d7f90"
   },
   "source": [
    "##### Do some rudimentary cleaning. Rename any columns that are poorly named, shorten any strings that may be too long, check for missing values (and replace them if it makes sense to do so). Explain your rationale for the way you choose to \"impute\" the missing data."
   ]
  },
  {
   "cell_type": "code",
   "execution_count": null,
   "metadata": {
    "collapsed": true,
    "focus": false,
    "id": "00022458-8edc-4f84-8492-0be04397fa64"
   },
   "outputs": [],
   "source": []
  },
  {
   "cell_type": "markdown",
   "metadata": {
    "focus": false,
    "id": "604ee5d7-10ed-4d14-9f86-16a6b240c00d"
   },
   "source": [
    "##### Using Pandas' built in `melt` function, pivot the weekly ranking data to be long rather than wide. As a result, you will have removed the 72 'week' columns and replace it with two: Week and Ranking. There will now be multiple entries for each song, one for each week on the Billboard rankings."
   ]
  },
  {
   "cell_type": "code",
   "execution_count": null,
   "metadata": {
    "collapsed": true,
    "focus": false,
    "id": "bf0161ca-0fcb-4883-a216-93fd7ffa6456"
   },
   "outputs": [],
   "source": []
  },
  {
   "cell_type": "markdown",
   "metadata": {
    "focus": false,
    "id": "2023c5a8-1f4e-4d83-9a52-c41a5090af74"
   },
   "source": [
    "## Step 3: Visualize your data."
   ]
  },
  {
   "cell_type": "markdown",
   "metadata": {
    "focus": false,
    "id": "dfaca026-8eca-4119-b4c1-e43433790c8e"
   },
   "source": [
    "##### Using a plotting utility of your choice (Tableau or python modules or both), create visualizations that will provide context to your data. There is no minimum or maximum number of graphs you should generate, but there should be a clear and consistent story being told. Give insights to the distribution, statistics, and relationships of the data. "
   ]
  },
  {
   "cell_type": "code",
   "execution_count": null,
   "metadata": {
    "collapsed": true,
    "focus": false,
    "id": "aa0c535c-497c-4f10-b695-540612ca534e"
   },
   "outputs": [],
   "source": []
  },
  {
   "cell_type": "markdown",
   "metadata": {
    "focus": false,
    "id": "8401c631-245b-4560-8971-25cb2406c2ab"
   },
   "source": [
    "## Step 4: Create a Problem Statement.\n",
    "\n",
    "##### Having explored the data, come up with a problem statement for this data set. You can feel free to introduce data from any other source to support your problem statement, just be sure to provide a link to the origin of the data. Once again- be creative!"
   ]
  },
  {
   "cell_type": "code",
   "execution_count": null,
   "metadata": {
    "collapsed": true,
    "focus": false,
    "id": "e1b81214-9b26-4735-8c1b-4482e948b355"
   },
   "outputs": [],
   "source": []
  },
  {
   "cell_type": "markdown",
   "metadata": {
    "collapsed": false,
    "focus": false,
    "id": "a0ff30a0-48be-4851-9ec3-4ce8ece08a67"
   },
   "source": [
    "## Step 5: Brainstorm your Approach.\n",
    "##### In bullet-list form, provide a proposed approach for evaluating your problem statement. This can be somewhat high-level, but start to think about ways you can massage the data for maximum efficacy. "
   ]
  },
  {
   "cell_type": "code",
   "execution_count": null,
   "metadata": {
    "collapsed": true,
    "focus": false,
    "id": "9d772c7b-61e0-4bc4-bb1a-f3d43ba54862"
   },
   "outputs": [],
   "source": []
  },
  {
   "cell_type": "markdown",
   "metadata": {
    "collapsed": true,
    "focus": false,
    "id": "a3c74c5b-3d90-4442-97d9-ae320fe238d1"
   },
   "source": [
    "## Step 6: Create a blog post with your code snippets and visualizations.\n",
    "##### Data Science is a growing field, and the Tech industry thrives off of collaboration and sharing of knowledge. Blogging is a powerful means for pushing the needle forward in our field. Using your blogging platform of choice, create a post describing each of the 5 steps above. Rather than writing a procedural text, imagine you're describing the data, visualizations, and conclusions you've arrived at to your peers. Aim for a minimum of 500 words. "
   ]
  },
  {
   "cell_type": "code",
   "execution_count": null,
   "metadata": {
    "collapsed": true,
    "focus": false,
    "id": "9b0185e4-7023-4086-b8b7-e15bcacc9984"
   },
   "outputs": [],
   "source": []
  },
  {
   "cell_type": "markdown",
   "metadata": {
    "focus": false,
    "id": "aee61cbf-dfe9-40d3-bfef-772a60bed757"
   },
   "source": [
    "## BONUS: The Content Managers working for the Podcast Publishing Company have recognized you as a thought leader in your field. They've asked you to pen a white paper (minimum 500 words) on the subject of 'What It Means To Have Clean Data'. This will be an opinion piece read by a wide audience, so be sure to back up your statements with real world examples or scenarios.\n",
    "\n",
    "##### Hint: To get started, look around on the internet for articles, blog posts, papers, youtube videos, podcasts, reddit discussions, anything that will help you understand the challenges and implications of dealing with big data. This should be a personal reflection on everything you've learned this week, and the learning goals that have been set out for you going forward. "
   ]
  },
  {
   "cell_type": "code",
   "execution_count": null,
   "metadata": {
    "collapsed": true,
    "focus": false,
    "id": "28deb393-c994-47bc-87d2-035741ce527c"
   },
   "outputs": [],
   "source": []
  }
 ],
 "metadata": {
  "kernelspec": {
   "display_name": "Python [conda env:py27]",
   "language": "python",
   "name": "conda-env-py27-py"
  },
  "language_info": {
   "codemirror_mode": {
    "name": "ipython",
    "version": 2
   },
   "file_extension": ".py",
   "mimetype": "text/x-python",
   "name": "python",
   "nbconvert_exporter": "python",
   "pygments_lexer": "ipython2",
   "version": "2.7.12"
  }
 },
 "nbformat": 4,
 "nbformat_minor": 0
}
