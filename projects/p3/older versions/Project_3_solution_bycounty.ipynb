{
 "cells": [
  {
   "cell_type": "code",
   "execution_count": 1,
   "metadata": {
    "collapsed": true
   },
   "outputs": [],
   "source": [
    "import pandas as pd"
   ]
  },
  {
   "cell_type": "code",
   "execution_count": 7,
   "metadata": {
    "collapsed": false
   },
   "outputs": [],
   "source": [
    "liq = pd.read_csv(\"https://data.iowa.gov/api/views/m3tr-qhgy/rows.csv?accessType=DOWNLOAD\", dtype = {'Store Number': str, 'Zip Code': str, 'Category': str, 'Vendor Number': str, 'Item Number': str})"
   ]
  },
  {
   "cell_type": "code",
   "execution_count": 8,
   "metadata": {
    "collapsed": false
   },
   "outputs": [
    {
     "data": {
      "text/plain": [
       "(10286538, 24)"
      ]
     },
     "execution_count": 8,
     "metadata": {},
     "output_type": "execute_result"
    }
   ],
   "source": [
    "liq.shape"
   ]
  },
  {
   "cell_type": "code",
   "execution_count": 9,
   "metadata": {
    "collapsed": false
   },
   "outputs": [
    {
     "data": {
      "text/html": [
       "<div>\n",
       "<table border=\"1\" class=\"dataframe\">\n",
       "  <thead>\n",
       "    <tr style=\"text-align: right;\">\n",
       "      <th></th>\n",
       "      <th>Invoice/Item Number</th>\n",
       "      <th>Date</th>\n",
       "      <th>Store Number</th>\n",
       "      <th>Store Name</th>\n",
       "      <th>Address</th>\n",
       "      <th>City</th>\n",
       "      <th>Zip Code</th>\n",
       "      <th>Store Location</th>\n",
       "      <th>County Number</th>\n",
       "      <th>County</th>\n",
       "      <th>...</th>\n",
       "      <th>Item Number</th>\n",
       "      <th>Item Description</th>\n",
       "      <th>Pack</th>\n",
       "      <th>Bottle Volume (ml)</th>\n",
       "      <th>State Bottle Cost</th>\n",
       "      <th>State Bottle Retail</th>\n",
       "      <th>Bottles Sold</th>\n",
       "      <th>Sale (Dollars)</th>\n",
       "      <th>Volume Sold (Liters)</th>\n",
       "      <th>Volume Sold (Gallons)</th>\n",
       "    </tr>\n",
       "  </thead>\n",
       "  <tbody>\n",
       "    <tr>\n",
       "      <th>count</th>\n",
       "      <td>10286538</td>\n",
       "      <td>10286538</td>\n",
       "      <td>10286538</td>\n",
       "      <td>10286538</td>\n",
       "      <td>10286175</td>\n",
       "      <td>10286175</td>\n",
       "      <td>10286130</td>\n",
       "      <td>10286175</td>\n",
       "      <td>1.020937e+07</td>\n",
       "      <td>10209372</td>\n",
       "      <td>...</td>\n",
       "      <td>10286538</td>\n",
       "      <td>10286538</td>\n",
       "      <td>1.028654e+07</td>\n",
       "      <td>1.028654e+07</td>\n",
       "      <td>10286528</td>\n",
       "      <td>10286528</td>\n",
       "      <td>1.028654e+07</td>\n",
       "      <td>10286528</td>\n",
       "      <td>1.028654e+07</td>\n",
       "      <td>1.028654e+07</td>\n",
       "    </tr>\n",
       "    <tr>\n",
       "      <th>unique</th>\n",
       "      <td>10286538</td>\n",
       "      <td>1119</td>\n",
       "      <td>1722</td>\n",
       "      <td>1790</td>\n",
       "      <td>2955</td>\n",
       "      <td>778</td>\n",
       "      <td>439</td>\n",
       "      <td>3894</td>\n",
       "      <td>NaN</td>\n",
       "      <td>200</td>\n",
       "      <td>...</td>\n",
       "      <td>6503</td>\n",
       "      <td>5020</td>\n",
       "      <td>NaN</td>\n",
       "      <td>NaN</td>\n",
       "      <td>2612</td>\n",
       "      <td>3059</td>\n",
       "      <td>NaN</td>\n",
       "      <td>23028</td>\n",
       "      <td>NaN</td>\n",
       "      <td>NaN</td>\n",
       "    </tr>\n",
       "    <tr>\n",
       "      <th>top</th>\n",
       "      <td>S32829000013</td>\n",
       "      <td>12/29/2014</td>\n",
       "      <td>2633</td>\n",
       "      <td>Hy-Vee #3 / BDI / Des Moines</td>\n",
       "      <td>3221 SE 14TH ST</td>\n",
       "      <td>DES MOINES</td>\n",
       "      <td>52402</td>\n",
       "      <td>3221 SE 14TH ST\\nDES MOINES 50320\\n(41.554101,...</td>\n",
       "      <td>NaN</td>\n",
       "      <td>Polk</td>\n",
       "      <td>...</td>\n",
       "      <td>11788</td>\n",
       "      <td>Black Velvet</td>\n",
       "      <td>NaN</td>\n",
       "      <td>NaN</td>\n",
       "      <td>$8.25</td>\n",
       "      <td>$12.38</td>\n",
       "      <td>NaN</td>\n",
       "      <td>$162.00</td>\n",
       "      <td>NaN</td>\n",
       "      <td>NaN</td>\n",
       "    </tr>\n",
       "    <tr>\n",
       "      <th>freq</th>\n",
       "      <td>1</td>\n",
       "      <td>15996</td>\n",
       "      <td>91900</td>\n",
       "      <td>91900</td>\n",
       "      <td>110543</td>\n",
       "      <td>811086</td>\n",
       "      <td>252142</td>\n",
       "      <td>81420</td>\n",
       "      <td>NaN</td>\n",
       "      <td>1784687</td>\n",
       "      <td>...</td>\n",
       "      <td>105535</td>\n",
       "      <td>270918</td>\n",
       "      <td>NaN</td>\n",
       "      <td>NaN</td>\n",
       "      <td>181893</td>\n",
       "      <td>128709</td>\n",
       "      <td>NaN</td>\n",
       "      <td>66054</td>\n",
       "      <td>NaN</td>\n",
       "      <td>NaN</td>\n",
       "    </tr>\n",
       "    <tr>\n",
       "      <th>mean</th>\n",
       "      <td>NaN</td>\n",
       "      <td>NaN</td>\n",
       "      <td>NaN</td>\n",
       "      <td>NaN</td>\n",
       "      <td>NaN</td>\n",
       "      <td>NaN</td>\n",
       "      <td>NaN</td>\n",
       "      <td>NaN</td>\n",
       "      <td>5.724258e+01</td>\n",
       "      <td>NaN</td>\n",
       "      <td>...</td>\n",
       "      <td>NaN</td>\n",
       "      <td>NaN</td>\n",
       "      <td>1.217944e+01</td>\n",
       "      <td>9.318514e+02</td>\n",
       "      <td>NaN</td>\n",
       "      <td>NaN</td>\n",
       "      <td>9.461806e+00</td>\n",
       "      <td>NaN</td>\n",
       "      <td>8.729611e+00</td>\n",
       "      <td>2.306062e+00</td>\n",
       "    </tr>\n",
       "    <tr>\n",
       "      <th>std</th>\n",
       "      <td>NaN</td>\n",
       "      <td>NaN</td>\n",
       "      <td>NaN</td>\n",
       "      <td>NaN</td>\n",
       "      <td>NaN</td>\n",
       "      <td>NaN</td>\n",
       "      <td>NaN</td>\n",
       "      <td>NaN</td>\n",
       "      <td>2.724657e+01</td>\n",
       "      <td>NaN</td>\n",
       "      <td>...</td>\n",
       "      <td>NaN</td>\n",
       "      <td>NaN</td>\n",
       "      <td>7.370361e+00</td>\n",
       "      <td>6.484563e+02</td>\n",
       "      <td>NaN</td>\n",
       "      <td>NaN</td>\n",
       "      <td>2.428039e+01</td>\n",
       "      <td>NaN</td>\n",
       "      <td>2.938021e+01</td>\n",
       "      <td>7.761483e+00</td>\n",
       "    </tr>\n",
       "    <tr>\n",
       "      <th>min</th>\n",
       "      <td>NaN</td>\n",
       "      <td>NaN</td>\n",
       "      <td>NaN</td>\n",
       "      <td>NaN</td>\n",
       "      <td>NaN</td>\n",
       "      <td>NaN</td>\n",
       "      <td>NaN</td>\n",
       "      <td>NaN</td>\n",
       "      <td>1.000000e+00</td>\n",
       "      <td>NaN</td>\n",
       "      <td>...</td>\n",
       "      <td>NaN</td>\n",
       "      <td>NaN</td>\n",
       "      <td>1.000000e+00</td>\n",
       "      <td>0.000000e+00</td>\n",
       "      <td>NaN</td>\n",
       "      <td>NaN</td>\n",
       "      <td>0.000000e+00</td>\n",
       "      <td>NaN</td>\n",
       "      <td>0.000000e+00</td>\n",
       "      <td>0.000000e+00</td>\n",
       "    </tr>\n",
       "    <tr>\n",
       "      <th>25%</th>\n",
       "      <td>NaN</td>\n",
       "      <td>NaN</td>\n",
       "      <td>NaN</td>\n",
       "      <td>NaN</td>\n",
       "      <td>NaN</td>\n",
       "      <td>NaN</td>\n",
       "      <td>NaN</td>\n",
       "      <td>NaN</td>\n",
       "      <td>3.100000e+01</td>\n",
       "      <td>NaN</td>\n",
       "      <td>...</td>\n",
       "      <td>NaN</td>\n",
       "      <td>NaN</td>\n",
       "      <td>6.000000e+00</td>\n",
       "      <td>7.500000e+02</td>\n",
       "      <td>NaN</td>\n",
       "      <td>NaN</td>\n",
       "      <td>2.000000e+00</td>\n",
       "      <td>NaN</td>\n",
       "      <td>1.500000e+00</td>\n",
       "      <td>4.000000e-01</td>\n",
       "    </tr>\n",
       "    <tr>\n",
       "      <th>50%</th>\n",
       "      <td>NaN</td>\n",
       "      <td>NaN</td>\n",
       "      <td>NaN</td>\n",
       "      <td>NaN</td>\n",
       "      <td>NaN</td>\n",
       "      <td>NaN</td>\n",
       "      <td>NaN</td>\n",
       "      <td>NaN</td>\n",
       "      <td>6.200000e+01</td>\n",
       "      <td>NaN</td>\n",
       "      <td>...</td>\n",
       "      <td>NaN</td>\n",
       "      <td>NaN</td>\n",
       "      <td>1.200000e+01</td>\n",
       "      <td>7.500000e+02</td>\n",
       "      <td>NaN</td>\n",
       "      <td>NaN</td>\n",
       "      <td>6.000000e+00</td>\n",
       "      <td>NaN</td>\n",
       "      <td>4.500000e+00</td>\n",
       "      <td>1.190000e+00</td>\n",
       "    </tr>\n",
       "    <tr>\n",
       "      <th>75%</th>\n",
       "      <td>NaN</td>\n",
       "      <td>NaN</td>\n",
       "      <td>NaN</td>\n",
       "      <td>NaN</td>\n",
       "      <td>NaN</td>\n",
       "      <td>NaN</td>\n",
       "      <td>NaN</td>\n",
       "      <td>NaN</td>\n",
       "      <td>7.700000e+01</td>\n",
       "      <td>NaN</td>\n",
       "      <td>...</td>\n",
       "      <td>NaN</td>\n",
       "      <td>NaN</td>\n",
       "      <td>1.200000e+01</td>\n",
       "      <td>1.000000e+03</td>\n",
       "      <td>NaN</td>\n",
       "      <td>NaN</td>\n",
       "      <td>1.200000e+01</td>\n",
       "      <td>NaN</td>\n",
       "      <td>1.050000e+01</td>\n",
       "      <td>2.770000e+00</td>\n",
       "    </tr>\n",
       "    <tr>\n",
       "      <th>max</th>\n",
       "      <td>NaN</td>\n",
       "      <td>NaN</td>\n",
       "      <td>NaN</td>\n",
       "      <td>NaN</td>\n",
       "      <td>NaN</td>\n",
       "      <td>NaN</td>\n",
       "      <td>NaN</td>\n",
       "      <td>NaN</td>\n",
       "      <td>9.900000e+01</td>\n",
       "      <td>NaN</td>\n",
       "      <td>...</td>\n",
       "      <td>NaN</td>\n",
       "      <td>NaN</td>\n",
       "      <td>3.360000e+02</td>\n",
       "      <td>3.780000e+05</td>\n",
       "      <td>NaN</td>\n",
       "      <td>NaN</td>\n",
       "      <td>1.500000e+04</td>\n",
       "      <td>NaN</td>\n",
       "      <td>1.500000e+04</td>\n",
       "      <td>3.962580e+03</td>\n",
       "    </tr>\n",
       "  </tbody>\n",
       "</table>\n",
       "<p>11 rows × 24 columns</p>\n",
       "</div>"
      ],
      "text/plain": [
       "       Invoice/Item Number        Date Store Number  \\\n",
       "count             10286538    10286538     10286538   \n",
       "unique            10286538        1119         1722   \n",
       "top           S32829000013  12/29/2014         2633   \n",
       "freq                     1       15996        91900   \n",
       "mean                   NaN         NaN          NaN   \n",
       "std                    NaN         NaN          NaN   \n",
       "min                    NaN         NaN          NaN   \n",
       "25%                    NaN         NaN          NaN   \n",
       "50%                    NaN         NaN          NaN   \n",
       "75%                    NaN         NaN          NaN   \n",
       "max                    NaN         NaN          NaN   \n",
       "\n",
       "                          Store Name          Address        City  Zip Code  \\\n",
       "count                       10286538         10286175    10286175  10286130   \n",
       "unique                          1790             2955         778       439   \n",
       "top     Hy-Vee #3 / BDI / Des Moines  3221 SE 14TH ST  DES MOINES     52402   \n",
       "freq                           91900           110543      811086    252142   \n",
       "mean                             NaN              NaN         NaN       NaN   \n",
       "std                              NaN              NaN         NaN       NaN   \n",
       "min                              NaN              NaN         NaN       NaN   \n",
       "25%                              NaN              NaN         NaN       NaN   \n",
       "50%                              NaN              NaN         NaN       NaN   \n",
       "75%                              NaN              NaN         NaN       NaN   \n",
       "max                              NaN              NaN         NaN       NaN   \n",
       "\n",
       "                                           Store Location  County Number  \\\n",
       "count                                            10286175   1.020937e+07   \n",
       "unique                                               3894            NaN   \n",
       "top     3221 SE 14TH ST\\nDES MOINES 50320\\n(41.554101,...            NaN   \n",
       "freq                                                81420            NaN   \n",
       "mean                                                  NaN   5.724258e+01   \n",
       "std                                                   NaN   2.724657e+01   \n",
       "min                                                   NaN   1.000000e+00   \n",
       "25%                                                   NaN   3.100000e+01   \n",
       "50%                                                   NaN   6.200000e+01   \n",
       "75%                                                   NaN   7.700000e+01   \n",
       "max                                                   NaN   9.900000e+01   \n",
       "\n",
       "          County          ...          Item Number Item Description  \\\n",
       "count   10209372          ...             10286538         10286538   \n",
       "unique       200          ...                 6503             5020   \n",
       "top         Polk          ...                11788     Black Velvet   \n",
       "freq     1784687          ...               105535           270918   \n",
       "mean         NaN          ...                  NaN              NaN   \n",
       "std          NaN          ...                  NaN              NaN   \n",
       "min          NaN          ...                  NaN              NaN   \n",
       "25%          NaN          ...                  NaN              NaN   \n",
       "50%          NaN          ...                  NaN              NaN   \n",
       "75%          NaN          ...                  NaN              NaN   \n",
       "max          NaN          ...                  NaN              NaN   \n",
       "\n",
       "                Pack Bottle Volume (ml) State Bottle Cost State Bottle Retail  \\\n",
       "count   1.028654e+07       1.028654e+07          10286528            10286528   \n",
       "unique           NaN                NaN              2612                3059   \n",
       "top              NaN                NaN             $8.25              $12.38   \n",
       "freq             NaN                NaN            181893              128709   \n",
       "mean    1.217944e+01       9.318514e+02               NaN                 NaN   \n",
       "std     7.370361e+00       6.484563e+02               NaN                 NaN   \n",
       "min     1.000000e+00       0.000000e+00               NaN                 NaN   \n",
       "25%     6.000000e+00       7.500000e+02               NaN                 NaN   \n",
       "50%     1.200000e+01       7.500000e+02               NaN                 NaN   \n",
       "75%     1.200000e+01       1.000000e+03               NaN                 NaN   \n",
       "max     3.360000e+02       3.780000e+05               NaN                 NaN   \n",
       "\n",
       "        Bottles Sold  Sale (Dollars) Volume Sold (Liters)  \\\n",
       "count   1.028654e+07        10286528         1.028654e+07   \n",
       "unique           NaN           23028                  NaN   \n",
       "top              NaN         $162.00                  NaN   \n",
       "freq             NaN           66054                  NaN   \n",
       "mean    9.461806e+00             NaN         8.729611e+00   \n",
       "std     2.428039e+01             NaN         2.938021e+01   \n",
       "min     0.000000e+00             NaN         0.000000e+00   \n",
       "25%     2.000000e+00             NaN         1.500000e+00   \n",
       "50%     6.000000e+00             NaN         4.500000e+00   \n",
       "75%     1.200000e+01             NaN         1.050000e+01   \n",
       "max     1.500000e+04             NaN         1.500000e+04   \n",
       "\n",
       "       Volume Sold (Gallons)  \n",
       "count           1.028654e+07  \n",
       "unique                   NaN  \n",
       "top                      NaN  \n",
       "freq                     NaN  \n",
       "mean            2.306062e+00  \n",
       "std             7.761483e+00  \n",
       "min             0.000000e+00  \n",
       "25%             4.000000e-01  \n",
       "50%             1.190000e+00  \n",
       "75%             2.770000e+00  \n",
       "max             3.962580e+03  \n",
       "\n",
       "[11 rows x 24 columns]"
      ]
     },
     "execution_count": 9,
     "metadata": {},
     "output_type": "execute_result"
    }
   ],
   "source": [
    "liq.describe(include='all')"
   ]
  },
  {
   "cell_type": "code",
   "execution_count": 10,
   "metadata": {
    "collapsed": false
   },
   "outputs": [
    {
     "data": {
      "text/plain": [
       "Index([u'Invoice/Item Number', u'Date', u'Store Number', u'Store Name',\n",
       "       u'Address', u'City', u'Zip Code', u'Store Location', u'County Number',\n",
       "       u'County', u'Category', u'Category Name', u'Vendor Number',\n",
       "       u'Vendor Name', u'Item Number', u'Item Description', u'Pack',\n",
       "       u'Bottle Volume (ml)', u'State Bottle Cost', u'State Bottle Retail',\n",
       "       u'Bottles Sold', u'Sale (Dollars)', u'Volume Sold (Liters)',\n",
       "       u'Volume Sold (Gallons)'],\n",
       "      dtype='object')"
      ]
     },
     "execution_count": 10,
     "metadata": {},
     "output_type": "execute_result"
    }
   ],
   "source": [
    "liq.columns"
   ]
  },
  {
   "cell_type": "code",
   "execution_count": 13,
   "metadata": {
    "collapsed": false
   },
   "outputs": [],
   "source": [
    "liq.drop(['Invoice/Item Number', 'Store Name', 'Store Location', 'County', 'Vendor Name', 'Item Number', 'Item Description', 'State Bottle Cost', 'Volume Sold (Gallons)'], axis=1, inplace=True)"
   ]
  },
  {
   "cell_type": "code",
   "execution_count": 14,
   "metadata": {
    "collapsed": true
   },
   "outputs": [],
   "source": [
    "liq.columns = liq.columns.str.lower().str.replace(' ', '_').str.replace('(', \"\").str.replace(')', \"\")"
   ]
  },
  {
   "cell_type": "code",
   "execution_count": 16,
   "metadata": {
    "collapsed": false
   },
   "outputs": [],
   "source": [
    "liq.date = pd.to_datetime(liq.date, format='%m/%d/%Y')"
   ]
  },
  {
   "cell_type": "code",
   "execution_count": 17,
   "metadata": {
    "collapsed": false
   },
   "outputs": [
    {
     "data": {
      "text/plain": [
       "Index([u'date', u'store_number', u'address', u'city', u'zip_code',\n",
       "       u'county_number', u'category', u'category_name', u'vendor_number',\n",
       "       u'pack', u'bottle_volume_ml', u'state_bottle_retail', u'bottles_sold',\n",
       "       u'sale_dollars', u'volume_sold_liters'],\n",
       "      dtype='object')"
      ]
     },
     "execution_count": 17,
     "metadata": {},
     "output_type": "execute_result"
    }
   ],
   "source": [
    "liq.columns"
   ]
  },
  {
   "cell_type": "code",
   "execution_count": 24,
   "metadata": {
    "collapsed": true
   },
   "outputs": [],
   "source": [
    "liq['year'] = liq.date.apply(lambda d: str(d.year))\n",
    "liq['month']  = liq.date.apply(lambda d: str(d.month))"
   ]
  },
  {
   "cell_type": "code",
   "execution_count": 22,
   "metadata": {
    "collapsed": false
   },
   "outputs": [
    {
     "data": {
      "text/html": [
       "<div>\n",
       "<table border=\"1\" class=\"dataframe\">\n",
       "  <thead>\n",
       "    <tr style=\"text-align: right;\">\n",
       "      <th></th>\n",
       "      <th>date</th>\n",
       "      <th>store_number</th>\n",
       "      <th>address</th>\n",
       "      <th>city</th>\n",
       "      <th>zip_code</th>\n",
       "      <th>county_number</th>\n",
       "      <th>category</th>\n",
       "      <th>category_name</th>\n",
       "      <th>vendor_number</th>\n",
       "      <th>pack</th>\n",
       "      <th>bottle_volume_ml</th>\n",
       "      <th>state_bottle_retail</th>\n",
       "      <th>bottles_sold</th>\n",
       "      <th>sale_dollars</th>\n",
       "      <th>volume_sold_liters</th>\n",
       "      <th>year</th>\n",
       "      <th>month</th>\n",
       "    </tr>\n",
       "  </thead>\n",
       "  <tbody>\n",
       "    <tr>\n",
       "      <th>0</th>\n",
       "      <td>2015-11-20</td>\n",
       "      <td>2191</td>\n",
       "      <td>1013 MAIN</td>\n",
       "      <td>KEOKUK</td>\n",
       "      <td>52632</td>\n",
       "      <td>56.0</td>\n",
       "      <td>NaN</td>\n",
       "      <td>NaN</td>\n",
       "      <td>255</td>\n",
       "      <td>6</td>\n",
       "      <td>750</td>\n",
       "      <td>$27.14</td>\n",
       "      <td>6</td>\n",
       "      <td>$162.84</td>\n",
       "      <td>4.50</td>\n",
       "      <td>2015</td>\n",
       "      <td>11</td>\n",
       "    </tr>\n",
       "    <tr>\n",
       "      <th>1</th>\n",
       "      <td>2015-11-21</td>\n",
       "      <td>2205</td>\n",
       "      <td>900 E WASHINGTON</td>\n",
       "      <td>CLARINDA</td>\n",
       "      <td>51632</td>\n",
       "      <td>73.0</td>\n",
       "      <td>NaN</td>\n",
       "      <td>NaN</td>\n",
       "      <td>255</td>\n",
       "      <td>6</td>\n",
       "      <td>750</td>\n",
       "      <td>$27.14</td>\n",
       "      <td>12</td>\n",
       "      <td>$325.68</td>\n",
       "      <td>9.00</td>\n",
       "      <td>2015</td>\n",
       "      <td>11</td>\n",
       "    </tr>\n",
       "    <tr>\n",
       "      <th>2</th>\n",
       "      <td>2015-11-16</td>\n",
       "      <td>3549</td>\n",
       "      <td>1414 48TH ST</td>\n",
       "      <td>FORT MADISON</td>\n",
       "      <td>52627</td>\n",
       "      <td>56.0</td>\n",
       "      <td>NaN</td>\n",
       "      <td>NaN</td>\n",
       "      <td>130</td>\n",
       "      <td>20</td>\n",
       "      <td>150</td>\n",
       "      <td>$9.60</td>\n",
       "      <td>2</td>\n",
       "      <td>$19.20</td>\n",
       "      <td>0.30</td>\n",
       "      <td>2015</td>\n",
       "      <td>11</td>\n",
       "    </tr>\n",
       "    <tr>\n",
       "      <th>3</th>\n",
       "      <td>2015-11-04</td>\n",
       "      <td>2513</td>\n",
       "      <td>812  S 1ST AVE</td>\n",
       "      <td>IOWA CITY</td>\n",
       "      <td>52240</td>\n",
       "      <td>52.0</td>\n",
       "      <td>NaN</td>\n",
       "      <td>NaN</td>\n",
       "      <td>65</td>\n",
       "      <td>3</td>\n",
       "      <td>1750</td>\n",
       "      <td>$53.34</td>\n",
       "      <td>3</td>\n",
       "      <td>$160.02</td>\n",
       "      <td>5.25</td>\n",
       "      <td>2015</td>\n",
       "      <td>11</td>\n",
       "    </tr>\n",
       "    <tr>\n",
       "      <th>4</th>\n",
       "      <td>2015-11-17</td>\n",
       "      <td>3942</td>\n",
       "      <td>104 HIGHWAY 30 WEST</td>\n",
       "      <td>TOLEDO</td>\n",
       "      <td>52342</td>\n",
       "      <td>86.0</td>\n",
       "      <td>NaN</td>\n",
       "      <td>NaN</td>\n",
       "      <td>130</td>\n",
       "      <td>20</td>\n",
       "      <td>150</td>\n",
       "      <td>$9.60</td>\n",
       "      <td>2</td>\n",
       "      <td>$19.20</td>\n",
       "      <td>0.30</td>\n",
       "      <td>2015</td>\n",
       "      <td>11</td>\n",
       "    </tr>\n",
       "  </tbody>\n",
       "</table>\n",
       "</div>"
      ],
      "text/plain": [
       "        date store_number              address          city zip_code  \\\n",
       "0 2015-11-20         2191            1013 MAIN        KEOKUK    52632   \n",
       "1 2015-11-21         2205     900 E WASHINGTON      CLARINDA    51632   \n",
       "2 2015-11-16         3549         1414 48TH ST  FORT MADISON    52627   \n",
       "3 2015-11-04         2513       812  S 1ST AVE     IOWA CITY    52240   \n",
       "4 2015-11-17         3942  104 HIGHWAY 30 WEST        TOLEDO    52342   \n",
       "\n",
       "   county_number category category_name vendor_number  pack  bottle_volume_ml  \\\n",
       "0           56.0      NaN           NaN           255     6               750   \n",
       "1           73.0      NaN           NaN           255     6               750   \n",
       "2           56.0      NaN           NaN           130    20               150   \n",
       "3           52.0      NaN           NaN            65     3              1750   \n",
       "4           86.0      NaN           NaN           130    20               150   \n",
       "\n",
       "  state_bottle_retail  bottles_sold sale_dollars  volume_sold_liters  year  \\\n",
       "0              $27.14             6      $162.84                4.50  2015   \n",
       "1              $27.14            12      $325.68                9.00  2015   \n",
       "2               $9.60             2       $19.20                0.30  2015   \n",
       "3              $53.34             3      $160.02                5.25  2015   \n",
       "4               $9.60             2       $19.20                0.30  2015   \n",
       "\n",
       "   month  \n",
       "0     11  \n",
       "1     11  \n",
       "2     11  \n",
       "3     11  \n",
       "4     11  "
      ]
     },
     "execution_count": 22,
     "metadata": {},
     "output_type": "execute_result"
    }
   ],
   "source": [
    "liq.head()"
   ]
  },
  {
   "cell_type": "code",
   "execution_count": 46,
   "metadata": {
    "collapsed": false
   },
   "outputs": [],
   "source": [
    "liq.sale_dollars = liq.sale_dollars.str.strip('$').astype(float)"
   ]
  },
  {
   "cell_type": "code",
   "execution_count": 47,
   "metadata": {
    "collapsed": false
   },
   "outputs": [
    {
     "data": {
      "text/html": [
       "<div>\n",
       "<table border=\"1\" class=\"dataframe\">\n",
       "  <thead>\n",
       "    <tr style=\"text-align: right;\">\n",
       "      <th></th>\n",
       "      <th>date</th>\n",
       "      <th>store_number</th>\n",
       "      <th>address</th>\n",
       "      <th>city</th>\n",
       "      <th>zip_code</th>\n",
       "      <th>county_number</th>\n",
       "      <th>category</th>\n",
       "      <th>category_name</th>\n",
       "      <th>vendor_number</th>\n",
       "      <th>pack</th>\n",
       "      <th>bottle_volume_ml</th>\n",
       "      <th>state_bottle_retail</th>\n",
       "      <th>bottles_sold</th>\n",
       "      <th>sale_dollars</th>\n",
       "      <th>volume_sold_liters</th>\n",
       "      <th>year</th>\n",
       "      <th>month</th>\n",
       "    </tr>\n",
       "  </thead>\n",
       "  <tbody>\n",
       "    <tr>\n",
       "      <th>0</th>\n",
       "      <td>2015-11-20</td>\n",
       "      <td>2191</td>\n",
       "      <td>1013 MAIN</td>\n",
       "      <td>KEOKUK</td>\n",
       "      <td>52632</td>\n",
       "      <td>56.0</td>\n",
       "      <td>NaN</td>\n",
       "      <td>NaN</td>\n",
       "      <td>255</td>\n",
       "      <td>6</td>\n",
       "      <td>750</td>\n",
       "      <td>$27.14</td>\n",
       "      <td>6</td>\n",
       "      <td>162.84</td>\n",
       "      <td>4.50</td>\n",
       "      <td>2015</td>\n",
       "      <td>11</td>\n",
       "    </tr>\n",
       "    <tr>\n",
       "      <th>1</th>\n",
       "      <td>2015-11-21</td>\n",
       "      <td>2205</td>\n",
       "      <td>900 E WASHINGTON</td>\n",
       "      <td>CLARINDA</td>\n",
       "      <td>51632</td>\n",
       "      <td>73.0</td>\n",
       "      <td>NaN</td>\n",
       "      <td>NaN</td>\n",
       "      <td>255</td>\n",
       "      <td>6</td>\n",
       "      <td>750</td>\n",
       "      <td>$27.14</td>\n",
       "      <td>12</td>\n",
       "      <td>325.68</td>\n",
       "      <td>9.00</td>\n",
       "      <td>2015</td>\n",
       "      <td>11</td>\n",
       "    </tr>\n",
       "    <tr>\n",
       "      <th>2</th>\n",
       "      <td>2015-11-16</td>\n",
       "      <td>3549</td>\n",
       "      <td>1414 48TH ST</td>\n",
       "      <td>FORT MADISON</td>\n",
       "      <td>52627</td>\n",
       "      <td>56.0</td>\n",
       "      <td>NaN</td>\n",
       "      <td>NaN</td>\n",
       "      <td>130</td>\n",
       "      <td>20</td>\n",
       "      <td>150</td>\n",
       "      <td>$9.60</td>\n",
       "      <td>2</td>\n",
       "      <td>19.20</td>\n",
       "      <td>0.30</td>\n",
       "      <td>2015</td>\n",
       "      <td>11</td>\n",
       "    </tr>\n",
       "    <tr>\n",
       "      <th>3</th>\n",
       "      <td>2015-11-04</td>\n",
       "      <td>2513</td>\n",
       "      <td>812  S 1ST AVE</td>\n",
       "      <td>IOWA CITY</td>\n",
       "      <td>52240</td>\n",
       "      <td>52.0</td>\n",
       "      <td>NaN</td>\n",
       "      <td>NaN</td>\n",
       "      <td>65</td>\n",
       "      <td>3</td>\n",
       "      <td>1750</td>\n",
       "      <td>$53.34</td>\n",
       "      <td>3</td>\n",
       "      <td>160.02</td>\n",
       "      <td>5.25</td>\n",
       "      <td>2015</td>\n",
       "      <td>11</td>\n",
       "    </tr>\n",
       "    <tr>\n",
       "      <th>4</th>\n",
       "      <td>2015-11-17</td>\n",
       "      <td>3942</td>\n",
       "      <td>104 HIGHWAY 30 WEST</td>\n",
       "      <td>TOLEDO</td>\n",
       "      <td>52342</td>\n",
       "      <td>86.0</td>\n",
       "      <td>NaN</td>\n",
       "      <td>NaN</td>\n",
       "      <td>130</td>\n",
       "      <td>20</td>\n",
       "      <td>150</td>\n",
       "      <td>$9.60</td>\n",
       "      <td>2</td>\n",
       "      <td>19.20</td>\n",
       "      <td>0.30</td>\n",
       "      <td>2015</td>\n",
       "      <td>11</td>\n",
       "    </tr>\n",
       "  </tbody>\n",
       "</table>\n",
       "</div>"
      ],
      "text/plain": [
       "        date store_number              address          city zip_code  \\\n",
       "0 2015-11-20         2191            1013 MAIN        KEOKUK    52632   \n",
       "1 2015-11-21         2205     900 E WASHINGTON      CLARINDA    51632   \n",
       "2 2015-11-16         3549         1414 48TH ST  FORT MADISON    52627   \n",
       "3 2015-11-04         2513       812  S 1ST AVE     IOWA CITY    52240   \n",
       "4 2015-11-17         3942  104 HIGHWAY 30 WEST        TOLEDO    52342   \n",
       "\n",
       "   county_number category category_name vendor_number  pack  bottle_volume_ml  \\\n",
       "0           56.0      NaN           NaN           255     6               750   \n",
       "1           73.0      NaN           NaN           255     6               750   \n",
       "2           56.0      NaN           NaN           130    20               150   \n",
       "3           52.0      NaN           NaN            65     3              1750   \n",
       "4           86.0      NaN           NaN           130    20               150   \n",
       "\n",
       "  state_bottle_retail  bottles_sold  sale_dollars  volume_sold_liters  year  \\\n",
       "0              $27.14             6        162.84                4.50  2015   \n",
       "1              $27.14            12        325.68                9.00  2015   \n",
       "2               $9.60             2         19.20                0.30  2015   \n",
       "3              $53.34             3        160.02                5.25  2015   \n",
       "4               $9.60             2         19.20                0.30  2015   \n",
       "\n",
       "  month  \n",
       "0    11  \n",
       "1    11  \n",
       "2    11  \n",
       "3    11  \n",
       "4    11  "
      ]
     },
     "execution_count": 47,
     "metadata": {},
     "output_type": "execute_result"
    }
   ],
   "source": [
    "liq.head()"
   ]
  },
  {
   "cell_type": "code",
   "execution_count": 48,
   "metadata": {
    "collapsed": true
   },
   "outputs": [],
   "source": [
    "min_liq = liq[['date', 'month', 'year', 'county_number', 'sale_dollars']]"
   ]
  },
  {
   "cell_type": "code",
   "execution_count": 49,
   "metadata": {
    "collapsed": false
   },
   "outputs": [
    {
     "data": {
      "text/plain": [
       "date             datetime64[ns]\n",
       "month                    object\n",
       "year                     object\n",
       "county_number           float64\n",
       "sale_dollars            float64\n",
       "dtype: object"
      ]
     },
     "execution_count": 49,
     "metadata": {},
     "output_type": "execute_result"
    }
   ],
   "source": [
    "min_liq.dtypes"
   ]
  },
  {
   "cell_type": "code",
   "execution_count": 66,
   "metadata": {
    "collapsed": false
   },
   "outputs": [],
   "source": [
    "by_county_2015 = min_liq[['county_number', 'sale_dollars']][min_liq.year=='2015'].groupby(by='county_number', as_index=False).aggregate(sum)  "
   ]
  },
  {
   "cell_type": "code",
   "execution_count": 67,
   "metadata": {
    "collapsed": false
   },
   "outputs": [
    {
     "data": {
      "text/html": [
       "<div>\n",
       "<table border=\"1\" class=\"dataframe\">\n",
       "  <thead>\n",
       "    <tr style=\"text-align: right;\">\n",
       "      <th></th>\n",
       "      <th>county_number</th>\n",
       "      <th>sale_dollars</th>\n",
       "    </tr>\n",
       "  </thead>\n",
       "  <tbody>\n",
       "    <tr>\n",
       "      <th>0</th>\n",
       "      <td>1.0</td>\n",
       "      <td>424750.82</td>\n",
       "    </tr>\n",
       "    <tr>\n",
       "      <th>1</th>\n",
       "      <td>2.0</td>\n",
       "      <td>100596.80</td>\n",
       "    </tr>\n",
       "    <tr>\n",
       "      <th>2</th>\n",
       "      <td>3.0</td>\n",
       "      <td>823579.28</td>\n",
       "    </tr>\n",
       "    <tr>\n",
       "      <th>3</th>\n",
       "      <td>4.0</td>\n",
       "      <td>835381.93</td>\n",
       "    </tr>\n",
       "    <tr>\n",
       "      <th>4</th>\n",
       "      <td>5.0</td>\n",
       "      <td>173849.23</td>\n",
       "    </tr>\n",
       "  </tbody>\n",
       "</table>\n",
       "</div>"
      ],
      "text/plain": [
       "   county_number  sale_dollars\n",
       "0            1.0     424750.82\n",
       "1            2.0     100596.80\n",
       "2            3.0     823579.28\n",
       "3            4.0     835381.93\n",
       "4            5.0     173849.23"
      ]
     },
     "execution_count": 67,
     "metadata": {},
     "output_type": "execute_result"
    }
   ],
   "source": [
    "by_county_2015.head()"
   ]
  },
  {
   "cell_type": "code",
   "execution_count": 68,
   "metadata": {
    "collapsed": true
   },
   "outputs": [],
   "source": [
    "by_county_2016 = min_liq[['county_number', 'sale_dollars']][min_liq.year=='2016'].groupby(by='county_number', as_index=False).aggregate(sum)  "
   ]
  },
  {
   "cell_type": "code",
   "execution_count": 69,
   "metadata": {
    "collapsed": false
   },
   "outputs": [
    {
     "data": {
      "text/html": [
       "<div>\n",
       "<table border=\"1\" class=\"dataframe\">\n",
       "  <thead>\n",
       "    <tr style=\"text-align: right;\">\n",
       "      <th></th>\n",
       "      <th>county_number</th>\n",
       "      <th>sale_dollars</th>\n",
       "    </tr>\n",
       "  </thead>\n",
       "  <tbody>\n",
       "    <tr>\n",
       "      <th>0</th>\n",
       "      <td>1.0</td>\n",
       "      <td>334662.16</td>\n",
       "    </tr>\n",
       "    <tr>\n",
       "      <th>1</th>\n",
       "      <td>2.0</td>\n",
       "      <td>64873.36</td>\n",
       "    </tr>\n",
       "    <tr>\n",
       "      <th>2</th>\n",
       "      <td>3.0</td>\n",
       "      <td>652773.97</td>\n",
       "    </tr>\n",
       "    <tr>\n",
       "      <th>3</th>\n",
       "      <td>4.0</td>\n",
       "      <td>640845.06</td>\n",
       "    </tr>\n",
       "    <tr>\n",
       "      <th>4</th>\n",
       "      <td>5.0</td>\n",
       "      <td>111367.14</td>\n",
       "    </tr>\n",
       "  </tbody>\n",
       "</table>\n",
       "</div>"
      ],
      "text/plain": [
       "   county_number  sale_dollars\n",
       "0            1.0     334662.16\n",
       "1            2.0      64873.36\n",
       "2            3.0     652773.97\n",
       "3            4.0     640845.06\n",
       "4            5.0     111367.14"
      ]
     },
     "execution_count": 69,
     "metadata": {},
     "output_type": "execute_result"
    }
   ],
   "source": [
    "by_county_2016.head()"
   ]
  },
  {
   "cell_type": "code",
   "execution_count": 70,
   "metadata": {
    "collapsed": true
   },
   "outputs": [],
   "source": [
    "by_county_jan2015 = min_liq[['county_number', 'sale_dollars']][(min_liq.year=='2015') & (min_liq.month=='1')].groupby(by='county_number', as_index=False).aggregate(sum)  "
   ]
  },
  {
   "cell_type": "code",
   "execution_count": 71,
   "metadata": {
    "collapsed": false
   },
   "outputs": [
    {
     "data": {
      "text/html": [
       "<div>\n",
       "<table border=\"1\" class=\"dataframe\">\n",
       "  <thead>\n",
       "    <tr style=\"text-align: right;\">\n",
       "      <th></th>\n",
       "      <th>county_number</th>\n",
       "      <th>sale_dollars</th>\n",
       "    </tr>\n",
       "  </thead>\n",
       "  <tbody>\n",
       "    <tr>\n",
       "      <th>0</th>\n",
       "      <td>1.0</td>\n",
       "      <td>32221.04</td>\n",
       "    </tr>\n",
       "    <tr>\n",
       "      <th>1</th>\n",
       "      <td>2.0</td>\n",
       "      <td>4962.48</td>\n",
       "    </tr>\n",
       "    <tr>\n",
       "      <th>2</th>\n",
       "      <td>3.0</td>\n",
       "      <td>46675.93</td>\n",
       "    </tr>\n",
       "    <tr>\n",
       "      <th>3</th>\n",
       "      <td>4.0</td>\n",
       "      <td>53353.26</td>\n",
       "    </tr>\n",
       "    <tr>\n",
       "      <th>4</th>\n",
       "      <td>5.0</td>\n",
       "      <td>11089.17</td>\n",
       "    </tr>\n",
       "  </tbody>\n",
       "</table>\n",
       "</div>"
      ],
      "text/plain": [
       "   county_number  sale_dollars\n",
       "0            1.0      32221.04\n",
       "1            2.0       4962.48\n",
       "2            3.0      46675.93\n",
       "3            4.0      53353.26\n",
       "4            5.0      11089.17"
      ]
     },
     "execution_count": 71,
     "metadata": {},
     "output_type": "execute_result"
    }
   ],
   "source": [
    "by_county_jan2015.head()"
   ]
  },
  {
   "cell_type": "code",
   "execution_count": 72,
   "metadata": {
    "collapsed": true
   },
   "outputs": [],
   "source": [
    "by_county_feb2015 = min_liq[['county_number', 'sale_dollars']][(min_liq.year=='2015') & (min_liq.month=='2')].groupby(by='county_number', as_index=False).aggregate(sum)  "
   ]
  },
  {
   "cell_type": "code",
   "execution_count": 73,
   "metadata": {
    "collapsed": false
   },
   "outputs": [
    {
     "data": {
      "text/html": [
       "<div>\n",
       "<table border=\"1\" class=\"dataframe\">\n",
       "  <thead>\n",
       "    <tr style=\"text-align: right;\">\n",
       "      <th></th>\n",
       "      <th>county_number</th>\n",
       "      <th>sale_dollars</th>\n",
       "    </tr>\n",
       "  </thead>\n",
       "  <tbody>\n",
       "    <tr>\n",
       "      <th>0</th>\n",
       "      <td>1.0</td>\n",
       "      <td>32409.62</td>\n",
       "    </tr>\n",
       "    <tr>\n",
       "      <th>1</th>\n",
       "      <td>2.0</td>\n",
       "      <td>6759.18</td>\n",
       "    </tr>\n",
       "    <tr>\n",
       "      <th>2</th>\n",
       "      <td>3.0</td>\n",
       "      <td>53786.16</td>\n",
       "    </tr>\n",
       "    <tr>\n",
       "      <th>3</th>\n",
       "      <td>4.0</td>\n",
       "      <td>51942.64</td>\n",
       "    </tr>\n",
       "    <tr>\n",
       "      <th>4</th>\n",
       "      <td>5.0</td>\n",
       "      <td>14201.39</td>\n",
       "    </tr>\n",
       "  </tbody>\n",
       "</table>\n",
       "</div>"
      ],
      "text/plain": [
       "   county_number  sale_dollars\n",
       "0            1.0      32409.62\n",
       "1            2.0       6759.18\n",
       "2            3.0      53786.16\n",
       "3            4.0      51942.64\n",
       "4            5.0      14201.39"
      ]
     },
     "execution_count": 73,
     "metadata": {},
     "output_type": "execute_result"
    }
   ],
   "source": [
    "by_county_feb2015.head()"
   ]
  },
  {
   "cell_type": "code",
   "execution_count": 74,
   "metadata": {
    "collapsed": true
   },
   "outputs": [],
   "source": [
    "by_county_mar2015 = min_liq[['county_number', 'sale_dollars']][(min_liq.year=='2015') & (min_liq.month=='3')].groupby(by='county_number', as_index=False).aggregate(sum)  "
   ]
  },
  {
   "cell_type": "code",
   "execution_count": 75,
   "metadata": {
    "collapsed": false
   },
   "outputs": [
    {
     "data": {
      "text/html": [
       "<div>\n",
       "<table border=\"1\" class=\"dataframe\">\n",
       "  <thead>\n",
       "    <tr style=\"text-align: right;\">\n",
       "      <th></th>\n",
       "      <th>county_number</th>\n",
       "      <th>sale_dollars</th>\n",
       "    </tr>\n",
       "  </thead>\n",
       "  <tbody>\n",
       "    <tr>\n",
       "      <th>0</th>\n",
       "      <td>1.0</td>\n",
       "      <td>38925.65</td>\n",
       "    </tr>\n",
       "    <tr>\n",
       "      <th>1</th>\n",
       "      <td>2.0</td>\n",
       "      <td>8613.37</td>\n",
       "    </tr>\n",
       "    <tr>\n",
       "      <th>2</th>\n",
       "      <td>3.0</td>\n",
       "      <td>55526.87</td>\n",
       "    </tr>\n",
       "    <tr>\n",
       "      <th>3</th>\n",
       "      <td>4.0</td>\n",
       "      <td>46459.58</td>\n",
       "    </tr>\n",
       "    <tr>\n",
       "      <th>4</th>\n",
       "      <td>5.0</td>\n",
       "      <td>13983.90</td>\n",
       "    </tr>\n",
       "  </tbody>\n",
       "</table>\n",
       "</div>"
      ],
      "text/plain": [
       "   county_number  sale_dollars\n",
       "0            1.0      38925.65\n",
       "1            2.0       8613.37\n",
       "2            3.0      55526.87\n",
       "3            4.0      46459.58\n",
       "4            5.0      13983.90"
      ]
     },
     "execution_count": 75,
     "metadata": {},
     "output_type": "execute_result"
    }
   ],
   "source": [
    "by_county_mar2015.head()"
   ]
  },
  {
   "cell_type": "code",
   "execution_count": 76,
   "metadata": {
    "collapsed": true
   },
   "outputs": [],
   "source": [
    "by_county_jan2016 = min_liq[['county_number', 'sale_dollars']][(min_liq.year=='2016') & (min_liq.month=='1')].groupby(by='county_number', as_index=False).aggregate(sum)  "
   ]
  },
  {
   "cell_type": "code",
   "execution_count": 77,
   "metadata": {
    "collapsed": false
   },
   "outputs": [
    {
     "data": {
      "text/html": [
       "<div>\n",
       "<table border=\"1\" class=\"dataframe\">\n",
       "  <thead>\n",
       "    <tr style=\"text-align: right;\">\n",
       "      <th></th>\n",
       "      <th>county_number</th>\n",
       "      <th>sale_dollars</th>\n",
       "    </tr>\n",
       "  </thead>\n",
       "  <tbody>\n",
       "    <tr>\n",
       "      <th>0</th>\n",
       "      <td>1.0</td>\n",
       "      <td>28266.55</td>\n",
       "    </tr>\n",
       "    <tr>\n",
       "      <th>1</th>\n",
       "      <td>2.0</td>\n",
       "      <td>6362.56</td>\n",
       "    </tr>\n",
       "    <tr>\n",
       "      <th>2</th>\n",
       "      <td>3.0</td>\n",
       "      <td>48475.58</td>\n",
       "    </tr>\n",
       "    <tr>\n",
       "      <th>3</th>\n",
       "      <td>4.0</td>\n",
       "      <td>50446.38</td>\n",
       "    </tr>\n",
       "    <tr>\n",
       "      <th>4</th>\n",
       "      <td>5.0</td>\n",
       "      <td>9908.69</td>\n",
       "    </tr>\n",
       "  </tbody>\n",
       "</table>\n",
       "</div>"
      ],
      "text/plain": [
       "   county_number  sale_dollars\n",
       "0            1.0      28266.55\n",
       "1            2.0       6362.56\n",
       "2            3.0      48475.58\n",
       "3            4.0      50446.38\n",
       "4            5.0       9908.69"
      ]
     },
     "execution_count": 77,
     "metadata": {},
     "output_type": "execute_result"
    }
   ],
   "source": [
    "by_county_jan2016.head()"
   ]
  },
  {
   "cell_type": "code",
   "execution_count": 78,
   "metadata": {
    "collapsed": true
   },
   "outputs": [],
   "source": [
    "by_county_feb2016 = min_liq[['county_number', 'sale_dollars']][(min_liq.year=='2016') & (min_liq.month=='2')].groupby(by='county_number', as_index=False).aggregate(sum)  "
   ]
  },
  {
   "cell_type": "code",
   "execution_count": 79,
   "metadata": {
    "collapsed": false
   },
   "outputs": [
    {
     "data": {
      "text/html": [
       "<div>\n",
       "<table border=\"1\" class=\"dataframe\">\n",
       "  <thead>\n",
       "    <tr style=\"text-align: right;\">\n",
       "      <th></th>\n",
       "      <th>county_number</th>\n",
       "      <th>sale_dollars</th>\n",
       "    </tr>\n",
       "  </thead>\n",
       "  <tbody>\n",
       "    <tr>\n",
       "      <th>0</th>\n",
       "      <td>1.0</td>\n",
       "      <td>40811.12</td>\n",
       "    </tr>\n",
       "    <tr>\n",
       "      <th>1</th>\n",
       "      <td>2.0</td>\n",
       "      <td>6518.86</td>\n",
       "    </tr>\n",
       "    <tr>\n",
       "      <th>2</th>\n",
       "      <td>3.0</td>\n",
       "      <td>57804.08</td>\n",
       "    </tr>\n",
       "    <tr>\n",
       "      <th>3</th>\n",
       "      <td>4.0</td>\n",
       "      <td>54435.54</td>\n",
       "    </tr>\n",
       "    <tr>\n",
       "      <th>4</th>\n",
       "      <td>5.0</td>\n",
       "      <td>15653.60</td>\n",
       "    </tr>\n",
       "  </tbody>\n",
       "</table>\n",
       "</div>"
      ],
      "text/plain": [
       "   county_number  sale_dollars\n",
       "0            1.0      40811.12\n",
       "1            2.0       6518.86\n",
       "2            3.0      57804.08\n",
       "3            4.0      54435.54\n",
       "4            5.0      15653.60"
      ]
     },
     "execution_count": 79,
     "metadata": {},
     "output_type": "execute_result"
    }
   ],
   "source": [
    "by_county_feb2016.head()"
   ]
  },
  {
   "cell_type": "code",
   "execution_count": 80,
   "metadata": {
    "collapsed": true
   },
   "outputs": [],
   "source": [
    "by_county_mar2016 = min_liq[['county_number', 'sale_dollars']][(min_liq.year=='2016') & (min_liq.month=='3')].groupby(by='county_number', as_index=False).aggregate(sum)  "
   ]
  },
  {
   "cell_type": "code",
   "execution_count": 81,
   "metadata": {
    "collapsed": false
   },
   "outputs": [
    {
     "data": {
      "text/html": [
       "<div>\n",
       "<table border=\"1\" class=\"dataframe\">\n",
       "  <thead>\n",
       "    <tr style=\"text-align: right;\">\n",
       "      <th></th>\n",
       "      <th>county_number</th>\n",
       "      <th>sale_dollars</th>\n",
       "    </tr>\n",
       "  </thead>\n",
       "  <tbody>\n",
       "    <tr>\n",
       "      <th>0</th>\n",
       "      <td>1.0</td>\n",
       "      <td>36351.64</td>\n",
       "    </tr>\n",
       "    <tr>\n",
       "      <th>1</th>\n",
       "      <td>2.0</td>\n",
       "      <td>8953.07</td>\n",
       "    </tr>\n",
       "    <tr>\n",
       "      <th>2</th>\n",
       "      <td>3.0</td>\n",
       "      <td>73837.64</td>\n",
       "    </tr>\n",
       "    <tr>\n",
       "      <th>3</th>\n",
       "      <td>4.0</td>\n",
       "      <td>72002.38</td>\n",
       "    </tr>\n",
       "    <tr>\n",
       "      <th>4</th>\n",
       "      <td>5.0</td>\n",
       "      <td>11551.28</td>\n",
       "    </tr>\n",
       "  </tbody>\n",
       "</table>\n",
       "</div>"
      ],
      "text/plain": [
       "   county_number  sale_dollars\n",
       "0            1.0      36351.64\n",
       "1            2.0       8953.07\n",
       "2            3.0      73837.64\n",
       "3            4.0      72002.38\n",
       "4            5.0      11551.28"
      ]
     },
     "execution_count": 81,
     "metadata": {},
     "output_type": "execute_result"
    }
   ],
   "source": [
    "by_county_mar2016.head()"
   ]
  },
  {
   "cell_type": "code",
   "execution_count": 84,
   "metadata": {
    "collapsed": false
   },
   "outputs": [
    {
     "data": {
      "text/html": [
       "<div>\n",
       "<table border=\"1\" class=\"dataframe\">\n",
       "  <thead>\n",
       "    <tr style=\"text-align: right;\">\n",
       "      <th></th>\n",
       "      <th>county_number</th>\n",
       "      <th>sale_dollars_all2015</th>\n",
       "      <th>sale_dollars_jan2015</th>\n",
       "      <th>sale_dollars__feb2015</th>\n",
       "      <th>sale_dollars_mar2015</th>\n",
       "    </tr>\n",
       "  </thead>\n",
       "  <tbody>\n",
       "    <tr>\n",
       "      <th>0</th>\n",
       "      <td>1.0</td>\n",
       "      <td>424750.82</td>\n",
       "      <td>32221.04</td>\n",
       "      <td>32409.62</td>\n",
       "      <td>38925.65</td>\n",
       "    </tr>\n",
       "    <tr>\n",
       "      <th>1</th>\n",
       "      <td>2.0</td>\n",
       "      <td>100596.80</td>\n",
       "      <td>4962.48</td>\n",
       "      <td>6759.18</td>\n",
       "      <td>8613.37</td>\n",
       "    </tr>\n",
       "    <tr>\n",
       "      <th>2</th>\n",
       "      <td>3.0</td>\n",
       "      <td>823579.28</td>\n",
       "      <td>46675.93</td>\n",
       "      <td>53786.16</td>\n",
       "      <td>55526.87</td>\n",
       "    </tr>\n",
       "    <tr>\n",
       "      <th>3</th>\n",
       "      <td>4.0</td>\n",
       "      <td>835381.93</td>\n",
       "      <td>53353.26</td>\n",
       "      <td>51942.64</td>\n",
       "      <td>46459.58</td>\n",
       "    </tr>\n",
       "    <tr>\n",
       "      <th>4</th>\n",
       "      <td>5.0</td>\n",
       "      <td>173849.23</td>\n",
       "      <td>11089.17</td>\n",
       "      <td>14201.39</td>\n",
       "      <td>13983.90</td>\n",
       "    </tr>\n",
       "  </tbody>\n",
       "</table>\n",
       "</div>"
      ],
      "text/plain": [
       "   county_number  sale_dollars_all2015  sale_dollars_jan2015  \\\n",
       "0            1.0             424750.82              32221.04   \n",
       "1            2.0             100596.80               4962.48   \n",
       "2            3.0             823579.28              46675.93   \n",
       "3            4.0             835381.93              53353.26   \n",
       "4            5.0             173849.23              11089.17   \n",
       "\n",
       "   sale_dollars__feb2015  sale_dollars_mar2015  \n",
       "0               32409.62              38925.65  \n",
       "1                6759.18               8613.37  \n",
       "2               53786.16              55526.87  \n",
       "3               51942.64              46459.58  \n",
       "4               14201.39              13983.90  "
      ]
     },
     "execution_count": 84,
     "metadata": {},
     "output_type": "execute_result"
    }
   ],
   "source": [
    "merged2015 = pd.merge(by_county_2015, by_county_jan2015, how='inner', on='county_number', suffixes=['_all2015', '_jan2015'])\n",
    "merged2015 = pd.merge(merged2015, by_county_feb2015, how='inner', on='county_number', suffixes=['_jan2015', '_feb2015'])\n",
    "merged2015 = pd.merge(merged2015, by_county_mar2015, how='inner', on='county_number', suffixes=['__feb2015', '_mar2015'])\n",
    "merged2015.head()"
   ]
  },
  {
   "cell_type": "code",
   "execution_count": 86,
   "metadata": {
    "collapsed": false
   },
   "outputs": [
    {
     "data": {
      "text/html": [
       "<div>\n",
       "<table border=\"1\" class=\"dataframe\">\n",
       "  <thead>\n",
       "    <tr style=\"text-align: right;\">\n",
       "      <th></th>\n",
       "      <th>sale_dollars_all2015</th>\n",
       "      <th>sale_dollars_jan2015</th>\n",
       "      <th>sale_dollars__feb2015</th>\n",
       "      <th>sale_dollars_mar2015</th>\n",
       "    </tr>\n",
       "  </thead>\n",
       "  <tbody>\n",
       "    <tr>\n",
       "      <th>sale_dollars_all2015</th>\n",
       "      <td>1.000000</td>\n",
       "      <td>0.999043</td>\n",
       "      <td>0.998472</td>\n",
       "      <td>0.998043</td>\n",
       "    </tr>\n",
       "    <tr>\n",
       "      <th>sale_dollars_jan2015</th>\n",
       "      <td>0.999043</td>\n",
       "      <td>1.000000</td>\n",
       "      <td>0.997699</td>\n",
       "      <td>0.997296</td>\n",
       "    </tr>\n",
       "    <tr>\n",
       "      <th>sale_dollars__feb2015</th>\n",
       "      <td>0.998472</td>\n",
       "      <td>0.997699</td>\n",
       "      <td>1.000000</td>\n",
       "      <td>0.998247</td>\n",
       "    </tr>\n",
       "    <tr>\n",
       "      <th>sale_dollars_mar2015</th>\n",
       "      <td>0.998043</td>\n",
       "      <td>0.997296</td>\n",
       "      <td>0.998247</td>\n",
       "      <td>1.000000</td>\n",
       "    </tr>\n",
       "  </tbody>\n",
       "</table>\n",
       "</div>"
      ],
      "text/plain": [
       "                       sale_dollars_all2015  sale_dollars_jan2015  \\\n",
       "sale_dollars_all2015               1.000000              0.999043   \n",
       "sale_dollars_jan2015               0.999043              1.000000   \n",
       "sale_dollars__feb2015              0.998472              0.997699   \n",
       "sale_dollars_mar2015               0.998043              0.997296   \n",
       "\n",
       "                       sale_dollars__feb2015  sale_dollars_mar2015  \n",
       "sale_dollars_all2015                0.998472              0.998043  \n",
       "sale_dollars_jan2015                0.997699              0.997296  \n",
       "sale_dollars__feb2015               1.000000              0.998247  \n",
       "sale_dollars_mar2015                0.998247              1.000000  "
      ]
     },
     "execution_count": 86,
     "metadata": {},
     "output_type": "execute_result"
    }
   ],
   "source": [
    "merged2015.ix[:, 1:].corr()"
   ]
  },
  {
   "cell_type": "code",
   "execution_count": 208,
   "metadata": {
    "collapsed": true
   },
   "outputs": [],
   "source": [
    "merged2015['sale_dollars_2015Q1'] = merged2015.sale_dollars_jan2015 + merged2015.sale_dollars__feb2015 + merged2015.sale_dollars_mar2015"
   ]
  },
  {
   "cell_type": "code",
   "execution_count": 88,
   "metadata": {
    "collapsed": true
   },
   "outputs": [],
   "source": [
    "import matplotlib.pyplot as plt\n",
    "import seaborn as sns\n",
    "%matplotlib inline"
   ]
  },
  {
   "cell_type": "code",
   "execution_count": 92,
   "metadata": {
    "collapsed": true
   },
   "outputs": [],
   "source": [
    "import statsmodels.api as sm\n",
    "import patsy"
   ]
  },
  {
   "cell_type": "code",
   "execution_count": 209,
   "metadata": {
    "collapsed": false
   },
   "outputs": [
    {
     "data": {
      "text/html": [
       "<table class=\"simpletable\">\n",
       "<caption>OLS Regression Results</caption>\n",
       "<tr>\n",
       "  <th>Dep. Variable:</th>    <td>sale_dollars_all2015</td> <th>  R-squared:         </th> <td>   0.998</td> \n",
       "</tr>\n",
       "<tr>\n",
       "  <th>Model:</th>                     <td>OLS</td>         <th>  Adj. R-squared:    </th> <td>   0.998</td> \n",
       "</tr>\n",
       "<tr>\n",
       "  <th>Method:</th>               <td>Least Squares</td>    <th>  F-statistic:       </th> <td>6.151e+04</td>\n",
       "</tr>\n",
       "<tr>\n",
       "  <th>Date:</th>               <td>Sat, 12 Nov 2016</td>   <th>  Prob (F-statistic):</th> <td>9.34e-138</td>\n",
       "</tr>\n",
       "<tr>\n",
       "  <th>Time:</th>                   <td>12:45:08</td>       <th>  Log-Likelihood:    </th> <td> -1387.1</td> \n",
       "</tr>\n",
       "<tr>\n",
       "  <th>No. Observations:</th>        <td>    99</td>        <th>  AIC:               </th> <td>   2778.</td> \n",
       "</tr>\n",
       "<tr>\n",
       "  <th>Df Residuals:</th>            <td>    97</td>        <th>  BIC:               </th> <td>   2783.</td> \n",
       "</tr>\n",
       "<tr>\n",
       "  <th>Df Model:</th>                <td>     1</td>        <th>                     </th>     <td> </td>    \n",
       "</tr>\n",
       "<tr>\n",
       "  <th>Covariance Type:</th>        <td>nonrobust</td>      <th>                     </th>     <td> </td>    \n",
       "</tr>\n",
       "</table>\n",
       "<table class=\"simpletable\">\n",
       "<tr>\n",
       "           <td></td>              <th>coef</th>     <th>std err</th>      <th>t</th>      <th>P>|t|</th> <th>[95.0% Conf. Int.]</th> \n",
       "</tr>\n",
       "<tr>\n",
       "  <th>Intercept</th>           <td> -2.25e+04</td> <td> 3.21e+04</td> <td>   -0.701</td> <td> 0.485</td> <td>-8.62e+04  4.12e+04</td>\n",
       "</tr>\n",
       "<tr>\n",
       "  <th>sale_dollars_2015Q1</th> <td>    4.5500</td> <td>    0.018</td> <td>  248.005</td> <td> 0.000</td> <td>    4.514     4.586</td>\n",
       "</tr>\n",
       "</table>\n",
       "<table class=\"simpletable\">\n",
       "<tr>\n",
       "  <th>Omnibus:</th>       <td>35.560</td> <th>  Durbin-Watson:     </th> <td>   2.253</td> \n",
       "</tr>\n",
       "<tr>\n",
       "  <th>Prob(Omnibus):</th> <td> 0.000</td> <th>  Jarque-Bera (JB):  </th> <td> 789.223</td> \n",
       "</tr>\n",
       "<tr>\n",
       "  <th>Skew:</th>          <td> 0.003</td> <th>  Prob(JB):          </th> <td>4.19e-172</td>\n",
       "</tr>\n",
       "<tr>\n",
       "  <th>Kurtosis:</th>      <td>16.832</td> <th>  Cond. No.          </th> <td>1.88e+06</td> \n",
       "</tr>\n",
       "</table>"
      ],
      "text/plain": [
       "<class 'statsmodels.iolib.summary.Summary'>\n",
       "\"\"\"\n",
       "                             OLS Regression Results                             \n",
       "================================================================================\n",
       "Dep. Variable:     sale_dollars_all2015   R-squared:                       0.998\n",
       "Model:                              OLS   Adj. R-squared:                  0.998\n",
       "Method:                   Least Squares   F-statistic:                 6.151e+04\n",
       "Date:                  Sat, 12 Nov 2016   Prob (F-statistic):          9.34e-138\n",
       "Time:                          12:45:08   Log-Likelihood:                -1387.1\n",
       "No. Observations:                    99   AIC:                             2778.\n",
       "Df Residuals:                        97   BIC:                             2783.\n",
       "Df Model:                             1                                         \n",
       "Covariance Type:              nonrobust                                         \n",
       "=======================================================================================\n",
       "                          coef    std err          t      P>|t|      [95.0% Conf. Int.]\n",
       "---------------------------------------------------------------------------------------\n",
       "Intercept            -2.25e+04   3.21e+04     -0.701      0.485     -8.62e+04  4.12e+04\n",
       "sale_dollars_2015Q1     4.5500      0.018    248.005      0.000         4.514     4.586\n",
       "==============================================================================\n",
       "Omnibus:                       35.560   Durbin-Watson:                   2.253\n",
       "Prob(Omnibus):                  0.000   Jarque-Bera (JB):              789.223\n",
       "Skew:                           0.003   Prob(JB):                    4.19e-172\n",
       "Kurtosis:                      16.832   Cond. No.                     1.88e+06\n",
       "==============================================================================\n",
       "\n",
       "Warnings:\n",
       "[1] Standard Errors assume that the covariance matrix of the errors is correctly specified.\n",
       "[2] The condition number is large, 1.88e+06. This might indicate that there are\n",
       "strong multicollinearity or other numerical problems.\n",
       "\"\"\""
      ]
     },
     "execution_count": 209,
     "metadata": {},
     "output_type": "execute_result"
    }
   ],
   "source": [
    "y, X = patsy.dmatrices('sale_dollars_all2015 ~ sale_dollars_2015Q1', data=merged2015)\n",
    "sm.OLS(y, X).fit().summary()"
   ]
  },
  {
   "cell_type": "code",
   "execution_count": 107,
   "metadata": {
    "collapsed": false
   },
   "outputs": [
    {
     "data": {
      "text/plain": [
       "99"
      ]
     },
     "execution_count": 107,
     "metadata": {},
     "output_type": "execute_result"
    }
   ],
   "source": [
    "len(merged2015['sale_dollars_all2015'])"
   ]
  },
  {
   "cell_type": "code",
   "execution_count": 210,
   "metadata": {
    "collapsed": false
   },
   "outputs": [
    {
     "name": "stdout",
     "output_type": "stream",
     "text": [
      "Cross-validated scores: [ 0.98768569  0.9957228   0.99770709]\n",
      "Cross-Predicted Accuracy: 0.99685771212\n",
      "[ 0.        4.545488]\n"
     ]
    },
    {
     "data": {
      "image/png": "[encoded data removed]",
      "text/plain": [
       "<matplotlib.figure.Figure at 0x167e41050>"
      ]
     },
     "metadata": {},
     "output_type": "display_data"
    }
   ],
   "source": [
    "from sklearn.cross_validation import cross_val_score, cross_val_predict\n",
    "from sklearn import metrics,linear_model\n",
    "import patsy\n",
    "\n",
    "y = merged2015['sale_dollars_all2015']\n",
    "X = merged2015[['sale_dollars_2015Q1']]\n",
    "X = sm.add_constant(X)\n",
    "\n",
    "lm = linear_model.LassoCV()\n",
    "model = lm.fit(X, y)\n",
    "# Perform 6-fold cross validation\n",
    "\n",
    "scores = cross_val_score(model, X, y, cv=3)\n",
    "print \"Cross-validated scores:\", scores\n",
    "# Make cross validated predictions\n",
    "predictions = cross_val_predict(model, X, y, cv=3)\n",
    "plt.scatter(y, predictions)\n",
    "accuracy = metrics.r2_score(y, predictions)\n",
    "print \"Cross-Predicted Accuracy:\", accuracy\n",
    "print model.coef_"
   ]
  },
  {
   "cell_type": "code",
   "execution_count": 211,
   "metadata": {
    "collapsed": false
   },
   "outputs": [
    {
     "name": "stdout",
     "output_type": "stream",
     "text": [
      "Cross-validated scores: [ 0.9876328   0.99565173  0.99852227]\n",
      "Cross-Predicted Accuracy: 0.997472265583\n",
      "[ 0.          4.55003804]\n"
     ]
    },
    {
     "data": {
      "image/png": "[encoded data removed]",
      "text/plain": [
       "<matplotlib.figure.Figure at 0x1a9f76110>"
      ]
     },
     "metadata": {},
     "output_type": "display_data"
    }
   ],
   "source": [
    "from sklearn.cross_validation import cross_val_score, cross_val_predict\n",
    "from sklearn import metrics,linear_model\n",
    "import patsy\n",
    "\n",
    "y = merged2015['sale_dollars_all2015']\n",
    "X = merged2015[['sale_dollars_2015Q1']]\n",
    "X = sm.add_constant(X)\n",
    "\n",
    "lm = linear_model.LinearRegression()\n",
    "model = lm.fit(X, y)\n",
    "# Perform 6-fold cross validation\n",
    "\n",
    "scores = cross_val_score(model, X, y, cv=3)\n",
    "print \"Cross-validated scores:\", scores\n",
    "# Make cross validated predictions\n",
    "predictions = cross_val_predict(model, X, y, cv=3)\n",
    "plt.scatter(y, predictions)\n",
    "accuracy = metrics.r2_score(y, predictions)\n",
    "print \"Cross-Predicted Accuracy:\", accuracy\n",
    "print model.coef_"
   ]
  },
  {
   "cell_type": "code",
   "execution_count": 215,
   "metadata": {
    "collapsed": false
   },
   "outputs": [
    {
     "name": "stdout",
     "output_type": "stream",
     "text": [
      "Cross-validated scores: [-1.8736271   0.87601355  0.99866744]\n",
      "Cross-Predicted Accuracy: 0.810849051943\n",
      "[ 0.          7.48925781]\n"
     ]
    },
    {
     "data": {
      "image/png": "[encoded data removed]",
      "text/plain": [
       "<matplotlib.figure.Figure at 0x1a2d3aa50>"
      ]
     },
     "metadata": {},
     "output_type": "display_data"
    }
   ],
   "source": [
    "from sklearn.cross_validation import cross_val_score, cross_val_predict\n",
    "from sklearn import metrics,linear_model\n",
    "import patsy\n",
    "\n",
    "y = merged2015['sale_dollars_all2015']\n",
    "X = merged2015[['sale_dollars_2015Q1']]\n",
    "X = sm.add_constant(X)\n",
    "\n",
    "lm = linear_model.RidgeCV()\n",
    "model = lm.fit(X, y)\n",
    "# Perform 3-fold cross validation\n",
    "\n",
    "scores = cross_val_score(model, X, y, cv=3)\n",
    "print \"Cross-validated scores:\", scores\n",
    "# Make cross validated predictions\n",
    "predictions = cross_val_predict(model, X, y, cv=3)\n",
    "plt.scatter(y, predictions)\n",
    "accuracy = metrics.r2_score(y, predictions)\n",
    "print \"Cross-Predicted Accuracy:\", accuracy\n",
    "print model.coef_"
   ]
  },
  {
   "cell_type": "code",
   "execution_count": 134,
   "metadata": {
    "collapsed": false
   },
   "outputs": [
    {
     "data": {
      "text/html": [
       "<div>\n",
       "<table border=\"1\" class=\"dataframe\">\n",
       "  <thead>\n",
       "    <tr style=\"text-align: right;\">\n",
       "      <th></th>\n",
       "      <th>date</th>\n",
       "      <th>store_number</th>\n",
       "      <th>address</th>\n",
       "      <th>city</th>\n",
       "      <th>zip_code</th>\n",
       "      <th>county_number</th>\n",
       "      <th>category</th>\n",
       "      <th>category_name</th>\n",
       "      <th>vendor_number</th>\n",
       "      <th>pack</th>\n",
       "      <th>bottle_volume_ml</th>\n",
       "      <th>state_bottle_retail</th>\n",
       "      <th>bottles_sold</th>\n",
       "      <th>sale_dollars</th>\n",
       "      <th>volume_sold_liters</th>\n",
       "      <th>year</th>\n",
       "      <th>month</th>\n",
       "    </tr>\n",
       "  </thead>\n",
       "  <tbody>\n",
       "    <tr>\n",
       "      <th>0</th>\n",
       "      <td>2015-11-20</td>\n",
       "      <td>2191</td>\n",
       "      <td>1013 MAIN</td>\n",
       "      <td>KEOKUK</td>\n",
       "      <td>52632</td>\n",
       "      <td>56.0</td>\n",
       "      <td>NaN</td>\n",
       "      <td>NaN</td>\n",
       "      <td>255</td>\n",
       "      <td>6</td>\n",
       "      <td>750</td>\n",
       "      <td>$27.14</td>\n",
       "      <td>6</td>\n",
       "      <td>162.84</td>\n",
       "      <td>4.50</td>\n",
       "      <td>2015</td>\n",
       "      <td>11</td>\n",
       "    </tr>\n",
       "    <tr>\n",
       "      <th>1</th>\n",
       "      <td>2015-11-21</td>\n",
       "      <td>2205</td>\n",
       "      <td>900 E WASHINGTON</td>\n",
       "      <td>CLARINDA</td>\n",
       "      <td>51632</td>\n",
       "      <td>73.0</td>\n",
       "      <td>NaN</td>\n",
       "      <td>NaN</td>\n",
       "      <td>255</td>\n",
       "      <td>6</td>\n",
       "      <td>750</td>\n",
       "      <td>$27.14</td>\n",
       "      <td>12</td>\n",
       "      <td>325.68</td>\n",
       "      <td>9.00</td>\n",
       "      <td>2015</td>\n",
       "      <td>11</td>\n",
       "    </tr>\n",
       "    <tr>\n",
       "      <th>2</th>\n",
       "      <td>2015-11-16</td>\n",
       "      <td>3549</td>\n",
       "      <td>1414 48TH ST</td>\n",
       "      <td>FORT MADISON</td>\n",
       "      <td>52627</td>\n",
       "      <td>56.0</td>\n",
       "      <td>NaN</td>\n",
       "      <td>NaN</td>\n",
       "      <td>130</td>\n",
       "      <td>20</td>\n",
       "      <td>150</td>\n",
       "      <td>$9.60</td>\n",
       "      <td>2</td>\n",
       "      <td>19.20</td>\n",
       "      <td>0.30</td>\n",
       "      <td>2015</td>\n",
       "      <td>11</td>\n",
       "    </tr>\n",
       "    <tr>\n",
       "      <th>3</th>\n",
       "      <td>2015-11-04</td>\n",
       "      <td>2513</td>\n",
       "      <td>812  S 1ST AVE</td>\n",
       "      <td>IOWA CITY</td>\n",
       "      <td>52240</td>\n",
       "      <td>52.0</td>\n",
       "      <td>NaN</td>\n",
       "      <td>NaN</td>\n",
       "      <td>65</td>\n",
       "      <td>3</td>\n",
       "      <td>1750</td>\n",
       "      <td>$53.34</td>\n",
       "      <td>3</td>\n",
       "      <td>160.02</td>\n",
       "      <td>5.25</td>\n",
       "      <td>2015</td>\n",
       "      <td>11</td>\n",
       "    </tr>\n",
       "    <tr>\n",
       "      <th>4</th>\n",
       "      <td>2015-11-17</td>\n",
       "      <td>3942</td>\n",
       "      <td>104 HIGHWAY 30 WEST</td>\n",
       "      <td>TOLEDO</td>\n",
       "      <td>52342</td>\n",
       "      <td>86.0</td>\n",
       "      <td>NaN</td>\n",
       "      <td>NaN</td>\n",
       "      <td>130</td>\n",
       "      <td>20</td>\n",
       "      <td>150</td>\n",
       "      <td>$9.60</td>\n",
       "      <td>2</td>\n",
       "      <td>19.20</td>\n",
       "      <td>0.30</td>\n",
       "      <td>2015</td>\n",
       "      <td>11</td>\n",
       "    </tr>\n",
       "  </tbody>\n",
       "</table>\n",
       "</div>"
      ],
      "text/plain": [
       "        date store_number              address          city zip_code  \\\n",
       "0 2015-11-20         2191            1013 MAIN        KEOKUK    52632   \n",
       "1 2015-11-21         2205     900 E WASHINGTON      CLARINDA    51632   \n",
       "2 2015-11-16         3549         1414 48TH ST  FORT MADISON    52627   \n",
       "3 2015-11-04         2513       812  S 1ST AVE     IOWA CITY    52240   \n",
       "4 2015-11-17         3942  104 HIGHWAY 30 WEST        TOLEDO    52342   \n",
       "\n",
       "   county_number category category_name vendor_number  pack  bottle_volume_ml  \\\n",
       "0           56.0      NaN           NaN           255     6               750   \n",
       "1           73.0      NaN           NaN           255     6               750   \n",
       "2           56.0      NaN           NaN           130    20               150   \n",
       "3           52.0      NaN           NaN            65     3              1750   \n",
       "4           86.0      NaN           NaN           130    20               150   \n",
       "\n",
       "  state_bottle_retail  bottles_sold  sale_dollars  volume_sold_liters  year  \\\n",
       "0              $27.14             6        162.84                4.50  2015   \n",
       "1              $27.14            12        325.68                9.00  2015   \n",
       "2               $9.60             2         19.20                0.30  2015   \n",
       "3              $53.34             3        160.02                5.25  2015   \n",
       "4               $9.60             2         19.20                0.30  2015   \n",
       "\n",
       "  month  \n",
       "0    11  \n",
       "1    11  \n",
       "2    11  \n",
       "3    11  \n",
       "4    11  "
      ]
     },
     "execution_count": 134,
     "metadata": {},
     "output_type": "execute_result"
    }
   ],
   "source": [
    "liq.head()"
   ]
  },
  {
   "cell_type": "code",
   "execution_count": null,
   "metadata": {
    "collapsed": true
   },
   "outputs": [],
   "source": []
  },
  {
   "cell_type": "code",
   "execution_count": 197,
   "metadata": {
    "collapsed": false
   },
   "outputs": [
    {
     "data": {
      "text/plain": [
       "0.0005122493514483747"
      ]
     },
     "execution_count": 197,
     "metadata": {},
     "output_type": "execute_result"
    }
   ],
   "source": [
    "float(liq.county_number[liq.year == '2015'].isnull().sum())/len(liq.county_number[liq.year == '2015'])"
   ]
  },
  {
   "cell_type": "code",
   "execution_count": null,
   "metadata": {
    "collapsed": true
   },
   "outputs": [],
   "source": []
  }
 ],
 "metadata": {
  "anaconda-cloud": {},
  "kernelspec": {
   "display_name": "Python [conda env:py27]",
   "language": "python",
   "name": "conda-env-py27-py"
  },
  "language_info": {
   "codemirror_mode": {
    "name": "ipython",
    "version": 2
   },
   "file_extension": ".py",
   "mimetype": "text/x-python",
   "name": "python",
   "nbconvert_exporter": "python",
   "pygments_lexer": "ipython2",
   "version": "2.7.12"
  }
 },
 "nbformat": 4,
 "nbformat_minor": 1
}
