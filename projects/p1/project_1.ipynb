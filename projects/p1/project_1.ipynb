{
 "cells": [
  {
   "cell_type": "markdown",
   "metadata": {},
   "source": [
    "# Project 1\n",
    "\n",
    "## Step 1: Open the `sat_scores.csv` file. Investigate the data, and answer the questions below.\n"
   ]
  },
  {
   "cell_type": "markdown",
   "metadata": {},
   "source": [
    "##### 1. What does the data describe?"
   ]
  },
  {
   "cell_type": "markdown",
   "metadata": {},
   "source": [
    "It appears to describe the average SAT Verbal and Math scores from each state, as well as the percent of students in that state who took the SAT."
   ]
  },
  {
   "cell_type": "markdown",
   "metadata": {},
   "source": [
    "##### 2. Does the data look complete? Are there any obvious issues with the observations?"
   ]
  },
  {
   "cell_type": "markdown",
   "metadata": {},
   "source": [
    "It appears complete"
   ]
  },
  {
   "cell_type": "markdown",
   "metadata": {},
   "source": [
    "##### 3. Create a data dictionary for the dataset."
   ]
  },
  {
   "cell_type": "markdown",
   "metadata": {
    "collapsed": true
   },
   "source": [
    "State: two-letter abbreviation for state\n",
    "Rate: percent of students who took SAT\n",
    "Verbal: average SAT Verbal score\n",
    "Math: average SAT Math score"
   ]
  },
  {
   "cell_type": "markdown",
   "metadata": {},
   "source": [
    "## Step 2: Load the data."
   ]
  },
  {
   "cell_type": "markdown",
   "metadata": {},
   "source": [
    "##### 4. Load the data into a list of lists"
   ]
  },
  {
   "cell_type": "code",
   "execution_count": 3,
   "metadata": {
    "collapsed": false
   },
   "outputs": [],
   "source": [
    "import csv\n",
    "rows = []\n",
    "with open('assets/sat_scores.csv') as f:\n",
    "    reader = csv.reader(f)\n",
    "    for row in reader:\n",
    "        rows.append(row)\n",
    "f.close()"
   ]
  },
  {
   "cell_type": "markdown",
   "metadata": {},
   "source": [
    "##### 5. Print the data"
   ]
  },
  {
   "cell_type": "code",
   "execution_count": 4,
   "metadata": {
    "collapsed": false
   },
   "outputs": [
    {
     "data": {
      "text/plain": [
       "[['State', 'Rate', 'Verbal', 'Math'],\n",
       " ['CT', '82', '509', '510'],\n",
       " ['NJ', '81', '499', '513'],\n",
       " ['MA', '79', '511', '515'],\n",
       " ['NY', '77', '495', '505'],\n",
       " ['NH', '72', '520', '516'],\n",
       " ['RI', '71', '501', '499'],\n",
       " ['PA', '71', '500', '499'],\n",
       " ['VT', '69', '511', '506'],\n",
       " ['ME', '69', '506', '500'],\n",
       " ['VA', '68', '510', '501'],\n",
       " ['DE', '67', '501', '499'],\n",
       " ['MD', '65', '508', '510'],\n",
       " ['NC', '65', '493', '499'],\n",
       " ['GA', '63', '491', '489'],\n",
       " ['IN', '60', '499', '501'],\n",
       " ['SC', '57', '486', '488'],\n",
       " ['DC', '56', '482', '474'],\n",
       " ['OR', '55', '526', '526'],\n",
       " ['FL', '54', '498', '499'],\n",
       " ['WA', '53', '527', '527'],\n",
       " ['TX', '53', '493', '499'],\n",
       " ['HI', '52', '485', '515'],\n",
       " ['AK', '51', '514', '510'],\n",
       " ['CA', '51', '498', '517'],\n",
       " ['AZ', '34', '523', '525'],\n",
       " ['NV', '33', '509', '515'],\n",
       " ['CO', '31', '539', '542'],\n",
       " ['OH', '26', '534', '439'],\n",
       " ['MT', '23', '539', '539'],\n",
       " ['WV', '18', '527', '512'],\n",
       " ['ID', '17', '543', '542'],\n",
       " ['TN', '13', '562', '553'],\n",
       " ['NM', '13', '551', '542'],\n",
       " ['IL', '12', '576', '589'],\n",
       " ['KY', '12', '550', '550'],\n",
       " ['WY', '11', '547', '545'],\n",
       " ['MI', '11', '561', '572'],\n",
       " ['MN', '9', '580', '589'],\n",
       " ['KS', '9', '577', '580'],\n",
       " ['AL', '9', '559', '554'],\n",
       " ['NE', '8', '562', '568'],\n",
       " ['OK', '8', '567', '561'],\n",
       " ['MO', '8', '577', '577'],\n",
       " ['LA', '7', '564', '562'],\n",
       " ['WI', '6', '584', '596'],\n",
       " ['AR', '6', '562', '550'],\n",
       " ['UT', '5', '575', '570'],\n",
       " ['IA', '5', '593', '603'],\n",
       " ['SD', '4', '577', '582'],\n",
       " ['ND', '4', '592', '599'],\n",
       " ['MS', '4', '566', '551'],\n",
       " ['All', '45', '506', '514']]"
      ]
     },
     "execution_count": 4,
     "metadata": {},
     "output_type": "execute_result"
    }
   ],
   "source": [
    "rows"
   ]
  },
  {
   "cell_type": "markdown",
   "metadata": {
    "collapsed": true
   },
   "source": [
    "##### 6. Extract a list of the labels from the data, and remove them from the data."
   ]
  },
  {
   "cell_type": "code",
   "execution_count": 5,
   "metadata": {
    "collapsed": false
   },
   "outputs": [
    {
     "name": "stdout",
     "output_type": "stream",
     "text": [
      "['State', 'Rate', 'Verbal', 'Math']\n",
      "[['CT', '82', '509', '510'], ['NJ', '81', '499', '513'], ['MA', '79', '511', '515'], ['NY', '77', '495', '505'], ['NH', '72', '520', '516'], ['RI', '71', '501', '499'], ['PA', '71', '500', '499'], ['VT', '69', '511', '506'], ['ME', '69', '506', '500'], ['VA', '68', '510', '501'], ['DE', '67', '501', '499'], ['MD', '65', '508', '510'], ['NC', '65', '493', '499'], ['GA', '63', '491', '489'], ['IN', '60', '499', '501'], ['SC', '57', '486', '488'], ['DC', '56', '482', '474'], ['OR', '55', '526', '526'], ['FL', '54', '498', '499'], ['WA', '53', '527', '527'], ['TX', '53', '493', '499'], ['HI', '52', '485', '515'], ['AK', '51', '514', '510'], ['CA', '51', '498', '517'], ['AZ', '34', '523', '525'], ['NV', '33', '509', '515'], ['CO', '31', '539', '542'], ['OH', '26', '534', '439'], ['MT', '23', '539', '539'], ['WV', '18', '527', '512'], ['ID', '17', '543', '542'], ['TN', '13', '562', '553'], ['NM', '13', '551', '542'], ['IL', '12', '576', '589'], ['KY', '12', '550', '550'], ['WY', '11', '547', '545'], ['MI', '11', '561', '572'], ['MN', '9', '580', '589'], ['KS', '9', '577', '580'], ['AL', '9', '559', '554'], ['NE', '8', '562', '568'], ['OK', '8', '567', '561'], ['MO', '8', '577', '577'], ['LA', '7', '564', '562'], ['WI', '6', '584', '596'], ['AR', '6', '562', '550'], ['UT', '5', '575', '570'], ['IA', '5', '593', '603'], ['SD', '4', '577', '582'], ['ND', '4', '592', '599'], ['MS', '4', '566', '551']]\n",
      "['All', '45', '506', '514']\n"
     ]
    }
   ],
   "source": [
    "headers = rows[0]\n",
    "print(headers)\n",
    "data = rows[1:-1] #bottom row is 'All', so this row is separated from the data\n",
    "print(data)\n",
    "all_states = rows[-1]\n",
    "print(all_states)"
   ]
  },
  {
   "cell_type": "markdown",
   "metadata": {},
   "source": [
    "##### 7. Create a list of State names extracted from the data. (Hint: use the list of labels to index on the State column)"
   ]
  },
  {
   "cell_type": "code",
   "execution_count": 7,
   "metadata": {
    "collapsed": false
   },
   "outputs": [
    {
     "data": {
      "text/plain": [
       "51"
      ]
     },
     "execution_count": 7,
     "metadata": {},
     "output_type": "execute_result"
    }
   ],
   "source": [
    "state_names = [row[0] for row in data]"
   ]
  },
  {
   "cell_type": "markdown",
   "metadata": {},
   "source": [
    "##### 8. Print the types of each column"
   ]
  },
  {
   "cell_type": "code",
   "execution_count": 8,
   "metadata": {
    "collapsed": false
   },
   "outputs": [
    {
     "name": "stdout",
     "output_type": "stream",
     "text": [
      "<type 'str'>\n",
      "<type 'str'>\n",
      "<type 'str'>\n",
      "<type 'str'>\n"
     ]
    }
   ],
   "source": [
    "for i in range(4):\n",
    "    print type(data[0][i])"
   ]
  },
  {
   "cell_type": "markdown",
   "metadata": {},
   "source": [
    "##### 9. Do any types need to be reassigned? If so, go ahead and do it."
   ]
  },
  {
   "cell_type": "code",
   "execution_count": 11,
   "metadata": {
    "collapsed": false
   },
   "outputs": [
    {
     "data": {
      "text/plain": [
       "[['CT', 82.0, 509.0, 510.0],\n",
       " ['NJ', 81.0, 499.0, 513.0],\n",
       " ['MA', 79.0, 511.0, 515.0],\n",
       " ['NY', 77.0, 495.0, 505.0],\n",
       " ['NH', 72.0, 520.0, 516.0],\n",
       " ['RI', 71.0, 501.0, 499.0],\n",
       " ['PA', 71.0, 500.0, 499.0],\n",
       " ['VT', 69.0, 511.0, 506.0],\n",
       " ['ME', 69.0, 506.0, 500.0],\n",
       " ['VA', 68.0, 510.0, 501.0],\n",
       " ['DE', 67.0, 501.0, 499.0],\n",
       " ['MD', 65.0, 508.0, 510.0],\n",
       " ['NC', 65.0, 493.0, 499.0],\n",
       " ['GA', 63.0, 491.0, 489.0],\n",
       " ['IN', 60.0, 499.0, 501.0],\n",
       " ['SC', 57.0, 486.0, 488.0],\n",
       " ['DC', 56.0, 482.0, 474.0],\n",
       " ['OR', 55.0, 526.0, 526.0],\n",
       " ['FL', 54.0, 498.0, 499.0],\n",
       " ['WA', 53.0, 527.0, 527.0],\n",
       " ['TX', 53.0, 493.0, 499.0],\n",
       " ['HI', 52.0, 485.0, 515.0],\n",
       " ['AK', 51.0, 514.0, 510.0],\n",
       " ['CA', 51.0, 498.0, 517.0],\n",
       " ['AZ', 34.0, 523.0, 525.0],\n",
       " ['NV', 33.0, 509.0, 515.0],\n",
       " ['CO', 31.0, 539.0, 542.0],\n",
       " ['OH', 26.0, 534.0, 439.0],\n",
       " ['MT', 23.0, 539.0, 539.0],\n",
       " ['WV', 18.0, 527.0, 512.0],\n",
       " ['ID', 17.0, 543.0, 542.0],\n",
       " ['TN', 13.0, 562.0, 553.0],\n",
       " ['NM', 13.0, 551.0, 542.0],\n",
       " ['IL', 12.0, 576.0, 589.0],\n",
       " ['KY', 12.0, 550.0, 550.0],\n",
       " ['WY', 11.0, 547.0, 545.0],\n",
       " ['MI', 11.0, 561.0, 572.0],\n",
       " ['MN', 9.0, 580.0, 589.0],\n",
       " ['KS', 9.0, 577.0, 580.0],\n",
       " ['AL', 9.0, 559.0, 554.0],\n",
       " ['NE', 8.0, 562.0, 568.0],\n",
       " ['OK', 8.0, 567.0, 561.0],\n",
       " ['MO', 8.0, 577.0, 577.0],\n",
       " ['LA', 7.0, 564.0, 562.0],\n",
       " ['WI', 6.0, 584.0, 596.0],\n",
       " ['AR', 6.0, 562.0, 550.0],\n",
       " ['UT', 5.0, 575.0, 570.0],\n",
       " ['IA', 5.0, 593.0, 603.0],\n",
       " ['SD', 4.0, 577.0, 582.0],\n",
       " ['ND', 4.0, 592.0, 599.0],\n",
       " ['MS', 4.0, 566.0, 551.0]]"
      ]
     },
     "execution_count": 11,
     "metadata": {},
     "output_type": "execute_result"
    }
   ],
   "source": [
    "#all columns were assigned as strings by default, but only the first column \n",
    "#should be a string - the rest should be floats (to make calculations easier)\n",
    "data = [[d[0], float(d[1]), float(d[2]), float(d[3])] for d in data]"
   ]
  },
  {
   "cell_type": "markdown",
   "metadata": {},
   "source": [
    "##### 10. Create a dictionary for each column mapping the State to its respective value for that column. "
   ]
  },
  {
   "cell_type": "code",
   "execution_count": 18,
   "metadata": {
    "collapsed": false
   },
   "outputs": [
    {
     "data": {
      "text/plain": [
       "{'AK': [51.0, 514.0, 510.0],\n",
       " 'AL': [9.0, 559.0, 554.0],\n",
       " 'AR': [6.0, 562.0, 550.0],\n",
       " 'AZ': [34.0, 523.0, 525.0],\n",
       " 'CA': [51.0, 498.0, 517.0],\n",
       " 'CO': [31.0, 539.0, 542.0],\n",
       " 'CT': [82.0, 509.0, 510.0],\n",
       " 'DC': [56.0, 482.0, 474.0],\n",
       " 'DE': [67.0, 501.0, 499.0],\n",
       " 'FL': [54.0, 498.0, 499.0],\n",
       " 'GA': [63.0, 491.0, 489.0],\n",
       " 'HI': [52.0, 485.0, 515.0],\n",
       " 'IA': [5.0, 593.0, 603.0],\n",
       " 'ID': [17.0, 543.0, 542.0],\n",
       " 'IL': [12.0, 576.0, 589.0],\n",
       " 'IN': [60.0, 499.0, 501.0],\n",
       " 'KS': [9.0, 577.0, 580.0],\n",
       " 'KY': [12.0, 550.0, 550.0],\n",
       " 'LA': [7.0, 564.0, 562.0],\n",
       " 'MA': [79.0, 511.0, 515.0],\n",
       " 'MD': [65.0, 508.0, 510.0],\n",
       " 'ME': [69.0, 506.0, 500.0],\n",
       " 'MI': [11.0, 561.0, 572.0],\n",
       " 'MN': [9.0, 580.0, 589.0],\n",
       " 'MO': [8.0, 577.0, 577.0],\n",
       " 'MS': [4.0, 566.0, 551.0],\n",
       " 'MT': [23.0, 539.0, 539.0],\n",
       " 'NC': [65.0, 493.0, 499.0],\n",
       " 'ND': [4.0, 592.0, 599.0],\n",
       " 'NE': [8.0, 562.0, 568.0],\n",
       " 'NH': [72.0, 520.0, 516.0],\n",
       " 'NJ': [81.0, 499.0, 513.0],\n",
       " 'NM': [13.0, 551.0, 542.0],\n",
       " 'NV': [33.0, 509.0, 515.0],\n",
       " 'NY': [77.0, 495.0, 505.0],\n",
       " 'OH': [26.0, 534.0, 439.0],\n",
       " 'OK': [8.0, 567.0, 561.0],\n",
       " 'OR': [55.0, 526.0, 526.0],\n",
       " 'PA': [71.0, 500.0, 499.0],\n",
       " 'RI': [71.0, 501.0, 499.0],\n",
       " 'SC': [57.0, 486.0, 488.0],\n",
       " 'SD': [4.0, 577.0, 582.0],\n",
       " 'TN': [13.0, 562.0, 553.0],\n",
       " 'TX': [53.0, 493.0, 499.0],\n",
       " 'UT': [5.0, 575.0, 570.0],\n",
       " 'VA': [68.0, 510.0, 501.0],\n",
       " 'VT': [69.0, 511.0, 506.0],\n",
       " 'WA': [53.0, 527.0, 527.0],\n",
       " 'WI': [6.0, 584.0, 596.0],\n",
       " 'WV': [18.0, 527.0, 512.0],\n",
       " 'WY': [11.0, 547.0, 545.0]}"
      ]
     },
     "execution_count": 18,
     "metadata": {},
     "output_type": "execute_result"
    }
   ],
   "source": [
    "data_dict = {}\n",
    "for i, state in enumerate(state_names):\n",
    "    data_dict[state] = data[i][1:] \n",
    "data_dict"
   ]
  },
  {
   "cell_type": "markdown",
   "metadata": {},
   "source": [
    "##### 11. Create a dictionary with the values for each of the numeric columns"
   ]
  },
  {
   "cell_type": "code",
   "execution_count": 35,
   "metadata": {
    "collapsed": false
   },
   "outputs": [
    {
     "data": {
      "text/plain": [
       "{'Math': [510.0,\n",
       "  513.0,\n",
       "  515.0,\n",
       "  505.0,\n",
       "  516.0,\n",
       "  499.0,\n",
       "  499.0,\n",
       "  506.0,\n",
       "  500.0,\n",
       "  501.0,\n",
       "  499.0,\n",
       "  510.0,\n",
       "  499.0,\n",
       "  489.0,\n",
       "  501.0,\n",
       "  488.0,\n",
       "  474.0,\n",
       "  526.0,\n",
       "  499.0,\n",
       "  527.0,\n",
       "  499.0,\n",
       "  515.0,\n",
       "  510.0,\n",
       "  517.0,\n",
       "  525.0,\n",
       "  515.0,\n",
       "  542.0,\n",
       "  439.0,\n",
       "  539.0,\n",
       "  512.0,\n",
       "  542.0,\n",
       "  553.0,\n",
       "  542.0,\n",
       "  589.0,\n",
       "  550.0,\n",
       "  545.0,\n",
       "  572.0,\n",
       "  589.0,\n",
       "  580.0,\n",
       "  554.0,\n",
       "  568.0,\n",
       "  561.0,\n",
       "  577.0,\n",
       "  562.0,\n",
       "  596.0,\n",
       "  550.0,\n",
       "  570.0,\n",
       "  603.0,\n",
       "  582.0,\n",
       "  599.0,\n",
       "  551.0],\n",
       " 'Rate': [82.0,\n",
       "  81.0,\n",
       "  79.0,\n",
       "  77.0,\n",
       "  72.0,\n",
       "  71.0,\n",
       "  71.0,\n",
       "  69.0,\n",
       "  69.0,\n",
       "  68.0,\n",
       "  67.0,\n",
       "  65.0,\n",
       "  65.0,\n",
       "  63.0,\n",
       "  60.0,\n",
       "  57.0,\n",
       "  56.0,\n",
       "  55.0,\n",
       "  54.0,\n",
       "  53.0,\n",
       "  53.0,\n",
       "  52.0,\n",
       "  51.0,\n",
       "  51.0,\n",
       "  34.0,\n",
       "  33.0,\n",
       "  31.0,\n",
       "  26.0,\n",
       "  23.0,\n",
       "  18.0,\n",
       "  17.0,\n",
       "  13.0,\n",
       "  13.0,\n",
       "  12.0,\n",
       "  12.0,\n",
       "  11.0,\n",
       "  11.0,\n",
       "  9.0,\n",
       "  9.0,\n",
       "  9.0,\n",
       "  8.0,\n",
       "  8.0,\n",
       "  8.0,\n",
       "  7.0,\n",
       "  6.0,\n",
       "  6.0,\n",
       "  5.0,\n",
       "  5.0,\n",
       "  4.0,\n",
       "  4.0,\n",
       "  4.0],\n",
       " 'Verbal': [509.0,\n",
       "  499.0,\n",
       "  511.0,\n",
       "  495.0,\n",
       "  520.0,\n",
       "  501.0,\n",
       "  500.0,\n",
       "  511.0,\n",
       "  506.0,\n",
       "  510.0,\n",
       "  501.0,\n",
       "  508.0,\n",
       "  493.0,\n",
       "  491.0,\n",
       "  499.0,\n",
       "  486.0,\n",
       "  482.0,\n",
       "  526.0,\n",
       "  498.0,\n",
       "  527.0,\n",
       "  493.0,\n",
       "  485.0,\n",
       "  514.0,\n",
       "  498.0,\n",
       "  523.0,\n",
       "  509.0,\n",
       "  539.0,\n",
       "  534.0,\n",
       "  539.0,\n",
       "  527.0,\n",
       "  543.0,\n",
       "  562.0,\n",
       "  551.0,\n",
       "  576.0,\n",
       "  550.0,\n",
       "  547.0,\n",
       "  561.0,\n",
       "  580.0,\n",
       "  577.0,\n",
       "  559.0,\n",
       "  562.0,\n",
       "  567.0,\n",
       "  577.0,\n",
       "  564.0,\n",
       "  584.0,\n",
       "  562.0,\n",
       "  575.0,\n",
       "  593.0,\n",
       "  577.0,\n",
       "  592.0,\n",
       "  566.0]}"
      ]
     },
     "execution_count": 35,
     "metadata": {},
     "output_type": "execute_result"
    }
   ],
   "source": [
    "columns = {}\n",
    "for i, head in enumerate(headers):\n",
    "    if head != 'State':\n",
    "        columns[head] = [d[i] for d in data] \n",
    "columns"
   ]
  },
  {
   "cell_type": "markdown",
   "metadata": {},
   "source": [
    "## Step 3: Describe the data"
   ]
  },
  {
   "cell_type": "markdown",
   "metadata": {},
   "source": [
    "##### 12. Print the min and max of each column"
   ]
  },
  {
   "cell_type": "code",
   "execution_count": 37,
   "metadata": {
    "collapsed": false
   },
   "outputs": [
    {
     "name": "stdout",
     "output_type": "stream",
     "text": [
      "Rate: min = 4.0, max = 82.0\n",
      "Math: min = 439.0, max = 603.0\n",
      "Verbal: min = 482.0, max = 593.0\n"
     ]
    }
   ],
   "source": [
    "for key, value in columns.items():\n",
    "    print '{}: min = {}, max = {}'.format(key, min(value), max(value))"
   ]
  },
  {
   "cell_type": "markdown",
   "metadata": {},
   "source": [
    "##### 13. Write a function using only list comprehensions, no loops, to compute Standard Deviation. Print the Standard Deviation of each numeric column."
   ]
  },
  {
   "cell_type": "code",
   "execution_count": 40,
   "metadata": {
    "collapsed": false
   },
   "outputs": [
    {
     "name": "stdout",
     "output_type": "stream",
     "text": [
      "Rate: standard deviation = 27.2792386761\n",
      "Math: standard deviation = 35.9298731731\n",
      "Verbal: standard deviation = 33.0319826842\n"
     ]
    }
   ],
   "source": [
    "def st_dev(array):\n",
    "    mean = sum(array) / len(array)\n",
    "    squared_diff_from_mean = [(a - mean) ** 2 for a in array]\n",
    "    variance = sum(squared_diff_from_mean) / len(squared_diff_from_mean)\n",
    "    return variance ** .5\n",
    "for key, value in columns.items():\n",
    "    print '{}: standard deviation = {}'.format(key, st_dev(value))"
   ]
  },
  {
   "cell_type": "markdown",
   "metadata": {},
   "source": [
    "## Step 4: Visualize the data"
   ]
  },
  {
   "cell_type": "markdown",
   "metadata": {
    "collapsed": true
   },
   "source": [
    "##### 14. Using MatPlotLib and PyPlot, plot the distribution of the Rate using histograms."
   ]
  },
  {
   "cell_type": "code",
   "execution_count": 47,
   "metadata": {
    "collapsed": false
   },
   "outputs": [
    {
     "data": {
      "image/png": "[encoded data removed]",
      "text/plain": [
       "<matplotlib.figure.Figure at 0x10d5412d0>"
      ]
     },
     "metadata": {},
     "output_type": "display_data"
    }
   ],
   "source": [
    "from matplotlib import pyplot as plt\n",
    "import seaborn as sns\n",
    "%matplotlib inline\n",
    "plt.hist(columns['Rate'])\n",
    "plt.show()"
   ]
  },
  {
   "cell_type": "markdown",
   "metadata": {},
   "source": [
    "##### 15. Plot the Math distribution"
   ]
  },
  {
   "cell_type": "code",
   "execution_count": 48,
   "metadata": {
    "collapsed": false
   },
   "outputs": [
    {
     "data": {
      "image/png": "[encoded data removed]",
      "text/plain": [
       "<matplotlib.figure.Figure at 0x11054cdd0>"
      ]
     },
     "metadata": {},
     "output_type": "display_data"
    }
   ],
   "source": [
    "from matplotlib import pyplot as plt\n",
    "import seaborn as sns\n",
    "%matplotlib inline\n",
    "plt.hist(columns['Math'])\n",
    "plt.show()"
   ]
  },
  {
   "cell_type": "markdown",
   "metadata": {},
   "source": [
    "##### 16. Plot the Verbal distribution"
   ]
  },
  {
   "cell_type": "code",
   "execution_count": 50,
   "metadata": {
    "collapsed": false
   },
   "outputs": [
    {
     "data": {
      "image/png": "[encoded data removed]",
      "text/plain": [
       "<matplotlib.figure.Figure at 0x110691510>"
      ]
     },
     "metadata": {},
     "output_type": "display_data"
    }
   ],
   "source": [
    "from matplotlib import pyplot as plt\n",
    "import seaborn as sns\n",
    "%matplotlib inline\n",
    "plt.hist(columns['Verbal'])\n",
    "plt.show()"
   ]
  },
  {
   "cell_type": "markdown",
   "metadata": {},
   "source": [
    "##### 17. What is the typical assumption for data distribution?"
   ]
  },
  {
   "cell_type": "markdown",
   "metadata": {
    "collapsed": false
   },
   "source": [
    "The typical assumption for data distribution is that the distribution is normal"
   ]
  },
  {
   "cell_type": "markdown",
   "metadata": {},
   "source": [
    "##### 18. Does that distribution hold true for our data?"
   ]
  },
  {
   "cell_type": "code",
   "execution_count": 54,
   "metadata": {
    "collapsed": false
   },
   "outputs": [
    {
     "name": "stdout",
     "output_type": "stream",
     "text": [
      "DescribeResult(nobs=51, minmax=(4.0, 82.0), mean=37.0, variance=759.03999999999996, skewness=0.1567369253739697, kurtosis=-1.611675481201603) median:  33.0\n",
      "DescribeResult(nobs=51, minmax=(439.0, 603.0), mean=531.84313725490199, variance=1316.7749019607843, skewness=0.13979888597800413, kurtosis=-0.4865184309245274) median:  525.0\n",
      "DescribeResult(nobs=51, minmax=(482.0, 593.0), mean=532.52941176470586, variance=1112.9341176470589, skewness=0.21821597422429911, kurtosis=-1.3399673179144787) median:  527.0\n"
     ]
    }
   ],
   "source": [
    "from scipy.stats import describe\n",
    "import numpy as np\n",
    "print describe(columns['Rate']), 'median: ', np.median(columns['Rate'])\n",
    "#does not appear normal, has more than one peak, and the kurtosis is too low.\n",
    "print describe(columns['Math']), 'median: ', np.median(columns['Math'])\n",
    "#appears closer to normal, has acceptable skewness and kurtosis - normal assumption met\n",
    "print describe(columns['Verbal']), 'median: ', np.median(columns['Verbal'])\n",
    "#does not appear normal, has more than one peak, and the kurtosis is too low.\n",
    "\n",
    "\"\"\"Conclusion: the assumption of normality does not hold true for Rate or Verbal, but does for Math\"\"\""
   ]
  },
  {
   "cell_type": "markdown",
   "metadata": {},
   "source": [
    "##### 19. Plot some scatterplots. **BONUS**: Use a PyPlot `figure` to present multiple plots at once."
   ]
  },
  {
   "cell_type": "code",
   "execution_count": 73,
   "metadata": {
    "collapsed": false
   },
   "outputs": [
    {
     "data": {
      "image/png": "[encoded data removed]",
      "text/plain": [
       "<matplotlib.figure.Figure at 0x1130c3b50>"
      ]
     },
     "metadata": {},
     "output_type": "display_data"
    }
   ],
   "source": [
    "plt.figure(figsize=(8,15))\n",
    "\n",
    "plt.subplot(311)\n",
    "plt.scatter(columns['Verbal'], columns['Math'])\n",
    "plt.title(\"Verbal vs Math\")\n",
    "plt.xlabel(\"Verbal\")\n",
    "plt.ylabel(\"Math\")\n",
    "\n",
    "plt.subplot(312)\n",
    "plt.scatter(columns['Rate'], columns['Math'])\n",
    "plt.title(\"Rate vs Math\")\n",
    "plt.xlabel(\"Rate\")\n",
    "plt.ylabel(\"Math\")\n",
    "\n",
    "plt.subplot(313)\n",
    "plt.scatter(columns['Rate'], columns['Verbal'])\n",
    "plt.title(\"Rate vs Verbal\")\n",
    "plt.xlabel(\"Rate\")\n",
    "plt.ylabel(\"Verbal\")\n",
    "\n",
    "plt.show()"
   ]
  },
  {
   "cell_type": "markdown",
   "metadata": {},
   "source": [
    "##### 20. Are there any interesting relationships to note?"
   ]
  },
  {
   "cell_type": "markdown",
   "metadata": {
    "collapsed": false
   },
   "source": [
    "As I'd expect, higher verbal scores correlate strongly with higher math scores; what is a bit more surprising is the fact that there is a negative correlation between rate and both math and verbal scores, which suggests that the more people who take the SATs in a state, the lower their average SAT scores. This is not terribly surprising if you consider that in states where fewer students take it, it's likely those are the more advanced students. I'm intrigued by the lack of middle values for pretty much all the datasets - where is there such a break? "
   ]
  },
  {
   "cell_type": "markdown",
   "metadata": {},
   "source": [
    "##### 21. Create box plots for each variable. "
   ]
  },
  {
   "cell_type": "code",
   "execution_count": 56,
   "metadata": {
    "collapsed": false
   },
   "outputs": [
    {
     "data": {
      "image/png": "[encoded data removed]",
      "text/plain": [
       "<matplotlib.figure.Figure at 0x110555390>"
      ]
     },
     "metadata": {},
     "output_type": "display_data"
    }
   ],
   "source": [
    "fig2 = plt.figure(figsize = (15,5))\n",
    "ax1_1 = fig2.add_subplot(1,3,1)\n",
    "ax2_2 = fig2.add_subplot(1,3,2)\n",
    "ax3_3 = fig2.add_subplot(1,3,3)\n",
    "ax1_1.boxplot(columns['Rate'])\n",
    "ax2_2.boxplot(columns['Math'])\n",
    "ax3_3.boxplot(columns['Verbal'])\n",
    "plt.show()"
   ]
  },
  {
   "cell_type": "markdown",
   "metadata": {},
   "source": [
    "##### BONUS: Using Tableau, create a heat map for each variable using a map of the US. "
   ]
  },
  {
   "cell_type": "code",
   "execution_count": null,
   "metadata": {
    "collapsed": true
   },
   "outputs": [],
   "source": []
  }
 ],
 "metadata": {
  "anaconda-cloud": {},
  "kernelspec": {
   "display_name": "Python [conda env:py27]",
   "language": "python",
   "name": "conda-env-py27-py"
  },
  "language_info": {
   "codemirror_mode": {
    "name": "ipython",
    "version": 2
   },
   "file_extension": ".py",
   "mimetype": "text/x-python",
   "name": "python",
   "nbconvert_exporter": "python",
   "pygments_lexer": "ipython2",
   "version": "2.7.12"
  }
 },
 "nbformat": 4,
 "nbformat_minor": 0
}
