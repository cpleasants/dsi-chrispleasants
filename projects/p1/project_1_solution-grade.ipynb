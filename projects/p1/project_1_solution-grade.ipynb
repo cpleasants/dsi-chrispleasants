{
 "cells": [
  {
   "cell_type": "markdown",
   "metadata": {},
   "source": [
    "# Project 1\n",
    "\n",
    "## Step 1: Open the `sat_scores.csv` file. Investigate the data, and answer the questions below.\n"
   ]
  },
  {
   "cell_type": "markdown",
   "metadata": {},
   "source": [
    "##### 1. What does the data describe?"
   ]
  },
  {
   "cell_type": "markdown",
   "metadata": {},
   "source": [
    "These data describe the average SAT Verbal and Math scores from each state, as well as the percent of students in that state who took the SAT."
   ]
  },
  {
   "cell_type": "markdown",
   "metadata": {},
   "source": [
    "##### 2. Does the data look complete? Are there any obvious issues with the observations?"
   ]
  },
  {
   "cell_type": "code",
   "execution_count": 1,
   "metadata": {
    "collapsed": false
   },
   "outputs": [
    {
     "data": {
      "text/html": [
       "<div>\n",
       "<table border=\"1\" class=\"dataframe\">\n",
       "  <thead>\n",
       "    <tr style=\"text-align: right;\">\n",
       "      <th></th>\n",
       "      <th>Rate</th>\n",
       "      <th>Verbal</th>\n",
       "      <th>Math</th>\n",
       "    </tr>\n",
       "  </thead>\n",
       "  <tbody>\n",
       "    <tr>\n",
       "      <th>count</th>\n",
       "      <td>52.000000</td>\n",
       "      <td>52.000000</td>\n",
       "      <td>52.000000</td>\n",
       "    </tr>\n",
       "    <tr>\n",
       "      <th>mean</th>\n",
       "      <td>37.153846</td>\n",
       "      <td>532.019231</td>\n",
       "      <td>531.500000</td>\n",
       "    </tr>\n",
       "    <tr>\n",
       "      <th>std</th>\n",
       "      <td>27.301788</td>\n",
       "      <td>33.236225</td>\n",
       "      <td>36.014975</td>\n",
       "    </tr>\n",
       "    <tr>\n",
       "      <th>min</th>\n",
       "      <td>4.000000</td>\n",
       "      <td>482.000000</td>\n",
       "      <td>439.000000</td>\n",
       "    </tr>\n",
       "    <tr>\n",
       "      <th>25%</th>\n",
       "      <td>9.000000</td>\n",
       "      <td>501.000000</td>\n",
       "      <td>504.000000</td>\n",
       "    </tr>\n",
       "    <tr>\n",
       "      <th>50%</th>\n",
       "      <td>33.500000</td>\n",
       "      <td>526.500000</td>\n",
       "      <td>521.000000</td>\n",
       "    </tr>\n",
       "    <tr>\n",
       "      <th>75%</th>\n",
       "      <td>63.500000</td>\n",
       "      <td>562.000000</td>\n",
       "      <td>555.750000</td>\n",
       "    </tr>\n",
       "    <tr>\n",
       "      <th>max</th>\n",
       "      <td>82.000000</td>\n",
       "      <td>593.000000</td>\n",
       "      <td>603.000000</td>\n",
       "    </tr>\n",
       "  </tbody>\n",
       "</table>\n",
       "</div>"
      ],
      "text/plain": [
       "            Rate      Verbal        Math\n",
       "count  52.000000   52.000000   52.000000\n",
       "mean   37.153846  532.019231  531.500000\n",
       "std    27.301788   33.236225   36.014975\n",
       "min     4.000000  482.000000  439.000000\n",
       "25%     9.000000  501.000000  504.000000\n",
       "50%    33.500000  526.500000  521.000000\n",
       "75%    63.500000  562.000000  555.750000\n",
       "max    82.000000  593.000000  603.000000"
      ]
     },
     "execution_count": 1,
     "metadata": {},
     "output_type": "execute_result"
    }
   ],
   "source": [
    "import pandas as pd\n",
    "dataset = pd.read_csv('assets/sat_scores.csv')\n",
    "dataset.describe()\n",
    "# It appears complete. Each column has 52 values, the mins and maxes seem reasonable."
   ]
  },
  {
   "cell_type": "markdown",
   "metadata": {},
   "source": [
    "##### 3. Create a data dictionary for the dataset."
   ]
  },
  {
   "cell_type": "markdown",
   "metadata": {
    "collapsed": true
   },
   "source": [
    "column # |header  |data type |description \n",
    "---------|--------|----------|-------------------------------------------------------\n",
    "column 1 |\"State\" | string   |two-letter abbreviation for each state, 1 row for \"All\"\n",
    "column 2 |\"Rate\"  | integer  |percent of students who took SAT (out of 100)\n",
    "column 3 |\"Verbal\"| integer  |average SAT Verbal score (out of 800)\n",
    "column 4 |\"Math\"  | integer  |average SAT Math score (out of 800)"
   ]
  },
  {
   "cell_type": "code",
   "execution_count": null,
   "metadata": {
    "collapsed": true
   },
   "outputs": [],
   "source": [
    "#JB beautiful! No need for col# col next time, just header"
   ]
  },
  {
   "cell_type": "markdown",
   "metadata": {},
   "source": [
    "## Step 2: Load the data."
   ]
  },
  {
   "cell_type": "markdown",
   "metadata": {},
   "source": [
    "##### 4. Load the data into a list of lists"
   ]
  },
  {
   "cell_type": "code",
   "execution_count": 2,
   "metadata": {
    "collapsed": false
   },
   "outputs": [],
   "source": [
    "import csv\n",
    "rows = []\n",
    "with open('assets/sat_scores.csv') as f:\n",
    "    reader = csv.reader(f)\n",
    "    for row in reader:\n",
    "        rows.append(row)\n",
    "f.close()"
   ]
  },
  {
   "cell_type": "markdown",
   "metadata": {},
   "source": [
    "##### 5. Print the data"
   ]
  },
  {
   "cell_type": "code",
   "execution_count": 3,
   "metadata": {
    "collapsed": false
   },
   "outputs": [
    {
     "data": {
      "text/plain": [
       "[['State', 'Rate', 'Verbal', 'Math'],\n",
       " ['CT', '82', '509', '510'],\n",
       " ['NJ', '81', '499', '513'],\n",
       " ['MA', '79', '511', '515'],\n",
       " ['NY', '77', '495', '505'],\n",
       " ['NH', '72', '520', '516'],\n",
       " ['RI', '71', '501', '499'],\n",
       " ['PA', '71', '500', '499'],\n",
       " ['VT', '69', '511', '506'],\n",
       " ['ME', '69', '506', '500'],\n",
       " ['VA', '68', '510', '501'],\n",
       " ['DE', '67', '501', '499'],\n",
       " ['MD', '65', '508', '510'],\n",
       " ['NC', '65', '493', '499'],\n",
       " ['GA', '63', '491', '489'],\n",
       " ['IN', '60', '499', '501'],\n",
       " ['SC', '57', '486', '488'],\n",
       " ['DC', '56', '482', '474'],\n",
       " ['OR', '55', '526', '526'],\n",
       " ['FL', '54', '498', '499'],\n",
       " ['WA', '53', '527', '527'],\n",
       " ['TX', '53', '493', '499'],\n",
       " ['HI', '52', '485', '515'],\n",
       " ['AK', '51', '514', '510'],\n",
       " ['CA', '51', '498', '517'],\n",
       " ['AZ', '34', '523', '525'],\n",
       " ['NV', '33', '509', '515'],\n",
       " ['CO', '31', '539', '542'],\n",
       " ['OH', '26', '534', '439'],\n",
       " ['MT', '23', '539', '539'],\n",
       " ['WV', '18', '527', '512'],\n",
       " ['ID', '17', '543', '542'],\n",
       " ['TN', '13', '562', '553'],\n",
       " ['NM', '13', '551', '542'],\n",
       " ['IL', '12', '576', '589'],\n",
       " ['KY', '12', '550', '550'],\n",
       " ['WY', '11', '547', '545'],\n",
       " ['MI', '11', '561', '572'],\n",
       " ['MN', '9', '580', '589'],\n",
       " ['KS', '9', '577', '580'],\n",
       " ['AL', '9', '559', '554'],\n",
       " ['NE', '8', '562', '568'],\n",
       " ['OK', '8', '567', '561'],\n",
       " ['MO', '8', '577', '577'],\n",
       " ['LA', '7', '564', '562'],\n",
       " ['WI', '6', '584', '596'],\n",
       " ['AR', '6', '562', '550'],\n",
       " ['UT', '5', '575', '570'],\n",
       " ['IA', '5', '593', '603'],\n",
       " ['SD', '4', '577', '582'],\n",
       " ['ND', '4', '592', '599'],\n",
       " ['MS', '4', '566', '551'],\n",
       " ['All', '45', '506', '514']]"
      ]
     },
     "execution_count": 3,
     "metadata": {},
     "output_type": "execute_result"
    }
   ],
   "source": [
    "rows"
   ]
  },
  {
   "cell_type": "markdown",
   "metadata": {
    "collapsed": true
   },
   "source": [
    "##### 6. Extract a list of the labels from the data, and remove them from the data."
   ]
  },
  {
   "cell_type": "code",
   "execution_count": 4,
   "metadata": {
    "collapsed": false
   },
   "outputs": [
    {
     "name": "stdout",
     "output_type": "stream",
     "text": [
      "['State', 'Rate', 'Verbal', 'Math']\n",
      "[['CT', '82', '509', '510'], ['NJ', '81', '499', '513'], ['MA', '79', '511', '515'], ['NY', '77', '495', '505'], ['NH', '72', '520', '516'], ['RI', '71', '501', '499'], ['PA', '71', '500', '499'], ['VT', '69', '511', '506'], ['ME', '69', '506', '500'], ['VA', '68', '510', '501'], ['DE', '67', '501', '499'], ['MD', '65', '508', '510'], ['NC', '65', '493', '499'], ['GA', '63', '491', '489'], ['IN', '60', '499', '501'], ['SC', '57', '486', '488'], ['DC', '56', '482', '474'], ['OR', '55', '526', '526'], ['FL', '54', '498', '499'], ['WA', '53', '527', '527'], ['TX', '53', '493', '499'], ['HI', '52', '485', '515'], ['AK', '51', '514', '510'], ['CA', '51', '498', '517'], ['AZ', '34', '523', '525'], ['NV', '33', '509', '515'], ['CO', '31', '539', '542'], ['OH', '26', '534', '439'], ['MT', '23', '539', '539'], ['WV', '18', '527', '512'], ['ID', '17', '543', '542'], ['TN', '13', '562', '553'], ['NM', '13', '551', '542'], ['IL', '12', '576', '589'], ['KY', '12', '550', '550'], ['WY', '11', '547', '545'], ['MI', '11', '561', '572'], ['MN', '9', '580', '589'], ['KS', '9', '577', '580'], ['AL', '9', '559', '554'], ['NE', '8', '562', '568'], ['OK', '8', '567', '561'], ['MO', '8', '577', '577'], ['LA', '7', '564', '562'], ['WI', '6', '584', '596'], ['AR', '6', '562', '550'], ['UT', '5', '575', '570'], ['IA', '5', '593', '603'], ['SD', '4', '577', '582'], ['ND', '4', '592', '599'], ['MS', '4', '566', '551']]\n",
      "['All', '45', '506', '514']\n"
     ]
    }
   ],
   "source": [
    "headers = rows[0]\n",
    "print(headers)\n",
    "#creates a new list that includes only the first row of the data, the headers.\n",
    "\n",
    "data = rows[1:-1] \n",
    "print(data)\n",
    "#creates a new list that includes all rows but the first and last of that data, since the bottom row is\n",
    "#'All' states, which would not make sense to include in analysis.\n",
    "\n",
    "all_states = rows[-1]\n",
    "print(all_states)\n",
    "#I included a variable with the \"All\" row in case I want to use it later."
   ]
  },
  {
   "cell_type": "markdown",
   "metadata": {},
   "source": [
    "##### 7. Create a list of State names extracted from the data. (Hint: use the list of labels to index on the State column)"
   ]
  },
  {
   "cell_type": "code",
   "execution_count": 5,
   "metadata": {
    "collapsed": false
   },
   "outputs": [],
   "source": [
    "state_names = [row[0] for row in data]\n",
    "#iterates over all rows and creates a new list that only includes data at index 0, the state names."
   ]
  },
  {
   "cell_type": "markdown",
   "metadata": {},
   "source": [
    "##### 8. Print the types of each column"
   ]
  },
  {
   "cell_type": "code",
   "execution_count": 6,
   "metadata": {
    "collapsed": false
   },
   "outputs": [
    {
     "data": {
      "text/plain": [
       "[str, str, str, str]"
      ]
     },
     "execution_count": 6,
     "metadata": {},
     "output_type": "execute_result"
    }
   ],
   "source": [
    "[type(data[0][i]) for i in range(4)]\n",
    "# Prints the data type of each column for only the first row of data, since all values in each column are of the same type\n",
    "# to check if this assumption is true. I would use the code:\n",
    "# [type(row[i]) for i in range(4) for row in data]\n",
    "# or\n",
    "# for row in data:\n",
    "#     for i in range(4):\n",
    "#         print type(row[i])"
   ]
  },
  {
   "cell_type": "markdown",
   "metadata": {},
   "source": [
    "##### 9. Do any types need to be reassigned? If so, go ahead and do it."
   ]
  },
  {
   "cell_type": "code",
   "execution_count": 7,
   "metadata": {
    "collapsed": false
   },
   "outputs": [
    {
     "data": {
      "text/plain": [
       "[['CT', 82.0, 509.0, 510.0],\n",
       " ['NJ', 81.0, 499.0, 513.0],\n",
       " ['MA', 79.0, 511.0, 515.0],\n",
       " ['NY', 77.0, 495.0, 505.0],\n",
       " ['NH', 72.0, 520.0, 516.0],\n",
       " ['RI', 71.0, 501.0, 499.0],\n",
       " ['PA', 71.0, 500.0, 499.0],\n",
       " ['VT', 69.0, 511.0, 506.0],\n",
       " ['ME', 69.0, 506.0, 500.0],\n",
       " ['VA', 68.0, 510.0, 501.0],\n",
       " ['DE', 67.0, 501.0, 499.0],\n",
       " ['MD', 65.0, 508.0, 510.0],\n",
       " ['NC', 65.0, 493.0, 499.0],\n",
       " ['GA', 63.0, 491.0, 489.0],\n",
       " ['IN', 60.0, 499.0, 501.0],\n",
       " ['SC', 57.0, 486.0, 488.0],\n",
       " ['DC', 56.0, 482.0, 474.0],\n",
       " ['OR', 55.0, 526.0, 526.0],\n",
       " ['FL', 54.0, 498.0, 499.0],\n",
       " ['WA', 53.0, 527.0, 527.0],\n",
       " ['TX', 53.0, 493.0, 499.0],\n",
       " ['HI', 52.0, 485.0, 515.0],\n",
       " ['AK', 51.0, 514.0, 510.0],\n",
       " ['CA', 51.0, 498.0, 517.0],\n",
       " ['AZ', 34.0, 523.0, 525.0],\n",
       " ['NV', 33.0, 509.0, 515.0],\n",
       " ['CO', 31.0, 539.0, 542.0],\n",
       " ['OH', 26.0, 534.0, 439.0],\n",
       " ['MT', 23.0, 539.0, 539.0],\n",
       " ['WV', 18.0, 527.0, 512.0],\n",
       " ['ID', 17.0, 543.0, 542.0],\n",
       " ['TN', 13.0, 562.0, 553.0],\n",
       " ['NM', 13.0, 551.0, 542.0],\n",
       " ['IL', 12.0, 576.0, 589.0],\n",
       " ['KY', 12.0, 550.0, 550.0],\n",
       " ['WY', 11.0, 547.0, 545.0],\n",
       " ['MI', 11.0, 561.0, 572.0],\n",
       " ['MN', 9.0, 580.0, 589.0],\n",
       " ['KS', 9.0, 577.0, 580.0],\n",
       " ['AL', 9.0, 559.0, 554.0],\n",
       " ['NE', 8.0, 562.0, 568.0],\n",
       " ['OK', 8.0, 567.0, 561.0],\n",
       " ['MO', 8.0, 577.0, 577.0],\n",
       " ['LA', 7.0, 564.0, 562.0],\n",
       " ['WI', 6.0, 584.0, 596.0],\n",
       " ['AR', 6.0, 562.0, 550.0],\n",
       " ['UT', 5.0, 575.0, 570.0],\n",
       " ['IA', 5.0, 593.0, 603.0],\n",
       " ['SD', 4.0, 577.0, 582.0],\n",
       " ['ND', 4.0, 592.0, 599.0],\n",
       " ['MS', 4.0, 566.0, 551.0]]"
      ]
     },
     "execution_count": 7,
     "metadata": {},
     "output_type": "execute_result"
    }
   ],
   "source": [
    "#all columns were assigned as strings by default, but only the first column \n",
    "#should be a string - the rest should be floats (to make calculations easier)\n",
    "data = [[d[0], float(d[1]), float(d[2]), float(d[3])] for d in data]  #JB but floats look uglier...\n",
    "#this re-assigns data to the new list which includes float values instead\n",
    "data"
   ]
  },
  {
   "cell_type": "markdown",
   "metadata": {},
   "source": [
    "##### 10. Create a dictionary for each column mapping the State to its respective value for that column. "
   ]
  },
  {
   "cell_type": "code",
   "execution_count": 8,
   "metadata": {
    "collapsed": false
   },
   "outputs": [
    {
     "data": {
      "text/plain": [
       "{'AK': [51.0, 514.0, 510.0],\n",
       " 'AL': [9.0, 559.0, 554.0],\n",
       " 'AR': [6.0, 562.0, 550.0],\n",
       " 'AZ': [34.0, 523.0, 525.0],\n",
       " 'CA': [51.0, 498.0, 517.0],\n",
       " 'CO': [31.0, 539.0, 542.0],\n",
       " 'CT': [82.0, 509.0, 510.0],\n",
       " 'DC': [56.0, 482.0, 474.0],\n",
       " 'DE': [67.0, 501.0, 499.0],\n",
       " 'FL': [54.0, 498.0, 499.0],\n",
       " 'GA': [63.0, 491.0, 489.0],\n",
       " 'HI': [52.0, 485.0, 515.0],\n",
       " 'IA': [5.0, 593.0, 603.0],\n",
       " 'ID': [17.0, 543.0, 542.0],\n",
       " 'IL': [12.0, 576.0, 589.0],\n",
       " 'IN': [60.0, 499.0, 501.0],\n",
       " 'KS': [9.0, 577.0, 580.0],\n",
       " 'KY': [12.0, 550.0, 550.0],\n",
       " 'LA': [7.0, 564.0, 562.0],\n",
       " 'MA': [79.0, 511.0, 515.0],\n",
       " 'MD': [65.0, 508.0, 510.0],\n",
       " 'ME': [69.0, 506.0, 500.0],\n",
       " 'MI': [11.0, 561.0, 572.0],\n",
       " 'MN': [9.0, 580.0, 589.0],\n",
       " 'MO': [8.0, 577.0, 577.0],\n",
       " 'MS': [4.0, 566.0, 551.0],\n",
       " 'MT': [23.0, 539.0, 539.0],\n",
       " 'NC': [65.0, 493.0, 499.0],\n",
       " 'ND': [4.0, 592.0, 599.0],\n",
       " 'NE': [8.0, 562.0, 568.0],\n",
       " 'NH': [72.0, 520.0, 516.0],\n",
       " 'NJ': [81.0, 499.0, 513.0],\n",
       " 'NM': [13.0, 551.0, 542.0],\n",
       " 'NV': [33.0, 509.0, 515.0],\n",
       " 'NY': [77.0, 495.0, 505.0],\n",
       " 'OH': [26.0, 534.0, 439.0],\n",
       " 'OK': [8.0, 567.0, 561.0],\n",
       " 'OR': [55.0, 526.0, 526.0],\n",
       " 'PA': [71.0, 500.0, 499.0],\n",
       " 'RI': [71.0, 501.0, 499.0],\n",
       " 'SC': [57.0, 486.0, 488.0],\n",
       " 'SD': [4.0, 577.0, 582.0],\n",
       " 'TN': [13.0, 562.0, 553.0],\n",
       " 'TX': [53.0, 493.0, 499.0],\n",
       " 'UT': [5.0, 575.0, 570.0],\n",
       " 'VA': [68.0, 510.0, 501.0],\n",
       " 'VT': [69.0, 511.0, 506.0],\n",
       " 'WA': [53.0, 527.0, 527.0],\n",
       " 'WI': [6.0, 584.0, 596.0],\n",
       " 'WV': [18.0, 527.0, 512.0],\n",
       " 'WY': [11.0, 547.0, 545.0]}"
      ]
     },
     "execution_count": 8,
     "metadata": {},
     "output_type": "execute_result"
    }
   ],
   "source": [
    "data_dict = {state_name:data[1:] for state_name, data in zip(state_names, data)}\n",
    "#Creates a dictionary with state names as the key and a list of the values for that state.\n",
    "#since state names are included in 'data', as the first column in each row, I only select the rows 2-4 with [1:]\n",
    "\n",
    "# alternatively could use this code:\n",
    "# data_dict = {}\n",
    "# for i, state in enumerate(state_names):\n",
    "#     data_dict[state] = data[i][1:] \n",
    "data_dict"
   ]
  },
  {
   "cell_type": "markdown",
   "metadata": {},
   "source": [
    "##### 11. Create a dictionary with the values for each of the numeric columns"
   ]
  },
  {
   "cell_type": "code",
   "execution_count": 9,
   "metadata": {
    "collapsed": false
   },
   "outputs": [
    {
     "data": {
      "text/plain": [
       "{'Math': [510.0,\n",
       "  513.0,\n",
       "  515.0,\n",
       "  505.0,\n",
       "  516.0,\n",
       "  499.0,\n",
       "  499.0,\n",
       "  506.0,\n",
       "  500.0,\n",
       "  501.0,\n",
       "  499.0,\n",
       "  510.0,\n",
       "  499.0,\n",
       "  489.0,\n",
       "  501.0,\n",
       "  488.0,\n",
       "  474.0,\n",
       "  526.0,\n",
       "  499.0,\n",
       "  527.0,\n",
       "  499.0,\n",
       "  515.0,\n",
       "  510.0,\n",
       "  517.0,\n",
       "  525.0,\n",
       "  515.0,\n",
       "  542.0,\n",
       "  439.0,\n",
       "  539.0,\n",
       "  512.0,\n",
       "  542.0,\n",
       "  553.0,\n",
       "  542.0,\n",
       "  589.0,\n",
       "  550.0,\n",
       "  545.0,\n",
       "  572.0,\n",
       "  589.0,\n",
       "  580.0,\n",
       "  554.0,\n",
       "  568.0,\n",
       "  561.0,\n",
       "  577.0,\n",
       "  562.0,\n",
       "  596.0,\n",
       "  550.0,\n",
       "  570.0,\n",
       "  603.0,\n",
       "  582.0,\n",
       "  599.0,\n",
       "  551.0],\n",
       " 'Rate': [82.0,\n",
       "  81.0,\n",
       "  79.0,\n",
       "  77.0,\n",
       "  72.0,\n",
       "  71.0,\n",
       "  71.0,\n",
       "  69.0,\n",
       "  69.0,\n",
       "  68.0,\n",
       "  67.0,\n",
       "  65.0,\n",
       "  65.0,\n",
       "  63.0,\n",
       "  60.0,\n",
       "  57.0,\n",
       "  56.0,\n",
       "  55.0,\n",
       "  54.0,\n",
       "  53.0,\n",
       "  53.0,\n",
       "  52.0,\n",
       "  51.0,\n",
       "  51.0,\n",
       "  34.0,\n",
       "  33.0,\n",
       "  31.0,\n",
       "  26.0,\n",
       "  23.0,\n",
       "  18.0,\n",
       "  17.0,\n",
       "  13.0,\n",
       "  13.0,\n",
       "  12.0,\n",
       "  12.0,\n",
       "  11.0,\n",
       "  11.0,\n",
       "  9.0,\n",
       "  9.0,\n",
       "  9.0,\n",
       "  8.0,\n",
       "  8.0,\n",
       "  8.0,\n",
       "  7.0,\n",
       "  6.0,\n",
       "  6.0,\n",
       "  5.0,\n",
       "  5.0,\n",
       "  4.0,\n",
       "  4.0,\n",
       "  4.0],\n",
       " 'Verbal': [509.0,\n",
       "  499.0,\n",
       "  511.0,\n",
       "  495.0,\n",
       "  520.0,\n",
       "  501.0,\n",
       "  500.0,\n",
       "  511.0,\n",
       "  506.0,\n",
       "  510.0,\n",
       "  501.0,\n",
       "  508.0,\n",
       "  493.0,\n",
       "  491.0,\n",
       "  499.0,\n",
       "  486.0,\n",
       "  482.0,\n",
       "  526.0,\n",
       "  498.0,\n",
       "  527.0,\n",
       "  493.0,\n",
       "  485.0,\n",
       "  514.0,\n",
       "  498.0,\n",
       "  523.0,\n",
       "  509.0,\n",
       "  539.0,\n",
       "  534.0,\n",
       "  539.0,\n",
       "  527.0,\n",
       "  543.0,\n",
       "  562.0,\n",
       "  551.0,\n",
       "  576.0,\n",
       "  550.0,\n",
       "  547.0,\n",
       "  561.0,\n",
       "  580.0,\n",
       "  577.0,\n",
       "  559.0,\n",
       "  562.0,\n",
       "  567.0,\n",
       "  577.0,\n",
       "  564.0,\n",
       "  584.0,\n",
       "  562.0,\n",
       "  575.0,\n",
       "  593.0,\n",
       "  577.0,\n",
       "  592.0,\n",
       "  566.0]}"
      ]
     },
     "execution_count": 9,
     "metadata": {},
     "output_type": "execute_result"
    }
   ],
   "source": [
    "columns = {head:[d[i] for d in data] for i, head in enumerate(headers) if head != 'State'}\n",
    "#creates a dictionary with the header names as the keys and a list of just the item in each row that goes with that header.\n",
    "\n",
    "# alternatively could use this code:\n",
    "# columns = {}\n",
    "# for i, head in enumerate(headers):\n",
    "#     if head != 'State':\n",
    "#         columns[head] = [d[i] for d in data] \n",
    "columns\n",
    "\n",
    "#JB beautiful!"
   ]
  },
  {
   "cell_type": "markdown",
   "metadata": {},
   "source": [
    "## Step 3: Describe the data"
   ]
  },
  {
   "cell_type": "markdown",
   "metadata": {},
   "source": [
    "##### 12. Print the min and max of each column"
   ]
  },
  {
   "cell_type": "code",
   "execution_count": 10,
   "metadata": {
    "collapsed": false
   },
   "outputs": [
    {
     "name": "stdout",
     "output_type": "stream",
     "text": [
      "Rate: min = 4.0, max = 82.0\n",
      "Math: min = 439.0, max = 603.0\n",
      "Verbal: min = 482.0, max = 593.0\n"
     ]
    }
   ],
   "source": [
    "for key, value in columns.items():\n",
    "    print '{}: min = {}, max = {}'.format(key, min(value), max(value))"
   ]
  },
  {
   "cell_type": "markdown",
   "metadata": {},
   "source": [
    "##### 13. Write a function using only list comprehensions, no loops, to compute Standard Deviation. Print the Standard Deviation of each numeric column."
   ]
  },
  {
   "cell_type": "code",
   "execution_count": 11,
   "metadata": {
    "collapsed": false
   },
   "outputs": [
    {
     "name": "stdout",
     "output_type": "stream",
     "text": [
      "Rate: standard deviation = 27.2792386761\n",
      "Math: standard deviation = 35.9298731731\n",
      "Verbal: standard deviation = 33.0319826842\n"
     ]
    }
   ],
   "source": [
    "def st_dev(array):\n",
    "    mean = sum(array) / len(array)\n",
    "    squared_diff_from_mean = [(a - mean) ** 2 for a in array]\n",
    "    variance = sum(squared_diff_from_mean) / len(squared_diff_from_mean)\n",
    "    return variance ** .5\n",
    "for key, value in columns.items():\n",
    "    print '{}: standard deviation = {}'.format(key, st_dev(value))"
   ]
  },
  {
   "cell_type": "markdown",
   "metadata": {},
   "source": [
    "## Step 4: Visualize the data"
   ]
  },
  {
   "cell_type": "markdown",
   "metadata": {
    "collapsed": true
   },
   "source": [
    "##### 14. Using MatPlotLib and PyPlot, plot the distribution of the Rate using histograms."
   ]
  },
  {
   "cell_type": "code",
   "execution_count": 12,
   "metadata": {
    "collapsed": false,
    "scrolled": false
   },
   "outputs": [
    {
     "data": {
      "image/png": "[encoded data removed]",
      "text/plain": [
       "<matplotlib.figure.Figure at 0x111617e90>"
      ]
     },
     "metadata": {},
     "output_type": "display_data"
    }
   ],
   "source": [
    "from matplotlib import pyplot as plt\n",
    "import seaborn as sns\n",
    "%matplotlib inline\n",
    "# plt.hist(columns['Rate'])\n",
    "# plt.show()\n",
    "sns.set_style('white')\n",
    "rate_fig = sns.distplot(columns['Rate'], hist_kws={'alpha':0.2}, bins=15)\n",
    "rate_fig.set_title('Percent of Students Taking SAT by State\\n', size='20')\n",
    "rate_fig.set(xlabel = 'Rate', ylabel= 'Probability')\n",
    "plt.show()"
   ]
  },
  {
   "cell_type": "markdown",
   "metadata": {},
   "source": [
    "This distribution appears bimodal, with a large number of states having a very low rate of SAT taking. Some states have a much higher proportion of students taking the SAT. It does not likely meet assumptions of normality."
   ]
  },
  {
   "cell_type": "markdown",
   "metadata": {},
   "source": [
    "##### 15. Plot the Math distribution"
   ]
  },
  {
   "cell_type": "code",
   "execution_count": 13,
   "metadata": {
    "collapsed": false
   },
   "outputs": [
    {
     "data": {
      "image/png": "[encoded data removed]",
      "text/plain": [
       "<matplotlib.figure.Figure at 0x119562dd0>"
      ]
     },
     "metadata": {},
     "output_type": "display_data"
    }
   ],
   "source": [
    "# plt.hist(columns['Math'])\n",
    "# plt.show()\n",
    "math_fig = sns.distplot(columns['Math'], hist_kws={'alpha':0.2}, bins=15)\n",
    "math_fig.set_title('Average SAT Math Score by State\\n', size='20')\n",
    "math_fig.set(xlabel = 'Math Score', ylabel= 'Probability')\n",
    "plt.show()"
   ]
  },
  {
   "cell_type": "markdown",
   "metadata": {},
   "source": [
    "This distribution appears fairly normal, with a center in the low-mid 500s. No states diverge greatly with the rest."
   ]
  },
  {
   "cell_type": "markdown",
   "metadata": {},
   "source": [
    "##### 16. Plot the Verbal distribution"
   ]
  },
  {
   "cell_type": "code",
   "execution_count": 14,
   "metadata": {
    "collapsed": false
   },
   "outputs": [
    {
     "data": {
      "image/png": "[encoded data removed]",
      "text/plain": [
       "<matplotlib.figure.Figure at 0x1114ce790>"
      ]
     },
     "metadata": {},
     "output_type": "display_data"
    }
   ],
   "source": [
    "# plt.hist(columns['Verbal'])\n",
    "# plt.show()\n",
    "verbal_fig = sns.distplot(columns['Verbal'], hist_kws={'alpha':0.2}, bins=15)\n",
    "verbal_fig.set_title('Average SAT Verbal Score by State\\n', size=20)\n",
    "verbal_fig.set(xlabel = 'Verbal Score', ylabel = 'Probability')\n",
    "plt.show()"
   ]
  },
  {
   "cell_type": "markdown",
   "metadata": {},
   "source": [
    "This distribution appears less normal (and possibly bimodal), with a fairly flat distribution and a center in the low-mid 500s. No states diverge greatly with the rest."
   ]
  },
  {
   "cell_type": "markdown",
   "metadata": {},
   "source": [
    "##### 17. What is the typical assumption for data distribution?"
   ]
  },
  {
   "cell_type": "markdown",
   "metadata": {
    "collapsed": false
   },
   "source": [
    "The typical assumption for data distribution is that the distribution is normal."
   ]
  },
  {
   "cell_type": "markdown",
   "metadata": {},
   "source": [
    "##### 18. Does that distribution hold true for our data?"
   ]
  },
  {
   "cell_type": "code",
   "execution_count": 15,
   "metadata": {
    "collapsed": false
   },
   "outputs": [
    {
     "name": "stdout",
     "output_type": "stream",
     "text": [
      "DescribeResult(nobs=51, minmax=(4.0, 82.0), mean=37.0, variance=759.03999999999996, skewness=0.1567369253739697, kurtosis=-1.611675481201603) median:  33.0\n",
      "DescribeResult(nobs=51, minmax=(439.0, 603.0), mean=531.84313725490199, variance=1316.7749019607843, skewness=0.13979888597800413, kurtosis=-0.4865184309245274) median:  525.0\n",
      "DescribeResult(nobs=51, minmax=(482.0, 593.0), mean=532.52941176470586, variance=1112.9341176470589, skewness=0.21821597422429911, kurtosis=-1.3399673179144787) median:  527.0\n"
     ]
    },
    {
     "data": {
      "text/plain": [
       "'Conclusion: the assumption of normality does not hold true for Rate or Verbal, but likely does for Math'"
      ]
     },
     "execution_count": 15,
     "metadata": {},
     "output_type": "execute_result"
    }
   ],
   "source": [
    "from scipy.stats import describe\n",
    "import numpy as np\n",
    "print describe(columns['Rate']), 'median: ', np.median(columns['Rate'])\n",
    "#does not appear normal, has more than one peak, and the kurtosis is too low.\n",
    "print describe(columns['Math']), 'median: ', np.median(columns['Math'])\n",
    "#appears closer to normal, has acceptable skewness and kurtosis - normal assumption likely met\n",
    "print describe(columns['Verbal']), 'median: ', np.median(columns['Verbal'])\n",
    "#does not appear normal, has more than one peak, and the kurtosis is too low.\n",
    "\n",
    "\"\"\"Conclusion: the assumption of normality does not hold true for Rate or Verbal, but likely does for Math\"\"\""
   ]
  },
  {
   "cell_type": "markdown",
   "metadata": {},
   "source": [
    "##### 19. Plot some scatterplots. **BONUS**: Use a PyPlot `figure` to present multiple plots at once."
   ]
  },
  {
   "cell_type": "code",
   "execution_count": 16,
   "metadata": {
    "collapsed": false
   },
   "outputs": [
    {
     "data": {
      "image/png": "[encoded data removed]",
      "text/plain": [
       "<matplotlib.figure.Figure at 0x119cb5f90>"
      ]
     },
     "metadata": {},
     "output_type": "display_data"
    }
   ],
   "source": [
    "plt.figure(figsize=(8,15))\n",
    "\n",
    "plt.subplot(311)\n",
    "plt.scatter(columns['Verbal'], columns['Math'])\n",
    "plt.title(\"Verbal vs Math\")\n",
    "plt.xlabel(\"Verbal\")\n",
    "plt.ylabel(\"Math\")\n",
    "\n",
    "plt.subplot(312)\n",
    "plt.scatter(columns['Rate'], columns['Math'])\n",
    "plt.title(\"Rate vs Math\")\n",
    "plt.xlabel(\"Rate\")\n",
    "plt.ylabel(\"Math\")\n",
    "\n",
    "plt.subplot(313)\n",
    "plt.scatter(columns['Rate'], columns['Verbal'])\n",
    "plt.title(\"Rate vs Verbal\")\n",
    "plt.xlabel(\"Rate\")\n",
    "plt.ylabel(\"Verbal\")\n",
    "\n",
    "plt.show()"
   ]
  },
  {
   "cell_type": "markdown",
   "metadata": {},
   "source": [
    "##### 20. Are there any interesting relationships to note?"
   ]
  },
  {
   "cell_type": "markdown",
   "metadata": {
    "collapsed": false
   },
   "source": [
    "As I'd expect, higher verbal scores correlate strongly with higher math scores; what is a bit more surprising is the fact that there is a negative correlation between rate and both math and verbal scores, which suggests that the more people who take the SATs in a state, the lower their average SAT scores. This is not terribly surprising if you consider that in states where fewer students take it, it's likely those are the more advanced students (since it is a requirement for college entry at many 4-year colleges, especially the higher-ranked ones). I'm intrigued by the lack of middle values for Rate, Math scores, *and* Verbal scores. I am also intrigued by the outlier in the Math vs Verbal scores - one state has a particularly low Math score considering its moderate Verbal score. In fact, this state has the lowest score, despite having a low rate of SAT-taking. It may be interesting to learn more about this state to see if there are policies in place that might influence this."
   ]
  },
  {
   "cell_type": "markdown",
   "metadata": {},
   "source": [
    "##### 21. Create box plots for each variable. "
   ]
  },
  {
   "cell_type": "code",
   "execution_count": 21,
   "metadata": {
    "collapsed": false
   },
   "outputs": [
    {
     "data": {
      "text/plain": [
       "<matplotlib.text.Text at 0x11a92e8d0>"
      ]
     },
     "execution_count": 21,
     "metadata": {},
     "output_type": "execute_result"
    },
    {
     "data": {
      "image/png": "[encoded data removed]",
      "text/plain": [
       "<matplotlib.figure.Figure at 0x1195412d0>"
      ]
     },
     "metadata": {},
     "output_type": "display_data"
    },
    {
     "data": {
      "image/png": "[encoded data removed]",
      "text/plain": [
       "<matplotlib.figure.Figure at 0x11a454250>"
      ]
     },
     "metadata": {},
     "output_type": "display_data"
    }
   ],
   "source": [
    "plt.figure()\n",
    "plt.boxplot([columns['Math'], columns['Verbal']], labels=['Math', 'Verbal'])\n",
    "plt.title(\"Boxplots of SAT Math and Verbal Scores by State\\n\", size=20)\n",
    "plt.ylabel(\"Score\")\n",
    "plt.show() #JB optional, more used for interactive terminal viewing\n",
    "\n",
    "plt.figure()\n",
    "plt.boxplot(columns['Rate'])\n",
    "plt.title(\"Boxplot of Rate of SAT Taking by State\\n\", size=20)\n",
    "plt.ylabel(\"Rate\")\n",
    "plt.show()"
   ]
  },
  {
   "cell_type": "markdown",
   "metadata": {},
   "source": [
    "The boxplots of SAT scores show that there is significantly more spread in math scores than verbal scores."
   ]
  },
  {
   "cell_type": "markdown",
   "metadata": {},
   "source": [
    "##### BONUS: Using Tableau, create a heat map for each variable using a map of the US. "
   ]
  },
  {
   "cell_type": "code",
   "execution_count": 19,
   "metadata": {
    "collapsed": false
   },
   "outputs": [
    {
     "ename": "SyntaxError",
     "evalue": "invalid syntax (<ipython-input-19-dabce3b9c0a3>, line 1)",
     "output_type": "error",
     "traceback": [
      "\u001b[0;36m  File \u001b[0;32m\"<ipython-input-19-dabce3b9c0a3>\"\u001b[0;36m, line \u001b[0;32m1\u001b[0m\n\u001b[0;31m    see 'project_1_heatmaps.twb'\u001b[0m\n\u001b[0m                               ^\u001b[0m\n\u001b[0;31mSyntaxError\u001b[0m\u001b[0;31m:\u001b[0m invalid syntax\n"
     ]
    }
   ],
   "source": [
    "see 'project_1_heatmaps.twb'  #JB make markdown cell"
   ]
  },
  {
   "cell_type": "markdown",
   "metadata": {},
   "source": [
    "Score | 18/18\n",
    "------|------\n",
    "Identify: Discuss Data\t\t|\t\t3\n",
    "Acquire: Load Data with Python\t\t| 3\n",
    "Parse: Print Data\t\t\t| 3\n",
    "Mine: Sort Data\t\t\t\t| 3\n",
    "Refine: Analyze Data\t\t\t\t| 3\n",
    "Present: Visualize Data/Tableau\t\t\t| 3\n",
    "Bonus! Present: Create blog post summary | 0"
   ]
  },
  {
   "cell_type": "code",
   "execution_count": null,
   "metadata": {
    "collapsed": true
   },
   "outputs": [],
   "source": []
  }
 ],
 "metadata": {
  "anaconda-cloud": {},
  "kernelspec": {
   "display_name": "Python 2",
   "language": "python",
   "name": "python2"
  },
  "language_info": {
   "codemirror_mode": {
    "name": "ipython",
    "version": 2
   },
   "file_extension": ".py",
   "mimetype": "text/x-python",
   "name": "python",
   "nbconvert_exporter": "python",
   "pygments_lexer": "ipython2",
   "version": "2.7.12"
  }
 },
 "nbformat": 4,
 "nbformat_minor": 0
}
