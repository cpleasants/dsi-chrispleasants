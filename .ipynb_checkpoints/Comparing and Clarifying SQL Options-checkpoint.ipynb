{
 "cells": [
  {
   "cell_type": "markdown",
   "metadata": {},
   "source": [
    "# SQLite"
   ]
  },
  {
   "cell_type": "markdown",
   "metadata": {},
   "source": [
    "SQLite is unique in that it is *file*-based instead of *server*-based, so each database is simply a .DB or .sqlite file on your machine. There's nothing special you need to install, setup, configure, initialize, manage, or troubleshoot. You don't need to assign permissions and have usernames and passwords. It is very simple. Other **advantages** include:\n",
    "- Compact\n",
    "- Allows multiple datatypes in one column\n",
    "- You can save a file onto anything that can store data, email it to someone, or have save it on \"the cloud\" so you can use it on any computer.\n",
    "- Multiple programs can access a database at the same time (which is different from other serverless SQL options)\n",
    "- Open Source\n",
    "Some **disadvantages** are:\n",
    "- Some advanced SQL features are not supported (e.g. RIGHT OUTER JOIN or FOR EACH statements)\n",
    "- Fewer data types are supported (e.g. no DATE/DATETIME types)\n",
    "- Less secure (doesn't hide files, have users, or require passwords, permissions, etc.)\n",
    "- Not optimal for high-volume, big-data, and/or many-concurrent-user situations.\n",
    "For more on what it can best be used for: https://sqlite.org/whentouse.html"
   ]
  },
  {
   "cell_type": "markdown",
   "metadata": {},
   "source": [
    "### Connecting to SQLite with Python/Pandas"
   ]
  },
  {
   "cell_type": "markdown",
   "metadata": {},
   "source": [
    "##### Step 1: import sqlite3  (and pandas)\n",
    "This is the only thing you *need* to use sqlite in python. But, since we will pretty much always want to use pandas for analysis, let's import that too."
   ]
  },
  {
   "cell_type": "code",
   "execution_count": 2,
   "metadata": {
    "collapsed": true
   },
   "outputs": [],
   "source": [
    "import sqlite3\n",
    "import pandas as pd"
   ]
  },
  {
   "cell_type": "markdown",
   "metadata": {},
   "source": [
    "##### Step 2: Establish a connection"
   ]
  },
  {
   "cell_type": "code",
   "execution_count": null,
   "metadata": {
    "collapsed": true
   },
   "outputs": [],
   "source": [
    "#Notice this \"connection\" is basically just \n",
    "conn = sqlite3.connect('test_db.sqlite') "
   ]
  }
 ],
 "metadata": {
  "anaconda-cloud": {},
  "kernelspec": {
   "display_name": "Python [conda env:py27]",
   "language": "python",
   "name": "conda-env-py27-py"
  },
  "language_info": {
   "codemirror_mode": {
    "name": "ipython",
    "version": 2
   },
   "file_extension": ".py",
   "mimetype": "text/x-python",
   "name": "python",
   "nbconvert_exporter": "python",
   "pygments_lexer": "ipython2",
   "version": "2.7.12"
  }
 },
 "nbformat": 4,
 "nbformat_minor": 1
}
