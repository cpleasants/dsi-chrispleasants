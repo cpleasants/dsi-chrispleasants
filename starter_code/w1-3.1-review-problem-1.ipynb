{
 "cells": [
  {
   "cell_type": "markdown",
   "metadata": {},
   "source": [
    "### Review Problem 1\n",
    "\n",
    "For this problem you will be writing a function that accepts a dictionary and operates on it.\n",
    "\n",
    "Define a function:\n",
    "\n",
    "- Accept 1 argument, which is a dictionary.\n",
    "- Print the dictionary.\n",
    "- Iterate through the key:value pairs of the dictionary.\n",
    "    - For pairs where the key starts with a lowercase vowel, change the value to \"vowel\".\n",
    "    - For pairs where the key starts with a lowercase consonant, change the value to \"consonant\".\n",
    "    - Remove all other pairs from the dictionary.\n",
    "- Print the modified dictionary.\n",
    "- Return the modified dictionary.\n",
    "\n",
    "Notes/Hints:\n",
    " \n",
    "- ```string.ascii_lowercase``` is a string of all the lowercase letters in the alphabet. to use it you need to **import string** at the beginning of your script.\n",
    "- You can check if a character is in a string with **in**. \n",
    "    - ex: \n",
    "        ```python\n",
    "        if ch in st:\n",
    "        ```\n",
    "- You can create a new dictionary to store the modified return values or operate on the input dictionary.\n",
    "- You will likely need to check types in this using the ```type()``` python function:\n",
    "    ```python\n",
    "    type(1) == int\n",
    "    type(1.2) == float\n",
    "    type('ab') == str\n",
    "    type((1,2)) == tuple\n",
    "    type([3,2]) == list\n",
    "    type({'a':'b'}) == dict\n",
    "    ```"
   ]
  },
  {
   "cell_type": "code",
   "execution_count": 2,
   "metadata": {
    "collapsed": true
   },
   "outputs": [],
   "source": [
    "input_dict = {'list':[1,2,3,4], 'tuple':('cat', 'dog'), 'integer':1, \n",
    "              'float':99.99, 1:'integer', 2:'integer_2', 'Uppercase_string':'ABCD',\n",
    "              'CHARACTER':'C'}"
   ]
  },
  {
   "cell_type": "code",
   "execution_count": 11,
   "metadata": {
    "collapsed": false
   },
   "outputs": [
    {
     "name": "stdout",
     "output_type": "stream",
     "text": [
      "{'Uppercase_string': 'ABCD', 1: 'integer', 2: 'integer_2', 'tuple': ('cat', 'dog'), 'integer': 1, 'CHARACTER': 'C', 'float': 99.99, 'list': [1, 2, 3, 4]}\n",
      "{'integer': 'vowel', 'float': 'consonant', 'list': 'consonant', 'tuple': 'consonant'}\n"
     ]
    },
    {
     "data": {
      "text/plain": [
       "{'float': 'consonant',\n",
       " 'integer': 'vowel',\n",
       " 'list': 'consonant',\n",
       " 'tuple': 'consonant'}"
      ]
     },
     "execution_count": 11,
     "metadata": {},
     "output_type": "execute_result"
    }
   ],
   "source": [
    "def consonants_and_vowels(dictionary):\n",
    "    print dictionary\n",
    "    vowels = ['a', 'e', 'i', 'o', 'u']\n",
    "    new_dict = {}\n",
    "    for key, value in dictionary.iteritems():\n",
    "        if key == str(key).lower():\n",
    "            if key[0] in vowels:\n",
    "                new_dict[key] = 'vowel'\n",
    "            else:\n",
    "                new_dict[key] = 'consonant'\n",
    "    print new_dict\n",
    "    return new_dict\n",
    "consonants_and_vowels(input_dict)"
   ]
  },
  {
   "cell_type": "code",
   "execution_count": null,
   "metadata": {
    "collapsed": true
   },
   "outputs": [],
   "source": []
  }
 ],
 "metadata": {
  "anaconda-cloud": {},
  "kernelspec": {
   "display_name": "Python [conda env:py27]",
   "language": "python",
   "name": "conda-env-py27-py"
  },
  "language_info": {
   "codemirror_mode": {
    "name": "ipython",
    "version": 2
   },
   "file_extension": ".py",
   "mimetype": "text/x-python",
   "name": "python",
   "nbconvert_exporter": "python",
   "pygments_lexer": "ipython2",
   "version": "2.7.12"
  }
 },
 "nbformat": 4,
 "nbformat_minor": 0
}
